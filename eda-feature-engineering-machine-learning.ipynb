{
 "cells": [
  {
   "cell_type": "markdown",
   "metadata": {
    "_cell_guid": "b1076dfc-b9ad-4769-8c92-a6c4dae69d19",
    "_uuid": "8f2839f25d086af736a60e9eeb907d3b93b6e0e5"
   },
   "source": [
    "# Adult Income : Exploratory Analysis And Precition   \n",
    "\n",
    "This notebook has been created to help you go through the steps of a Machine Learning project Life-Cicle, from Business Understanding to presenting the final result to the Business.  \n",
    "\n",
    "## 1. Business Understanding \n",
    "## 2. Data aquisition  \n",
    "          Automatique Data aquisition  \n",
    "          Convert data into a Pandas Data Frame\n",
    "          \n",
    "## 3- Data Munging  \n",
    "          Treating missing values\n",
    "          Working with outliers\n",
    "          \n",
    "## 4- Exploratory Data Analysis \n",
    "          Univariate Analysis      \n",
    "          Bivariate analysis           \n",
    "          \n",
    "## 5- Feature Engineering \n",
    "          Derived Features\n",
    "          Categorical Feature encoding\n",
    "          \n",
    "## 6- Preparation, Models and Evaluation    \n",
    "          Preparation\n",
    "          Models and Evaluation  \n",
    "          \n",
    "## 7- Next Step  \n",
    "\n"
   ]
  },
  {
   "cell_type": "markdown",
   "metadata": {
    "_cell_guid": "79c7e3d0-c299-4dcb-8224-4455121ee9b0",
    "_uuid": "d629ff2d2480ee46fbb7e2d37f6b5fab8052498a",
    "collapsed": true
   },
   "source": [
    "## 1- Business Understanding  \n",
    "Our data contains an individual's annual income results based on various factors (Education level, Occupation,Gender, Age, etc.). \n",
    "Given a new individual, our goal is to predict if that person makes more or less than 50K. "
   ]
  },
  {
   "cell_type": "markdown",
   "metadata": {},
   "source": [
    "## 2- Data Acquisition  \n",
    "We are going to acquire our dataset into **text** format, after downloading it from the **[UCI Machine Learning](https://archive.ics.uci.edu/ml/datasets/adult)** website. Here are the following libraries that we will be using to acquire the dataset and perform all the preprocessing and analysis.  "
   ]
  },
  {
   "cell_type": "code",
   "execution_count": null,
   "metadata": {},
   "outputs": [],
   "source": [
    "import requests\n",
    "import os"
   ]
  },
  {
   "cell_type": "code",
   "execution_count": null,
   "metadata": {},
   "outputs": [],
   "source": [
    "# This function will be used to acquire the data from the UCI website\n",
    "def aquire_data(path_to_data, data_urls):\n",
    "    if not os.path.exists(path_to_data):\n",
    "        os.mkdir(path_to_data)\n",
    "        \n",
    "    for url in data_urls:\n",
    "        data = requests.get(url).content\n",
    "        filename = os.path.join(path_to_data, os.path.basename(url))\n",
    "        with open(filename, 'wb') as file: \n",
    "            file.write(data)"
   ]
  },
  {
   "cell_type": "code",
   "execution_count": null,
   "metadata": {},
   "outputs": [],
   "source": [
    "data_urls = [\"https://archive.ics.uci.edu/ml/machine-learning-databases/adult/adult.data\",\n",
    "             \"https://archive.ics.uci.edu/ml/machine-learning-databases/adult/adult.names\",\n",
    "             \"https://archive.ics.uci.edu/ml/machine-learning-databases/adult/adult.test\"]\n",
    "\n",
    "aquire_data('data', data_urls)"
   ]
  },
  {
   "cell_type": "code",
   "execution_count": null,
   "metadata": {},
   "outputs": [],
   "source": [
    "# Check the success of accessing the data\n",
    "print('Output n° {}\\n'.format(1))\n",
    "! find data"
   ]
  },
  {
   "cell_type": "markdown",
   "metadata": {},
   "source": [
    "We can notice that all our data have been acquired from the UCI website. Here we have :  \n",
    "* **adult.names**: which corresponds to the different column names   \n",
    "* **adult.data**: corresponds to all the observations in the training data.  \n",
    "* **data.test**: corresponds to all the observation in the test data  \n"
   ]
  },
  {
   "cell_type": "code",
   "execution_count": null,
   "metadata": {},
   "outputs": [],
   "source": [
    "column_names = [\"Age\", \"Workclass\", \"fnlwgt\", \"Education\", \"Education-Num\", \n",
    "                \"Martial Status\", \"Occupation\", \"Relationship\", \"Race\", \"Sex\", \n",
    "                \"Capital-Gain\", \"Capital-Loss\", \"Hours-per-week\", \"Country\", \"Income\"] \n"
   ]
  },
  {
   "cell_type": "markdown",
   "metadata": {},
   "source": [
    "### Convert Data into a Pandas Data Frame  "
   ]
  },
  {
   "cell_type": "code",
   "execution_count": null,
   "metadata": {},
   "outputs": [],
   "source": [
    "import pandas as pd\n",
    "import numpy as np"
   ]
  },
  {
   "cell_type": "markdown",
   "metadata": {},
   "source": [
    "Here we are going to acquire the training and the test datasets. \n",
    "The corresponding column names have been specified in the previous **column_names** variable. Then, we use the regular expression **' \\*, \\*'** to trim all the whitespaces we can encounter in our datasets. As all the missing values have been specificied by **?**, so, **na_values** is used to take them into consideration during the data loading. Finally we specify **engine='python'** to avoid the warning that comes after using regular expression syntax.  "
   ]
  },
  {
   "cell_type": "code",
   "execution_count": null,
   "metadata": {},
   "outputs": [],
   "source": [
    "train = pd.read_csv('data/adult.data', names=column_names, sep=' *, *', na_values='?', \n",
    "                   engine='python')\n",
    "test = pd.read_csv('data/adult.test', names=column_names, sep=' *, *', skiprows=1, \n",
    "                   engine='python', na_values='?')"
   ]
  },
  {
   "cell_type": "code",
   "execution_count": null,
   "metadata": {},
   "outputs": [],
   "source": [
    "test.Income.unique() "
   ]
  },
  {
   "cell_type": "code",
   "execution_count": null,
   "metadata": {},
   "outputs": [],
   "source": [
    "train.Income.unique()"
   ]
  },
  {
   "cell_type": "markdown",
   "metadata": {},
   "source": [
    "We need to transform the **Income** column value for test data, in order to remove the **\".\"** at the end  "
   ]
  },
  {
   "cell_type": "code",
   "execution_count": null,
   "metadata": {},
   "outputs": [],
   "source": [
    "test.Income = np.where(test.Income == '<=50K.', '<=50K', '>50K')"
   ]
  },
  {
   "cell_type": "code",
   "execution_count": null,
   "metadata": {},
   "outputs": [],
   "source": [
    "# Concatenate train and test. We will split it before the training phase \n",
    "df = pd.concat((train, test), axis=0)"
   ]
  },
  {
   "cell_type": "code",
   "execution_count": null,
   "metadata": {},
   "outputs": [],
   "source": [
    "df.Income.unique()"
   ]
  },
  {
   "cell_type": "code",
   "execution_count": null,
   "metadata": {},
   "outputs": [],
   "source": [
    "print('Output n° {}\\n'.format(2))\n",
    "\n",
    "'''\n",
    "First 5 observations\n",
    "'''\n",
    "df.head()"
   ]
  },
  {
   "cell_type": "code",
   "execution_count": null,
   "metadata": {},
   "outputs": [],
   "source": [
    "print('Output n° {}\\n'.format(3))\n",
    "\n",
    "'''\n",
    "Last 5 observations\n",
    "'''\n",
    "df.tail()"
   ]
  },
  {
   "cell_type": "code",
   "execution_count": null,
   "metadata": {},
   "outputs": [],
   "source": [
    "print('Output n° {}\\n'.format(4))\n",
    "\n",
    "print('Our data contains {} observations and {} columns.'.format(df.shape[0],\n",
    "                                                                df.shape[1]))"
   ]
  },
  {
   "cell_type": "markdown",
   "metadata": {},
   "source": [
    "## 3- Data Munging \n",
    "In this step, we will perform two main tasks.  \n",
    "* **Dealing with missing values**    \n",
    "During data collection, it is very common to face missing data problem, that can occur for many reasons (confidentiality, error,etc.). So, it is very important to understand those problems, in order to fill them using appropriate techniques before applying any Machine Learning algorithm.    \n",
    "\n",
    "\n",
    "* **Dealing with outliers**     *\n",
    "Outliers are those values that are far away from the normal values that can be observed in the whole data. They can introduce high bias in our final model performance, and can even lead us to taking wrong conclusion during the analysis step.  \n",
    "\n",
    "#### A- Treating missing values   \n",
    "We will use pandas **isnull()** function to look at all the missing values for each column.  "
   ]
  },
  {
   "cell_type": "code",
   "execution_count": null,
   "metadata": {},
   "outputs": [],
   "source": [
    "print('Output n° {}\\n'.format(5))\n",
    "print(df.isnull().sum())"
   ]
  },
  {
   "cell_type": "markdown",
   "metadata": {},
   "source": [
    "To the left, we have the name of the features and the number of missing values to the right. We can see that:   \n",
    "* **Workclass** has 1836 missing values   \n",
    "* **Occupation** has 1843 missing values  \n",
    "* **Country** has 583 missing values   \n",
    "\n",
    "To deal with all the missing data, we couuld think of removing all the records (rows/observations) with those missing values. But, this technique could not be a better choice for our case, because we could lose much more data. To do so, we will use the following technique :  \n",
    "* Replace missing data of categorical columns data with the mode value (most occuring category) of that column.   \n",
    "* Replace missing numerical columns data with the median value of that column. Here we could use the mean instead of median, but the mean is very prompt to outliers (extreme values).     \n",
    "\n",
    "To be able to identify which columns has which type, we can use pandas dtype() function.   \n",
    "\n"
   ]
  },
  {
   "cell_type": "code",
   "execution_count": null,
   "metadata": {},
   "outputs": [],
   "source": [
    "print('Output n° {}\\n'.format(6))\n",
    "print(df.dtypes)"
   ]
  },
  {
   "cell_type": "markdown",
   "metadata": {},
   "source": [
    "To the left, we have the columns name, and their corresponding types to the right. So, we can see that the columns with missing values (discussed previously) are all categorical data (object).    \n",
    "Then, we can have a look at all the distincs (unique) values in each columns with pandas **unique()** function.  "
   ]
  },
  {
   "cell_type": "code",
   "execution_count": null,
   "metadata": {},
   "outputs": [],
   "source": [
    "# Workclass  \n",
    "print('Output n° {}\\n'.format(7))\n",
    "print('Number of missing values: {}'.format(len(df['Workclass'].unique())))\n",
    "print(df['Workclass'].unique())"
   ]
  },
  {
   "cell_type": "markdown",
   "metadata": {},
   "source": [
    "Workclass has 9 unique values including **nan** (missing value)"
   ]
  },
  {
   "cell_type": "code",
   "execution_count": null,
   "metadata": {},
   "outputs": [],
   "source": [
    "# Occupation  \n",
    "print(print('Output n° {}\\n'.format(8)))\n",
    "print('Number of missing values: {}'.format(len(df['Occupation'].unique())))\n",
    "print(df['Occupation'].unique())"
   ]
  },
  {
   "cell_type": "markdown",
   "metadata": {},
   "source": [
    "The Occupation column has 15 unique values, including **nan** "
   ]
  },
  {
   "cell_type": "code",
   "execution_count": null,
   "metadata": {},
   "outputs": [],
   "source": [
    "# Country  \n",
    "print('Output n° {}\\n'.format(9))\n",
    "print('Number of missing values: {}'.format(len(df['Country'].unique())))\n",
    "print(df['Country'].unique())\n"
   ]
  },
  {
   "cell_type": "markdown",
   "metadata": {},
   "source": [
    "The Country column has 42 unique values, including **nan** "
   ]
  },
  {
   "cell_type": "markdown",
   "metadata": {},
   "source": [
    "We know all the columns with missing values, and their type. We also have an idea of the unique values of each of those columns, now, we can perform the missing values replacement process.   \n",
    "\n",
    "To do so, we will create a helper function that will perform this task for all the columns using python **statistics** built-in function."
   ]
  },
  {
   "cell_type": "code",
   "execution_count": null,
   "metadata": {},
   "outputs": [],
   "source": [
    "import statistics as stat"
   ]
  },
  {
   "cell_type": "code",
   "execution_count": null,
   "metadata": {},
   "outputs": [],
   "source": [
    "def fill_categorical_missing(data, column):\n",
    "    data.loc[data[column].isnull(), column] = stat.mode(data[column])"
   ]
  },
  {
   "cell_type": "code",
   "execution_count": null,
   "metadata": {},
   "outputs": [],
   "source": [
    "cols_to_fill = ['Workclass', 'Occupation', 'Country']\n",
    "\n",
    "for col in cols_to_fill:\n",
    "    fill_categorical_missing(df, col)\n",
    "\n",
    "print('Output n° {}\\n'.format(10))\n",
    "\n",
    "# Check the final data if there is any missing values \n",
    "print(df.isnull().sum())"
   ]
  },
  {
   "cell_type": "markdown",
   "metadata": {},
   "source": [
    "We can see that all the values to the right are equal to zero, which means that we have no missing values in our dataset.    "
   ]
  },
  {
   "cell_type": "markdown",
   "metadata": {},
   "source": [
    "### B- Dealing with outliers  \n",
    "To be able to identify outliers in our dataset, we will use **seaborn** **boxplot** to all our numerical columns, and show the final result with **matplotlib**'s **show()** function.    \n",
    "We the help of the **Output n°6 (i.e print(df.dtypes))**, we can see all our numrical columns; But a better way to look at them is to apply pandas **describe** function, which gives more statistical information about all the numerical columns.  \n",
    "\n",
    "In this part, we are going to use the copy of our training dataset for outliers analysis, then create a helper function that will finally be applied to the original training data for outliers removal."
   ]
  },
  {
   "cell_type": "code",
   "execution_count": null,
   "metadata": {},
   "outputs": [],
   "source": [
    "df_cp = df.copy()"
   ]
  },
  {
   "cell_type": "code",
   "execution_count": null,
   "metadata": {},
   "outputs": [],
   "source": [
    "df_cp.head()"
   ]
  },
  {
   "cell_type": "code",
   "execution_count": null,
   "metadata": {},
   "outputs": [],
   "source": [
    "df_cp.describe()"
   ]
  },
  {
   "cell_type": "markdown",
   "metadata": {},
   "source": [
    "We have 6 numerical columns (Age to Hours-per-week). To the left, we have many statistical information such as :  \n",
    "* **count**: for the total number of observation for each column.   \n",
    "* mean: the mean value of each column   \n",
    "* std: the standard deviation    \n",
    "* 25%, 50% and 75% are quantiles. \n",
    "\n",
    "With the quantiles, min and max, the dataset can be splitted into 4 buckets:  \n",
    "* Bucket 1: below 25% (e.g) for **Age** column, 25% of people are under **28 years old**.\n",
    "* Bucket 2: between 25% and 50% (e.g), 25% of them (50%-25%) are between **28 and 37 years old**.  \n",
    "* Bucket 3: between 50% and 75% (e.g), 25% of them are between **37 and 48 years old** .  \n",
    "* Bucket 4: between above 75% (e.g), 25% of them are over **48 years old**.  \n",
    "\n",
    "**Then all the values beyond 1.5xIQR are considered as outliers. ** \n",
    "IQR = Inter Quartile Range = 75th - 25th.   \n",
    "\n",
    "This images gives a better understanding of a boxplot.   \n",
    "![](https://www.researchgate.net/publication/318986284/figure/fig1/AS:525404105646080@1502277508250/Boxplot-with-outliers-The-upper-and-lower-fences-represent-values-more-and-less-than.png)\n",
    "\n",
    "Then we will create a helper function that will remove all the outliers from our dataset. But, before that, let have a look at the boxplot.   "
   ]
  },
  {
   "cell_type": "code",
   "execution_count": null,
   "metadata": {},
   "outputs": [],
   "source": [
    "import seaborn as sns \n",
    "import numpy as np\n",
    "import matplotlib.pyplot as plt"
   ]
  },
  {
   "cell_type": "code",
   "execution_count": null,
   "metadata": {},
   "outputs": [],
   "source": [
    "# Age \n",
    "sns.boxplot(y='Age', data=df_cp)\n",
    "plt.show()"
   ]
  },
  {
   "cell_type": "markdown",
   "metadata": {},
   "source": [
    "Let calculate 0-100th percentile to find a correct percentile value for removal of outliers"
   ]
  },
  {
   "cell_type": "code",
   "execution_count": null,
   "metadata": {},
   "outputs": [],
   "source": [
    "def ten_to_ten_percentiles(data, column):\n",
    "    for i in range(0,100,10):\n",
    "        var = data[column].values\n",
    "        var = np.sort(var, axis=None)\n",
    "        print('{} percentile value is {}'.format(i, var[int(len(var) * (float(i)/100))]))\n",
    "    print('100 percentile value is {}'.format(var[-1]))"
   ]
  },
  {
   "cell_type": "code",
   "execution_count": null,
   "metadata": {},
   "outputs": [],
   "source": [
    "ten_to_ten_percentiles(df_cp, 'Age')"
   ]
  },
  {
   "cell_type": "markdown",
   "metadata": {},
   "source": [
    "We could see from the boxplot of Age that there is no extreme value. Then after checking with percentile values, we have a confirmation of our remark. "
   ]
  },
  {
   "cell_type": "code",
   "execution_count": null,
   "metadata": {},
   "outputs": [],
   "source": [
    "#calculating column values at each percntile 90, 91, 92, 93, 94, 95, 96, 97, 98, 99, 100\n",
    "def percentiles_from_90(data, column):\n",
    "    for i in range(90,100):\n",
    "        var = data[column].values\n",
    "        var = np.sort(var, axis=None)\n",
    "        print('{} percentile value is {}'.format(i, var[int(len(var) * (float(i)/100))]))\n",
    "    print('100 percentile value is {}'.format(var[-1]))"
   ]
  },
  {
   "cell_type": "markdown",
   "metadata": {},
   "source": [
    "Going deeper with the percentile values, we can have more information. So, here is a function that will give us the percentile values for each values from 99 to 100 percentile. "
   ]
  },
  {
   "cell_type": "code",
   "execution_count": null,
   "metadata": {},
   "outputs": [],
   "source": [
    "#calculating colunm values at each percntile 99.0,99.1,99.2,99.3,99.4,99.5,99.6,99.7,99.8,99.9,100\n",
    "def percentiles_from_99(data, column):\n",
    "    for i in np.arange(0.0, 1.0, 0.1):\n",
    "        var =data[column].values\n",
    "        var = np.sort(var,axis = None)\n",
    "        print(\"{} percentile value is {}\".format(99+i,var[int(len(var)*(float(99+i)/100))]))\n",
    "    print(\"100 percentile value is \",var[-1])"
   ]
  },
  {
   "cell_type": "code",
   "execution_count": null,
   "metadata": {},
   "outputs": [],
   "source": [
    "# Education-Num\n",
    "sns.boxplot(y='Education-Num', data=df_cp)\n",
    "plt.show()"
   ]
  },
  {
   "cell_type": "code",
   "execution_count": null,
   "metadata": {},
   "outputs": [],
   "source": [
    "ten_to_ten_percentiles(df_cp, 'Education-Num')"
   ]
  },
  {
   "cell_type": "markdown",
   "metadata": {},
   "source": [
    "There is no anomalies with Education number. "
   ]
  },
  {
   "cell_type": "code",
   "execution_count": null,
   "metadata": {},
   "outputs": [],
   "source": [
    "# Capital-Gain\n",
    "sns.boxplot(y='Capital-Gain', data=df_cp)\n",
    "plt.show()"
   ]
  },
  {
   "cell_type": "code",
   "execution_count": null,
   "metadata": {},
   "outputs": [],
   "source": [
    "ten_to_ten_percentiles(df_cp, 'Capital-Gain')"
   ]
  },
  {
   "cell_type": "code",
   "execution_count": null,
   "metadata": {},
   "outputs": [],
   "source": [
    "percentiles_from_90(df_cp, 'Capital-Gain')"
   ]
  },
  {
   "cell_type": "code",
   "execution_count": null,
   "metadata": {},
   "outputs": [],
   "source": [
    "percentiles_from_99(df_cp, 'Capital-Gain')"
   ]
  },
  {
   "cell_type": "code",
   "execution_count": null,
   "metadata": {},
   "outputs": [],
   "source": [
    "# Removing the outliers based on 99.5th percentile of Capital-Gain\n",
    "df_cp = df_cp[df_cp['Capital-Gain']<=34095]"
   ]
  },
  {
   "cell_type": "code",
   "execution_count": null,
   "metadata": {},
   "outputs": [],
   "source": [
    "# Capital-Gain\n",
    "sns.boxplot(y='Capital-Gain', data=df_cp)\n",
    "plt.show()"
   ]
  },
  {
   "cell_type": "code",
   "execution_count": null,
   "metadata": {},
   "outputs": [],
   "source": [
    "# Capital-Loss\n",
    "sns.boxplot(y='Capital-Loss', data=df_cp)\n",
    "plt.show()"
   ]
  },
  {
   "cell_type": "code",
   "execution_count": null,
   "metadata": {},
   "outputs": [],
   "source": [
    "ten_to_ten_percentiles(df_cp, 'Capital-Loss')"
   ]
  },
  {
   "cell_type": "code",
   "execution_count": null,
   "metadata": {},
   "outputs": [],
   "source": [
    "percentiles_from_90(df_cp, 'Capital-Loss')"
   ]
  },
  {
   "cell_type": "code",
   "execution_count": null,
   "metadata": {},
   "outputs": [],
   "source": [
    "percentiles_from_99(df_cp, 'Capital-Loss')"
   ]
  },
  {
   "cell_type": "markdown",
   "metadata": {},
   "source": [
    "No special extreme value here as we could notice for Capital-Gain. "
   ]
  },
  {
   "cell_type": "code",
   "execution_count": null,
   "metadata": {},
   "outputs": [],
   "source": [
    "# Hours-per-week\n",
    "sns.boxplot(y='Hours-per-week', data=df_cp)\n",
    "plt.show()"
   ]
  },
  {
   "cell_type": "code",
   "execution_count": null,
   "metadata": {},
   "outputs": [],
   "source": [
    "ten_to_ten_percentiles(df_cp, 'Hours-per-week')"
   ]
  },
  {
   "cell_type": "markdown",
   "metadata": {},
   "source": [
    "There is no special extreme value here. "
   ]
  },
  {
   "cell_type": "markdown",
   "metadata": {},
   "source": [
    "Now, we are going to create a helper function in order to remove all the outliers, based in our previous univariate analysis.  "
   ]
  },
  {
   "cell_type": "code",
   "execution_count": null,
   "metadata": {},
   "outputs": [],
   "source": [
    "def remove_outliers(data):\n",
    "    a = data.shape[0]\n",
    "    print(\"Number of salary records = {}\".format(a))\n",
    "        \n",
    "    temp_data = data[data['Capital-Gain']<=34095]\n",
    "    b = temp_data.shape[0]\n",
    "    \n",
    "    print('Number of outliers from the Capital-Gain column= {}'.format(a - b))\n",
    "        \n",
    "    data = data[(data['Capital-Gain']<=34095)]\n",
    "    \n",
    "    print('Total outlies removed = {}'.format(a-b))\n",
    "    print('-----'*10)\n",
    "    return data"
   ]
  },
  {
   "cell_type": "code",
   "execution_count": null,
   "metadata": {},
   "outputs": [],
   "source": [
    "print('Removing all the outliers from the data')\n",
    "print('-----'*10)\n",
    "df_no_outliers = remove_outliers(df)\n",
    "\n",
    "proportion_remaing_data = float(len(df_no_outliers)) / len(df)\n",
    "print('Proportion of observation that remain after removing outliers = {}'.format(proportion_remaing_data))"
   ]
  },
  {
   "cell_type": "markdown",
   "metadata": {},
   "source": [
    "After removing the outliers from out data, still 99.49% of the dataset remain present. "
   ]
  },
  {
   "cell_type": "markdown",
   "metadata": {},
   "source": [
    "## 4- Exploratory Data Analysis   "
   ]
  },
  {
   "cell_type": "markdown",
   "metadata": {},
   "source": [
    "First thing first! \n",
    "Let's take a look at the number of people who make more that 50K and those who don't"
   ]
  },
  {
   "cell_type": "code",
   "execution_count": null,
   "metadata": {},
   "outputs": [],
   "source": [
    "df_no_outliers.Income.unique()"
   ]
  },
  {
   "cell_type": "code",
   "execution_count": null,
   "metadata": {},
   "outputs": [],
   "source": [
    "palette = {\"<=50K\":\"r\", \">50K\":\"g\"}\n",
    "sns.countplot(x=\"Income\", data=df_no_outliers, hue=\"Income\", palette=palette)"
   ]
  },
  {
   "cell_type": "markdown",
   "metadata": {},
   "source": [
    "We can notice that we have 24720 adults who make less than 50K dollars and only 7841 of them make more than 50K dollars. So,only 24% of adult make more than 50K dollars."
   ]
  },
  {
   "cell_type": "markdown",
   "metadata": {},
   "source": [
    "#### A- Numerical Data   \n",
    "For this part, we will be performing centrality measure (mean, median) and dispersion measures (range, percentiles, variance, standard deviation).  \n",
    "All those information can be found with pandas **describe()** function.  "
   ]
  },
  {
   "cell_type": "code",
   "execution_count": null,
   "metadata": {},
   "outputs": [],
   "source": [
    "df_no_outliers.describe()"
   ]
  },
  {
   "cell_type": "markdown",
   "metadata": {},
   "source": [
    "From this result, we can see that our features are in different scales, so that information will be useful for feature engineering step. For simple visualization purpose, we can plot the probability density of all those features. "
   ]
  },
  {
   "cell_type": "markdown",
   "metadata": {},
   "source": [
    "##### A.1- Univariate Analysis "
   ]
  },
  {
   "cell_type": "code",
   "execution_count": null,
   "metadata": {},
   "outputs": [],
   "source": [
    "# Age  \n",
    "df_no_outliers.Age.plot(kind='kde', title='Density plot for Age', color='c')"
   ]
  },
  {
   "cell_type": "markdown",
   "metadata": {},
   "source": [
    "Here, we have a positive skewed distribution for Age feature. "
   ]
  },
  {
   "cell_type": "code",
   "execution_count": null,
   "metadata": {},
   "outputs": [],
   "source": [
    "# Capital-Gain  \n",
    "df_no_outliers['Capital-Gain'].plot(kind='kde', title='Density plot for Capital-Gain', color='c')"
   ]
  },
  {
   "cell_type": "code",
   "execution_count": null,
   "metadata": {},
   "outputs": [],
   "source": [
    "# Capital-Loss  \n",
    "df_no_outliers['Capital-Loss'].plot(kind='kde', title='Density plot for Capital-Loss', color='c')"
   ]
  },
  {
   "cell_type": "code",
   "execution_count": null,
   "metadata": {},
   "outputs": [],
   "source": [
    "# Capital-Loss  \n",
    "df_no_outliers['Hours-per-week'].plot(kind='kde', title='Density plot for Hours-per-week', color='c')"
   ]
  },
  {
   "cell_type": "markdown",
   "metadata": {},
   "source": [
    "We need to deal with the problem of distribution for all our numerical data values in the feature engineering part. "
   ]
  },
  {
   "cell_type": "markdown",
   "metadata": {},
   "source": [
    "##### A.2- Bivariate analysis  \n",
    "We will try to determine the correlation between some numerical data."
   ]
  },
  {
   "cell_type": "code",
   "execution_count": null,
   "metadata": {},
   "outputs": [],
   "source": [
    "# Capital-Gain and Education-Num \n",
    "# use scatter plot for bi-variate distribution\n",
    "df_no_outliers.plot.scatter(x='Education-Num', y='Capital-Gain', color='c', title='scatter plot : Education-Num vs Capital-Gain');"
   ]
  },
  {
   "cell_type": "markdown",
   "metadata": {},
   "source": [
    "We have a positive relationship between the number of year of education and the Capital Gain. The more educated you are, your are likely to have more capital. "
   ]
  },
  {
   "cell_type": "code",
   "execution_count": null,
   "metadata": {},
   "outputs": [],
   "source": [
    "# Hours-per-week and Education-Num \n",
    "# use scatter plot for bi-variate distribution\n",
    "df_no_outliers.plot.scatter(x='Education-Num', y='Hours-per-week', color='c', title='scatter plot : Education-Num vs Hours-per-week');"
   ]
  },
  {
   "cell_type": "markdown",
   "metadata": {},
   "source": [
    "There is no interesting pattern. "
   ]
  },
  {
   "cell_type": "code",
   "execution_count": null,
   "metadata": {},
   "outputs": [],
   "source": [
    "# Capital-Gain and Hours-per-week\n",
    "# use scatter plot for bi-variate distribution\n",
    "df_no_outliers.plot.scatter(x='Hours-per-week', y='Capital-Gain', color='c', title='scatter plot : Hours-per-week vs Capital-Gain');"
   ]
  },
  {
   "cell_type": "markdown",
   "metadata": {},
   "source": [
    "We can not identify any interesting pattern from this visualization. "
   ]
  },
  {
   "cell_type": "code",
   "execution_count": null,
   "metadata": {},
   "outputs": [],
   "source": [
    "# Capital-Gain and Capital-Loss\n",
    "# use scatter plot for bi-variate distribution\n",
    "df_no_outliers.plot.scatter(x='Capital-Gain', y='Capital-Loss', color='c', title='scatter plot : Capital-Loss vs Capital-Gain');"
   ]
  },
  {
   "cell_type": "markdown",
   "metadata": {},
   "source": [
    "People without any capital Gain lose a lot of money, which is obvious, because without any capital Gain, you would need to borrow with interest, and then keep **\"surviving\".** "
   ]
  },
  {
   "cell_type": "code",
   "execution_count": null,
   "metadata": {},
   "outputs": [],
   "source": [
    "numerical_cols = ['int64']  \n",
    "plt.figure(figsize=(10, 10))\n",
    "sns.heatmap( \n",
    "            df_no_outliers.select_dtypes(include=numerical_cols).corr(),\n",
    "            cmap=plt.cm.RdBu, \n",
    "            vmax=1.0,\n",
    "            linewidths=0.1,\n",
    "            linecolor='white', \n",
    "            square=True,\n",
    "            annot=True\n",
    ")"
   ]
  },
  {
   "cell_type": "markdown",
   "metadata": {},
   "source": [
    "From the correlation matrix, we can see that the level of relationship is very low between the numerical features.  "
   ]
  },
  {
   "cell_type": "markdown",
   "metadata": {},
   "source": [
    "\n",
    "#### B- Categorical Data"
   ]
  },
  {
   "cell_type": "markdown",
   "metadata": {},
   "source": [
    "There are many explorations we can do in order to have a better understanding of the data.   \n",
    "Here are some possibilities we could have:  \n",
    "* B.1- Income VS Occupation for countries in each continent\n",
    "* B.2- Income VS Workclass for countries in each continent\n",
    "* B.3- Income VS Marital Status for countries in each continent\n",
    "* B.4- Mean Capital Gain VS Martial Status for each continent\n"
   ]
  },
  {
   "cell_type": "code",
   "execution_count": null,
   "metadata": {},
   "outputs": [],
   "source": [
    "df_no_outliers.head()"
   ]
  },
  {
   "cell_type": "markdown",
   "metadata": {},
   "source": [
    "We have many countries from different continent. For better visualization, it might be interesting to create a new column **Continent** in order to easily group information per continent and the corresponding countries. "
   ]
  },
  {
   "cell_type": "code",
   "execution_count": null,
   "metadata": {},
   "outputs": [],
   "source": [
    "df_no_outliers['Country'].unique()"
   ]
  },
  {
   "cell_type": "markdown",
   "metadata": {},
   "source": [
    "There is country name called **South** which is definitly an error. It could be considered as **continent**, then we could associate in with the corresponding continent. But, here is the problem: we have both **South-America**, **South-Asia** that could be possible values. In order to avoid including more errors in our data, it might be better to remove the corresponding observations in case that action does not lead to loosing too much data.  "
   ]
  },
  {
   "cell_type": "code",
   "execution_count": null,
   "metadata": {},
   "outputs": [],
   "source": [
    "south_df = df_no_outliers[df_no_outliers['Country']=='South']\n",
    "a = south_df.shape[0]\n",
    "b = df_no_outliers.shape[0]\n",
    "\n",
    "print('{} rows corresponds to South, which represents {}% of the data'.format(a, (1.0*a/b)*100))"
   ]
  },
  {
   "cell_type": "markdown",
   "metadata": {},
   "source": [
    "We can remove all the corresponding rows for **Country == South** because, it corresponds to only 0.244% of the original dataset. "
   ]
  },
  {
   "cell_type": "code",
   "execution_count": null,
   "metadata": {},
   "outputs": [],
   "source": [
    "south_index = south_df.index \n",
    "df_no_outliers.drop(south_index, inplace=True)"
   ]
  },
  {
   "cell_type": "markdown",
   "metadata": {},
   "source": [
    "We are going to perform the following preprocessing:  \n",
    "* Outlying-US(Guam-USVI-etc) ==> Outlying-US   \n",
    "* Trinadad&Tobago ==> Trinadad-Tobago  \n",
    "* Hong ==> Hong-Kong"
   ]
  },
  {
   "cell_type": "code",
   "execution_count": null,
   "metadata": {},
   "outputs": [],
   "source": [
    "# Changing the corresponding values.\n",
    "df_no_outliers.loc[df_no_outliers['Country']=='Outlying-US(Guam-USVI-etc)', 'Country'] = 'Outlying-US'\n",
    "df_no_outliers.loc[df_no_outliers['Country']=='Trinadad&Tobago', 'Country'] = 'Trinadad-Tobago'\n",
    "df_no_outliers.loc[df_no_outliers['Country']=='Hong', 'Country'] = 'Hong-Kong'"
   ]
  },
  {
   "cell_type": "code",
   "execution_count": null,
   "metadata": {},
   "outputs": [],
   "source": [
    "# Check if the process worked\n",
    "df_no_outliers['Country'].unique()"
   ]
  },
  {
   "cell_type": "markdown",
   "metadata": {},
   "source": [
    "We can clearly see that the changes have been made. "
   ]
  },
  {
   "cell_type": "code",
   "execution_count": null,
   "metadata": {},
   "outputs": [],
   "source": [
    "asia = ['India', 'Iran', 'Philippines', 'Cambodia', 'Thailand', 'Laos', 'Taiwan', \n",
    "       'China', 'Japan', 'Vietnam', 'Hong-Kong']  \n",
    "\n",
    "america = ['United-States', 'Cuba', 'Jamaica', 'Mexico', 'Puerto-Rico', 'Honduras', \n",
    "           'Canada', 'Columbia', 'Ecuador', 'Haiti', 'Dominican-Republic', \n",
    "           'El-Salvador', 'Guatemala', 'Peru', 'Outlying-US', 'Trinadad-Tobago', \n",
    "           'Nicaragua', '']  \n",
    "\n",
    "europe = ['England', 'Germany', 'Italy', 'Poland', 'Portugal', 'France', 'Yugoslavia', \n",
    "          'Scotland', 'Greece', 'Ireland', 'Hungary', 'Holand-Netherlands'] "
   ]
  },
  {
   "cell_type": "code",
   "execution_count": null,
   "metadata": {},
   "outputs": [],
   "source": [
    "# Now, create a dictionary to map each country to a Corresponding continent. \n",
    "continents = {country: 'Asia' for country in asia}\n",
    "continents.update({country: 'America' for country in america})\n",
    "continents.update({country: 'Europe' for country in europe})"
   ]
  },
  {
   "cell_type": "code",
   "execution_count": null,
   "metadata": {},
   "outputs": [],
   "source": [
    "# Then use Pandas map function to map continents to countries  \n",
    "df_no_outliers['Continent'] = df_no_outliers['Country'].map(continents)"
   ]
  },
  {
   "cell_type": "markdown",
   "metadata": {},
   "source": [
    "Here, we have the continents corresponding to all the existing contries in our dataset."
   ]
  },
  {
   "cell_type": "code",
   "execution_count": null,
   "metadata": {},
   "outputs": [],
   "source": [
    "df_no_outliers['Continent'].unique()"
   ]
  },
  {
   "cell_type": "markdown",
   "metadata": {},
   "source": [
    "## B.1- Income VS Occupation for countries in each continent  \n",
    "I created a helper fonction in order to preprocess for each country in one shot. "
   ]
  },
  {
   "cell_type": "code",
   "execution_count": null,
   "metadata": {},
   "outputs": [],
   "source": [
    "def Occupation_VS_Income(continent):\n",
    "    choice = df_no_outliers[df_no_outliers['Continent']==continent] \n",
    "    countries = list(choice['Country'].unique())\n",
    "\n",
    "    for country in countries:\n",
    "        pd.crosstab(choice[choice['Country']==country].Occupation, choice[choice['Country']==country].Income).plot(kind='bar', \n",
    "                                                                                                                       title='Income VS Occupation in {}'.format(country))"
   ]
  },
  {
   "cell_type": "markdown",
   "metadata": {},
   "source": [
    "### B.1.1- For Asia"
   ]
  },
  {
   "cell_type": "code",
   "execution_count": null,
   "metadata": {},
   "outputs": [],
   "source": [
    "Occupation_VS_Income('Asia')"
   ]
  },
  {
   "cell_type": "markdown",
   "metadata": {},
   "source": [
    "### B.1.2- For America"
   ]
  },
  {
   "cell_type": "code",
   "execution_count": null,
   "metadata": {},
   "outputs": [],
   "source": [
    "Occupation_VS_Income('America')"
   ]
  },
  {
   "cell_type": "markdown",
   "metadata": {},
   "source": [
    "### B.1.3- For Europe"
   ]
  },
  {
   "cell_type": "code",
   "execution_count": null,
   "metadata": {},
   "outputs": [],
   "source": [
    "Occupation_VS_Income('Europe')"
   ]
  },
  {
   "cell_type": "markdown",
   "metadata": {},
   "source": [
    "## B.2- Income VS Workclass for countries in each continent  "
   ]
  },
  {
   "cell_type": "code",
   "execution_count": null,
   "metadata": {},
   "outputs": [],
   "source": [
    "def Workclass_VS_Income(continent):\n",
    "    choice = df_no_outliers[df_no_outliers['Continent']==continent] \n",
    "    countries = list(choice['Country'].unique())\n",
    "\n",
    "    for country in countries:\n",
    "        pd.crosstab(choice[choice['Country']==country].Workclass, choice[choice['Country']==country].Income).plot(kind='bar', \n",
    "                                                                                                                       title='Income VS Workclass in {}'.format(country))"
   ]
  },
  {
   "cell_type": "markdown",
   "metadata": {},
   "source": [
    "### B.2.1- For Asia"
   ]
  },
  {
   "cell_type": "code",
   "execution_count": null,
   "metadata": {},
   "outputs": [],
   "source": [
    "Workclass_VS_Income('Asia')"
   ]
  },
  {
   "cell_type": "markdown",
   "metadata": {},
   "source": [
    "### B.2.2- For America"
   ]
  },
  {
   "cell_type": "code",
   "execution_count": null,
   "metadata": {},
   "outputs": [],
   "source": [
    "Workclass_VS_Income('America')"
   ]
  },
  {
   "cell_type": "markdown",
   "metadata": {},
   "source": [
    "### B.2.3- For Europe"
   ]
  },
  {
   "cell_type": "code",
   "execution_count": null,
   "metadata": {},
   "outputs": [],
   "source": [
    "Workclass_VS_Income('Europe')"
   ]
  },
  {
   "cell_type": "markdown",
   "metadata": {},
   "source": [
    "## B.3- Income VS Marital Status for countries in each continent  "
   ]
  },
  {
   "cell_type": "code",
   "execution_count": null,
   "metadata": {},
   "outputs": [],
   "source": [
    "def MaritalStatus_VS_Income(continent):\n",
    "    choice = df_no_outliers[df_no_outliers['Continent']==continent] \n",
    "    countries = list(choice['Country'].unique())\n",
    "\n",
    "    for country in countries:\n",
    "        pd.crosstab(choice[choice['Country']==country]['Martial Status'], choice[choice['Country']==country].Income).plot(kind='bar', \n",
    "                                                                                                                       title='Income VS Workclass in {}'.format(country))"
   ]
  },
  {
   "cell_type": "markdown",
   "metadata": {},
   "source": [
    "### B.3.1- For Asia"
   ]
  },
  {
   "cell_type": "code",
   "execution_count": null,
   "metadata": {},
   "outputs": [],
   "source": [
    "MaritalStatus_VS_Income('Asia')"
   ]
  },
  {
   "cell_type": "markdown",
   "metadata": {},
   "source": [
    "## B.4- Mean Capital Gain VS Martial Status for each continent"
   ]
  },
  {
   "cell_type": "markdown",
   "metadata": {},
   "source": [
    "To accomplish this task; I will create a new dataframe containing the grouping result of Continent, Contient, Marital Status and the **mean value of Capital Gain**"
   ]
  },
  {
   "cell_type": "code",
   "execution_count": null,
   "metadata": {},
   "outputs": [],
   "source": [
    "# reset_index(): to convert to aggregation result to a pandas dataframe.\n",
    "agg_df = df_no_outliers.groupby(['Continent','Country', 'Martial Status'])['Capital-Gain'].mean().reset_index()"
   ]
  },
  {
   "cell_type": "code",
   "execution_count": null,
   "metadata": {},
   "outputs": [],
   "source": [
    "agg_df['Mean_Capital_Gain'] = agg_df['Capital-Gain']\n",
    "agg_df.drop('Capital-Gain', axis=1, inplace=True)"
   ]
  },
  {
   "cell_type": "code",
   "execution_count": null,
   "metadata": {},
   "outputs": [],
   "source": [
    "agg_df.head()"
   ]
  },
  {
   "cell_type": "code",
   "execution_count": null,
   "metadata": {},
   "outputs": [],
   "source": [
    "import seaborn as sns"
   ]
  },
  {
   "cell_type": "code",
   "execution_count": null,
   "metadata": {},
   "outputs": [],
   "source": [
    "def Mean_TotCapital_VS_Marital_Status(continent):\n",
    "    choice = agg_df[agg_df['Continent']==continent] \n",
    "    countries = list(choice['Country'].unique())\n",
    "\n",
    "    for country in countries:\n",
    "        df_c = choice[choice['Country']==country]\n",
    "        ax = sns.catplot(x='Martial Status', y='Mean_Capital_Gain', \n",
    "                         kind='bar', data=df_c)\n",
    "\n",
    "        ax.fig.suptitle('Country: {}'.format(country))\n",
    "        ax.fig.autofmt_xdate()"
   ]
  },
  {
   "cell_type": "markdown",
   "metadata": {},
   "source": [
    "### B.4.1- For Asia"
   ]
  },
  {
   "cell_type": "code",
   "execution_count": null,
   "metadata": {},
   "outputs": [],
   "source": [
    "Mean_TotCapital_VS_Marital_Status('Asia')"
   ]
  },
  {
   "cell_type": "markdown",
   "metadata": {},
   "source": [
    "### B.4.2- For America"
   ]
  },
  {
   "cell_type": "code",
   "execution_count": null,
   "metadata": {},
   "outputs": [],
   "source": [
    "Mean_TotCapital_VS_Marital_Status('America')"
   ]
  },
  {
   "cell_type": "markdown",
   "metadata": {},
   "source": [
    "### B.4.3- For Europe"
   ]
  },
  {
   "cell_type": "code",
   "execution_count": null,
   "metadata": {},
   "outputs": [],
   "source": [
    "Mean_TotCapital_VS_Marital_Status('Europe')"
   ]
  },
  {
   "cell_type": "markdown",
   "metadata": {},
   "source": [
    "## 5- Feature Engineering   \n",
    "This is one of the most crucial aspect for a Data Science project. It is a process of transforming the raw data to better representative \n",
    "features in order to create better predictive models. \n",
    "\n",
    "#### A- Derived Features   \n",
    "Sometimes, it is important to perform some transformations on the features/columns in order to reduce the number of original data columns. \n",
    "Let's start looking at our columns."
   ]
  },
  {
   "cell_type": "markdown",
   "metadata": {},
   "source": [
    "##### A.1- Education and Education-Num  "
   ]
  },
  {
   "cell_type": "code",
   "execution_count": null,
   "metadata": {},
   "outputs": [],
   "source": [
    "edu = df_no_outliers.Education.unique()\n",
    "eduNum = df_no_outliers['Education-Num'].unique()\n",
    "print('Education: \\nTotal category:{}\\nValues: {}\\n'.format(len(edu),list(edu)))\n",
    "print('Education Num: \\nTotal Education-Num:{}\\nValues: {}'.format(len(eduNum),\n",
    "                                                                  list(eduNum)))"
   ]
  },
  {
   "cell_type": "markdown",
   "metadata": {},
   "source": [
    "We can see that The **Education-Num** seems to be the numerical representation of **Education**, and also the same Total number (16). To do so, we will need only one of them, not both columns.  \n",
    "Let's check some observations (rows) to verify our hypothesis if there is a corrrespondance between **Education-Num** and **Education**.   \n",
    "Then we can simply visualize the two columns in order to check the correspondance between them.  "
   ]
  },
  {
   "cell_type": "code",
   "execution_count": null,
   "metadata": {},
   "outputs": [],
   "source": [
    "ax = sns.catplot(x='Education', y='Education-Num', kind='bar', data=df_no_outliers)\n",
    "ax.fig.suptitle('Numerical Representation of Educations')\n",
    "ax.fig.autofmt_xdate()"
   ]
  },
  {
   "cell_type": "markdown",
   "metadata": {},
   "source": [
    "From the previous plot, we can see that \n",
    "* Bachelor <==> 13  \n",
    "* HS-grad <==> 9\n",
    "* 7th-8th <==> 4   \n",
    "* 9th <==> 5    \n",
    "* Preschool <==> 1 \n",
    "* etc.  \n",
    "Based on those information, we will need only one column to represent the **level of education**, and in our case,   \n",
    "we will choose **Education-Num** (remove **Education** column) which corresponds to the numerical representation.  "
   ]
  },
  {
   "cell_type": "code",
   "execution_count": null,
   "metadata": {},
   "outputs": [],
   "source": [
    "# Finally remove the Education column  \n",
    "df_no_outliers.drop('Education', axis=1, inplace=True)"
   ]
  },
  {
   "cell_type": "markdown",
   "metadata": {},
   "source": [
    "##### A.2- Capital-Loss and Capital-Gain  \n",
    "From those two features, we can create a new column called **Capital-State** that will be the difference between Capital-Gain and Capital-Loss.  \n",
    "Then we will remove those two features.  "
   ]
  },
  {
   "cell_type": "code",
   "execution_count": null,
   "metadata": {},
   "outputs": [],
   "source": [
    "df_no_outliers['Capital-State'] = df_no_outliers['Capital-Gain'] - df_no_outliers['Capital-Loss']"
   ]
  },
  {
   "cell_type": "code",
   "execution_count": null,
   "metadata": {},
   "outputs": [],
   "source": [
    "# Then remove Capital-Gain and Capital-Loss. \n",
    "df_no_outliers.drop(['Capital-Gain', 'Capital-Loss'], axis=1, inplace=True)"
   ]
  },
  {
   "cell_type": "code",
   "execution_count": null,
   "metadata": {},
   "outputs": [],
   "source": [
    "'''\n",
    "Let not forget to drop the 'Continent' column we added for \n",
    "visualization purpose. \n",
    "'''\n",
    "df_no_outliers.drop('Continent', axis=1, inplace=True)"
   ]
  },
  {
   "cell_type": "code",
   "execution_count": null,
   "metadata": {},
   "outputs": [],
   "source": [
    "df_no_outliers.head(3)"
   ]
  },
  {
   "cell_type": "markdown",
   "metadata": {},
   "source": [
    "##### A.3- Age State (Adult or Child)   \n",
    "A person older than 18 is an adult. Otherwise he/she is a child.  "
   ]
  },
  {
   "cell_type": "code",
   "execution_count": null,
   "metadata": {},
   "outputs": [],
   "source": [
    "# AgeState based on Age\n",
    "df_no_outliers['AgeState'] = np.where(df_no_outliers['Age'] >= 18, 'Adult', 'Child')"
   ]
  },
  {
   "cell_type": "code",
   "execution_count": null,
   "metadata": {},
   "outputs": [],
   "source": [
    "# AgeState Counts  \n",
    "df_no_outliers['AgeState'].value_counts()"
   ]
  },
  {
   "cell_type": "code",
   "execution_count": null,
   "metadata": {},
   "outputs": [],
   "source": [
    "sns.countplot(x='AgeState', data=df_no_outliers)"
   ]
  },
  {
   "cell_type": "markdown",
   "metadata": {},
   "source": [
    "**fnlwgt** column is not an important feature. "
   ]
  },
  {
   "cell_type": "code",
   "execution_count": null,
   "metadata": {},
   "outputs": [],
   "source": [
    "df_no_outliers.drop('fnlwgt', axis=1, inplace=True)"
   ]
  },
  {
   "cell_type": "code",
   "execution_count": null,
   "metadata": {},
   "outputs": [],
   "source": [
    "df_no_outliers.head()"
   ]
  },
  {
   "cell_type": "code",
   "execution_count": null,
   "metadata": {},
   "outputs": [],
   "source": [
    "# Information about our data\n",
    "df_no_outliers.info()"
   ]
  },
  {
   "cell_type": "markdown",
   "metadata": {},
   "source": [
    "#### B- Categorical Feature encoding    \n",
    "A machine learning model only works with numerical features. To do so, we need to encode all our categorical features. Those features are represented by **object**  with the help of the previous **info** command.    \n",
    "We are going to perform the **One Hot Ending** method on all the categorical features by using Pandas **get_dummies()** function.  \n",
    "We are not going to take in consideration **Income** column, because it is the column we try to predict.  "
   ]
  },
  {
   "cell_type": "code",
   "execution_count": null,
   "metadata": {},
   "outputs": [],
   "source": [
    "# Columns: Workclass, Martial Status Occupation, Relationship, Race, Sex, Country, AgeState\n",
    "df_no_outliers = pd.get_dummies(df_no_outliers, columns=['Workclass', 'Martial Status', 'Occupation', \n",
    "                                 'Relationship', 'Race', 'Sex', 'Country', 'AgeState'])"
   ]
  },
  {
   "cell_type": "code",
   "execution_count": null,
   "metadata": {},
   "outputs": [],
   "source": [
    "df_no_outliers['Income'].unique()"
   ]
  },
  {
   "cell_type": "code",
   "execution_count": null,
   "metadata": {},
   "outputs": [],
   "source": [
    "'''\n",
    "1: For those who make more than 50K \n",
    "0: For those who don't\n",
    "'''\n",
    "df_no_outliers['Income'] = np.where(df_no_outliers['Income'] =='>50K', 1, 0)"
   ]
  },
  {
   "cell_type": "code",
   "execution_count": null,
   "metadata": {},
   "outputs": [],
   "source": [
    "# Reorder columns : In order to have 'Income' as last feature.\n",
    "columns = [column for column in df_no_outliers.columns if column != 'Income']\n",
    "columns = columns + ['Income'] \n",
    "df = df_no_outliers[columns]"
   ]
  },
  {
   "cell_type": "code",
   "execution_count": null,
   "metadata": {},
   "outputs": [],
   "source": [
    "# Information about our data\n",
    "df.info()"
   ]
  },
  {
   "cell_type": "markdown",
   "metadata": {},
   "source": [
    "## 6- Preparation, Models and Evaluation    \n",
    "#### 6.1- Data Preparation   \n",
    "We need to split our dataset for training and testing data.  \n",
    "80% of the data will be used for training and 20% for testing."
   ]
  },
  {
   "cell_type": "code",
   "execution_count": null,
   "metadata": {},
   "outputs": [],
   "source": [
    "y = df.Income.ravel()\n",
    "X = df.drop('Income', axis=1).as_matrix().astype('float')"
   ]
  },
  {
   "cell_type": "code",
   "execution_count": null,
   "metadata": {},
   "outputs": [],
   "source": [
    "print('X shape: {} | y shape: {}'.format(X.shape, y.shape))"
   ]
  },
  {
   "cell_type": "code",
   "execution_count": null,
   "metadata": {},
   "outputs": [],
   "source": [
    "from sklearn.model_selection import train_test_split"
   ]
  },
  {
   "cell_type": "code",
   "execution_count": null,
   "metadata": {},
   "outputs": [],
   "source": [
    "X_train, X_test, y_train, y_test = train_test_split(X, y, test_size=0.2, random_state=0)"
   ]
  },
  {
   "cell_type": "code",
   "execution_count": null,
   "metadata": {},
   "outputs": [],
   "source": [
    "print('X train shape: {} | y shape: {}'.format(X_train.shape, y_train.shape))\n",
    "print('X test shape: {} | y shape: {}'.format(X_test.shape, y_test.shape))"
   ]
  },
  {
   "cell_type": "markdown",
   "metadata": {},
   "source": [
    "#### 6.2- Models & Evaluation   \n",
    "Before building any machine learning model. It is important to build a baseline model first, in order judge the performance of the upcoming models.  "
   ]
  },
  {
   "cell_type": "markdown",
   "metadata": {},
   "source": [
    "##### Baseline Model"
   ]
  },
  {
   "cell_type": "code",
   "execution_count": null,
   "metadata": {},
   "outputs": [],
   "source": [
    "from sklearn.dummy import DummyClassifier"
   ]
  },
  {
   "cell_type": "code",
   "execution_count": null,
   "metadata": {},
   "outputs": [],
   "source": [
    "dummy_clf = DummyClassifier(strategy='most_frequent', random_state=0)"
   ]
  },
  {
   "cell_type": "code",
   "execution_count": null,
   "metadata": {},
   "outputs": [],
   "source": [
    "# Train the model \n",
    "dummy_clf.fit(X_train, y_train)"
   ]
  },
  {
   "cell_type": "code",
   "execution_count": null,
   "metadata": {},
   "outputs": [],
   "source": [
    "print('Score of baseline model : {0:.2f}'.format(dummy_clf.score(X_test, y_test)))"
   ]
  },
  {
   "cell_type": "markdown",
   "metadata": {},
   "source": [
    "##### Logistic Regression "
   ]
  },
  {
   "cell_type": "code",
   "execution_count": null,
   "metadata": {},
   "outputs": [],
   "source": [
    "from sklearn.linear_model import LogisticRegression\n",
    "from sklearn.model_selection import GridSearchCV"
   ]
  },
  {
   "cell_type": "code",
   "execution_count": null,
   "metadata": {},
   "outputs": [],
   "source": [
    "lr_clf = LogisticRegression(random_state=0)\n",
    "parameters = {'C':[1.0, 10.0, 50.0, 100.0, 1000.0], 'penalty' : ['l1','l2']}\n",
    "lr_clf = GridSearchCV(lr_clf, param_grid=parameters, cv=3)"
   ]
  },
  {
   "cell_type": "code",
   "execution_count": null,
   "metadata": {},
   "outputs": [],
   "source": [
    "lr_clf.fit(X_train, y_train)"
   ]
  },
  {
   "cell_type": "code",
   "execution_count": null,
   "metadata": {},
   "outputs": [],
   "source": [
    "lr_clf.best_params_"
   ]
  },
  {
   "cell_type": "code",
   "execution_count": null,
   "metadata": {},
   "outputs": [],
   "source": [
    "print('Best score : {0:.2f}'.format(lr_clf.best_score_))"
   ]
  },
  {
   "cell_type": "code",
   "execution_count": null,
   "metadata": {},
   "outputs": [],
   "source": [
    "print('Score for logistic regression - on test : {0:.2f}'.format(lr_clf.score(X_test, y_test)))"
   ]
  },
  {
   "cell_type": "markdown",
   "metadata": {},
   "source": [
    "## 7- Next Step  \n",
    "* Feature Normalization  and Standardization  \n",
    "* Feature selection\n",
    "* Use different models: Ensemble Technics \n"
   ]
  },
  {
   "cell_type": "code",
   "execution_count": null,
   "metadata": {},
   "outputs": [],
   "source": []
  }
 ],
 "metadata": {
  "kernelspec": {
   "display_name": "Python 3 (ipykernel)",
   "language": "python",
   "name": "python3"
  },
  "language_info": {
   "codemirror_mode": {
    "name": "ipython",
    "version": 3
   },
   "file_extension": ".py",
   "mimetype": "text/x-python",
   "name": "python",
   "nbconvert_exporter": "python",
   "pygments_lexer": "ipython3",
   "version": "3.7.0"
  }
 },
 "nbformat": 4,
 "nbformat_minor": 1
}

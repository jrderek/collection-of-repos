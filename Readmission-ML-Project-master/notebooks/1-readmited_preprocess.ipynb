{
 "cells": [
  {
   "cell_type": "markdown",
   "metadata": {
    "colab_type": "text",
    "id": "Wbepu01LHJoL"
   },
   "source": [
    "# Readmission Classification - Data Cleaning\n",
    "\n",
    "[Jose R. Zapata](https://joserzapata.github.io)\n",
    "- https://joserzapata.github.io\n",
    "- https://twitter.com/joserzapata\n",
    "- https://www.linkedin.com/in/jose-ricardo-zapata-gonzalez/       \n"
   ]
  },
  {
   "cell_type": "markdown",
   "metadata": {
    "toc": true
   },
   "source": [
    "<h1>Contenido<span class=\"tocSkip\"></span></h1>\n",
    "<div class=\"toc\"><ul class=\"toc-item\"><li><span><a href=\"#Readmission-Classification---Data-Cleaning\" data-toc-modified-id=\"Readmission-Classification---Data-Cleaning-1\"><span class=\"toc-item-num\">1&nbsp;&nbsp;</span>Readmission Classification - Data Cleaning</a></span><ul class=\"toc-item\"><li><span><a href=\"#Introduction\" data-toc-modified-id=\"Introduction-1.1\"><span class=\"toc-item-num\">1.1&nbsp;&nbsp;</span>Introduction</a></span></li><li><span><a href=\"#Main-Objective\" data-toc-modified-id=\"Main-Objective-1.2\"><span class=\"toc-item-num\">1.2&nbsp;&nbsp;</span>Main Objective</a></span></li><li><span><a href=\"#Principal-References\" data-toc-modified-id=\"Principal-References-1.3\"><span class=\"toc-item-num\">1.3&nbsp;&nbsp;</span>Principal References</a></span><ul class=\"toc-item\"><li><span><a href=\"#Paper\" data-toc-modified-id=\"Paper-1.3.1\"><span class=\"toc-item-num\">1.3.1&nbsp;&nbsp;</span>Paper</a></span></li><li><span><a href=\"#Dataset\" data-toc-modified-id=\"Dataset-1.3.2\"><span class=\"toc-item-num\">1.3.2&nbsp;&nbsp;</span>Dataset</a></span></li><li><span><a href=\"#Data-description\" data-toc-modified-id=\"Data-description-1.3.3\"><span class=\"toc-item-num\">1.3.3&nbsp;&nbsp;</span>Data description</a></span></li></ul></li><li><span><a href=\"#Paper-Insigths\" data-toc-modified-id=\"Paper-Insigths-1.4\"><span class=\"toc-item-num\">1.4&nbsp;&nbsp;</span>Paper Insigths</a></span></li></ul></li><li><span><a href=\"#Import-libraries\" data-toc-modified-id=\"Import-libraries-2\"><span class=\"toc-item-num\">2&nbsp;&nbsp;</span>Import libraries</a></span></li><li><span><a href=\"#Load-Datasets\" data-toc-modified-id=\"Load-Datasets-3\"><span class=\"toc-item-num\">3&nbsp;&nbsp;</span>Load Datasets</a></span></li><li><span><a href=\"#Data-Description-and-Cleaning\" data-toc-modified-id=\"Data-Description-and-Cleaning-4\"><span class=\"toc-item-num\">4&nbsp;&nbsp;</span>Data Description and Cleaning</a></span><ul class=\"toc-item\"><li><span><a href=\"#Remove-duplicated-and-Not-necesary-Information\" data-toc-modified-id=\"Remove-duplicated-and-Not-necesary-Information-4.1\"><span class=\"toc-item-num\">4.1&nbsp;&nbsp;</span>Remove duplicated and Not necesary Information</a></span></li><li><span><a href=\"#Handling-Missing-Values\" data-toc-modified-id=\"Handling-Missing-Values-4.2\"><span class=\"toc-item-num\">4.2&nbsp;&nbsp;</span>Handling Missing Values</a></span><ul class=\"toc-item\"><li><span><a href=\"#Removing-missing-values\" data-toc-modified-id=\"Removing-missing-values-4.2.1\"><span class=\"toc-item-num\">4.2.1&nbsp;&nbsp;</span>Removing missing values</a></span><ul class=\"toc-item\"><li><span><a href=\"#race-column-analysis\" data-toc-modified-id=\"race-column-analysis-4.2.1.1\"><span class=\"toc-item-num\">4.2.1.1&nbsp;&nbsp;</span>race column analysis</a></span></li></ul></li><li><span><a href=\"#Save-intermediated-transformed-data\" data-toc-modified-id=\"Save-intermediated-transformed-data-4.2.2\"><span class=\"toc-item-num\">4.2.2&nbsp;&nbsp;</span>Save intermediated transformed data</a></span></li></ul></li></ul></li><li><span><a href=\"#Partial-Results\" data-toc-modified-id=\"Partial-Results-5\"><span class=\"toc-item-num\">5&nbsp;&nbsp;</span>Partial Results</a></span></li><li><span><a href=\"#References\" data-toc-modified-id=\"References-6\"><span class=\"toc-item-num\">6&nbsp;&nbsp;</span>References</a></span></li></ul></div>"
   ]
  },
  {
   "cell_type": "markdown",
   "metadata": {
    "colab_type": "text",
    "id": "Wa9xYivpD4Eo"
   },
   "source": [
    "## Introduction\n",
    "\n",
    "\n",
    "Analyze factors related to readmission as well as other outcomes pertaining to patients in order to classify a patient-hospital outcome\n",
    "\n",
    "3 different outputs:\n",
    "\n",
    "1. No readmission\n",
    "\n",
    "2. A readmission in less than `30` days (this situation is not good, because maybe your treatment was not appropriate);\n",
    "\n",
    "3. A readmission in more than 30 days (this one is not so good as well the last one, however, the reason could be the state of the patient.\n",
    "\n",
    "\n",
    "## Main Objective\n",
    "\n",
    "> **How effective was the treatment received in hospital?**\n",
    "\n",
    "## Principal References\n",
    "\n",
    "### Paper\n",
    "\n",
    "Beata Strack, Jonathan P. DeShazo, Chris Gennings, Juan L. Olmo, Sebastian Ventura, Krzysztof J. Cios, and John N. Clore, “Impact of HbA1c Measurement on Hospital Readmission Rates: Analysis of 70,000 Clinical Database Patient Records,” BioMed Research International, vol. 2014, Article ID 781670, 11 pages, 2014.\n",
    "\n",
    "https://www.hindawi.com/journals/bmri/2014/781670/\n",
    "\n",
    "### Dataset\n",
    "\n",
    "https://archive.ics.uci.edu/ml/datasets/Diabetes+130-US+hospitals+for+years+1999-2008#\n",
    "\n",
    "### Data description\n",
    "\n",
    "https://www.hindawi.com/journals/bmri/2014/781670/tab1/"
   ]
  },
  {
   "cell_type": "markdown",
   "metadata": {},
   "source": [
    "## Paper Insigths\n",
    "\n",
    "Multivariable logistic regression was used to fit the relationship between the measurement of HbA1c and **early readmission** while controlling for covariates such as demographics, severity and type of the disease, and type of admission.\n",
    "\n",
    "The measurement of HbA1c was performed infrequently (18.4%) in the inpatient setting.\n",
    "\n",
    "The statistical model suggests that the relationship between the probability of readmission and the HbA1c measurement depends on the primary diagnosis.\n",
    "\n",
    "The data suggest further that the greater attention to diabetes reflected in HbA1c determination may improve patient outcomes and lower cost of inpatient care.\n",
    "\n",
    "Databases of clinical data contain valuable but heterogeneous and difficult data in terms of missing values, incomplete or inconsistent records, and high dimensionality understood not only by number of features but also their complexity.\n",
    "\n",
    "preliminary analysis and preprocessing of the data were performed resulting in retaining only these features (attributes) and encounters that could be used in further analysis, that is, contain sufficient information.\n",
    "\n",
    "** criteria for extracting the data**\n",
    "\n",
    "1.\tIt is an inpatient encounter (a hospital admission).\n",
    "2.\tIt is a “diabetic” encounter, that is, one during which any kind of diabetes was entered to the system as a diagnosis.\n",
    "3.\tThe length of stay was at least 1 day and at most 14 days.\n",
    "4.\tLaboratory tests were performed during the encounter.\n",
    "5.\tMedications were administered during the encounter.\n",
    "\n",
    "Criteria  were applied to remove admissions for procedures and so forth, which were of less than 23 hours of duration and in which changes in diabetes management were less likely to have occurred. \n",
    "\n",
    "It should be noted that the diabetic encounters are not all encounters of diabetic patients but rather only these encounters where diabetes was coded as an existing health condition.\n",
    "\n",
    "primarily interested in factors that lead to early readmission\n",
    "\n",
    "- “readmitted,” if the patient was readmitted within 30 days of discharge\n",
    "- “otherwise,” which covers both readmission after 30 days and no readmission at all.\n",
    "\n",
    "Note that 30 days was chosen based on criteria often used by funding agencies\n",
    "\n",
    "Hemoglobin A1c (HbA1c) is an important measure of glucose control, which is widely applied to measure performance of diabetes care.\n",
    "\n",
    "The database contains detailed information about dosage but is restricted only to medications administered during the encounter. It was not possible to track any preadmission and discharge medications.\n",
    "\n",
    "They considered four groups of encounters: (1) no HbA1c test performed, (2) HbA1c performed and in normal range, (3) HbA1c performed and the result is greater than 8% with no change in diabetic medications, and (4) HbA1c performed, result is greater than 8%, and diabetic medication was changed.\n",
    "\n",
    "**Data information**\n",
    "\n",
    "the original database contains incomplete, redundant, and noisy information as expected in any real-world data. weight (97% values missing), payer code (40%), and medical specialty (47%). Weight attribute was not included in further analysis. Payer code was removed. Medical specialty attribute was maintained.\n",
    "\n",
    "The preliminary dataset contained multiple inpatient visits for some patients and the observations could **not be considered as statistically independent**\n",
    "\n",
    "removed all encounters that resulted in either **discharge to a hospice** or **patient death**, to avoid biasing our analysis.\n",
    "\n",
    "Processed dataset consists of hospital admissions of length between one and 14 days that did not result in a patient death or discharge to a hospice.\n",
    "\n",
    "**Each encounter corresponds to a unique patient diagnosed with diabetes, although the primary diagnosis may be different.**\n",
    "\n",
    "During each of the analyzed encounters, lab tests were ordered and medication was administered\n",
    "\n",
    "Each step was followed by tests for significance of variables with higher degree of freedom, an analysis of deviance table, and sensitivity analysis which was done by removing one variable at the time and looking at changes of beta-coefficients.\n",
    "\n",
    "the gender variable was not significant in the core model (without HbA1c), it was removed\n",
    "\n",
    "When tested for sensitivity, the values of beta-coefficients in the model changed by less than 35%, with an exception of the time in the hospital, medical specialty, age, and primary diagnosis that changed by 77%, 47%, 49%, and 65%, respectively, when the discharge disposition was removed. This suggests a relationship between these variables.\n"
   ]
  },
  {
   "cell_type": "markdown",
   "metadata": {
    "colab_type": "text",
    "id": "MjPWhesSHJoO"
   },
   "source": [
    "# Import libraries"
   ]
  },
  {
   "cell_type": "code",
   "execution_count": 1,
   "metadata": {
    "colab": {},
    "colab_type": "code",
    "id": "ksQYJRZTHJoP"
   },
   "outputs": [],
   "source": [
    "import pandas as pd\n",
    "pd.options.plotting.backend = \"plotly\"\n",
    "import numpy as np"
   ]
  },
  {
   "cell_type": "markdown",
   "metadata": {
    "colab_type": "text",
    "id": "LM4dC7lBHJoT"
   },
   "source": [
    "# Load Datasets"
   ]
  },
  {
   "cell_type": "code",
   "execution_count": 2,
   "metadata": {
    "colab": {},
    "colab_type": "code",
    "id": "R2C-zrtBHJoT"
   },
   "outputs": [],
   "source": [
    "data_raw = pd.read_csv(\"../data/raw/diabetic_data.csv\")"
   ]
  },
  {
   "cell_type": "markdown",
   "metadata": {
    "colab_type": "text",
    "id": "5gnmm4vdHJoV"
   },
   "source": [
    "# Data Description and Cleaning\n",
    "\n",
    "Variable identification\n",
    "\n",
    "List of features and their descriptions in the initial dataset\n",
    "\n",
    "<table class=\"table\"><tbody><tr><td class=\"thead-hr\" colspan=\"4\"><hr></td></tr><tr class=\"thead\"><td align=\"left\">Feature name</td><td align=\"center\">Type</td><td align=\"left\">Description and values</td><td align=\"center\">% missing</td></tr><tr><td class=\"thead-hr\" colspan=\"4\"><hr></td></tr><tr><td align=\"left\">Encounter ID</td><td align=\"center\">Numeric</td><td align=\"left\">Unique identifier of an encounter</td><td align=\"center\">0%</td></tr><tr><td align=\"left\">Patient number</td><td align=\"center\">Numeric</td><td align=\"left\">Unique identifier of a patient</td><td align=\"center\">0%</td></tr><tr><td align=\"left\">Race</td><td align=\"center\">Nominal</td><td align=\"left\">Values: Caucasian, Asian, African American, Hispanic, and other</td><td align=\"center\">2%</td></tr><tr><td align=\"left\">Gender</td><td align=\"center\">Nominal</td><td align=\"left\">Values: male, female, and unknown/invalid</td><td align=\"center\">0%</td></tr><tr><td align=\"left\">Age</td><td align=\"center\">Nominal</td><td align=\"left\">Grouped in 10-year intervals: <svg height=\"14.85\" id=\"M2\" style=\"vertical-align:-1.95624pt\" version=\"1.1\" viewBox=\"0 0 5.9875002 14.85\" width=\"5.9875002\" xmlns=\"http://www.w3.org/2000/svg\" xmlns:xlink=\"http://www.w3.org/1999/xlink\">\n",
    "<g transform=\"matrix(.017,-0,0,-.017,.062,12.012)\"><path d=\"M290 -163h-170v866h170v-28q-79 -7 -94 -19.5t-15 -72.5v-627q0 -59 14.5 -71.5t94.5 -19.5v-28z\" id=\"x5B\"></path></g>\n",
    "</svg>0, 10), <svg height=\"14.85\" id=\"M3\" style=\"vertical-align:-1.95624pt\" version=\"1.1\" viewBox=\"0 0 5.9875002 14.85\" width=\"5.9875002\" xmlns=\"http://www.w3.org/2000/svg\" xmlns:xlink=\"http://www.w3.org/1999/xlink\">\n",
    "<g transform=\"matrix(.017,-0,0,-.017,.062,12.012)\"><path d=\"M290 -163h-170v866h170v-28q-79 -7 -94 -19.5t-15 -72.5v-627q0 -59 14.5 -71.5t94.5 -19.5v-28z\" id=\"x5B\"></path></g>\n",
    "</svg>10, 20), …, <svg height=\"14.85\" id=\"M4\" style=\"vertical-align:-1.95624pt\" version=\"1.1\" viewBox=\"0 0 5.9875002 14.85\" width=\"5.9875002\" xmlns=\"http://www.w3.org/2000/svg\" xmlns:xlink=\"http://www.w3.org/1999/xlink\">\n",
    "<g transform=\"matrix(.017,-0,0,-.017,.062,12.012)\"><path d=\"M290 -163h-170v866h170v-28q-79 -7 -94 -19.5t-15 -72.5v-627q0 -59 14.5 -71.5t94.5 -19.5v-28z\" id=\"x5B\"></path></g>\n",
    "</svg>90, 100)</td><td align=\"center\">0%</td></tr><tr><td align=\"left\">Weight</td><td align=\"center\">Numeric</td><td align=\"left\">Weight in pounds. </td><td align=\"center\">97%</td></tr><tr><td align=\"left\">Admission type</td><td align=\"center\">Nominal</td><td align=\"left\">Integer identifier corresponding to 9 distinct values, for example, emergency, urgent, elective, newborn, and not available</td><td align=\"center\">0%</td></tr><tr><td align=\"left\">Discharge disposition</td><td align=\"center\">Nominal</td><td align=\"left\">Integer identifier corresponding to 29 distinct values, for example, discharged to home, expired, and not available</td><td align=\"center\">0%</td></tr><tr><td align=\"left\">Admission source</td><td align=\"center\">Nominal</td><td align=\"left\">Integer identifier corresponding to 21 distinct values, for example, physician referral, emergency room, and transfer from a hospital</td><td align=\"center\">0%</td></tr><tr><td align=\"left\">Time in hospital</td><td align=\"center\">Numeric</td><td align=\"left\">Integer number of days between admission and discharge </td><td align=\"center\">0%</td></tr><tr><td align=\"left\">Payer code</td><td align=\"center\">Nominal</td><td align=\"left\">Integer identifier corresponding to 23 distinct values, for example, Blue Cross<i>/</i>Blue Shield, Medicare, and self-pay</td><td align=\"center\">52%</td></tr><tr><td align=\"left\">Medical specialty</td><td align=\"center\">Nominal</td><td align=\"left\">Integer identifier of a specialty of the admitting physician, corresponding to 84 distinct values, for example, cardiology, internal medicine,  family<i>/</i>general practice, and surgeon</td><td align=\"center\">53%</td></tr><tr><td align=\"left\">Number of lab procedures</td><td align=\"center\">Numeric</td><td align=\"left\">Number of lab tests performed during the encounter</td><td align=\"center\">0%</td></tr><tr><td align=\"left\">Number of  procedures</td><td align=\"center\">Numeric</td><td align=\"left\">Number of procedures (other than lab tests) performed during the encounter</td><td align=\"center\">0%</td></tr><tr><td align=\"left\">Number of  medications</td><td align=\"center\">Numeric</td><td align=\"left\">Number of distinct generic names administered during the encounter</td><td align=\"center\">0%</td></tr><tr><td align=\"left\">Number of outpatient visits</td><td align=\"center\">Numeric</td><td align=\"left\">Number of outpatient visits of the patient in the year preceding the encounter</td><td align=\"center\">0%</td></tr><tr><td align=\"left\">Number of emergency visits</td><td align=\"center\">Numeric</td><td align=\"left\">Number of emergency visits of the patient in the year preceding the encounter</td><td align=\"center\">0%</td></tr><tr><td align=\"left\">Number of inpatient visits</td><td align=\"center\">Numeric</td><td align=\"left\">Number of inpatient visits of the patient in the year preceding the encounter</td><td align=\"center\">0%</td></tr><tr><td align=\"left\">Diagnosis 1</td><td align=\"center\">Nominal</td><td align=\"left\">The primary diagnosis (coded as first three digits of ICD9); 848 distinct values</td><td align=\"center\">0%</td></tr><tr><td align=\"left\">Diagnosis 2</td><td align=\"center\">Nominal</td><td align=\"left\">Secondary diagnosis (coded as first three digits of ICD9); 923 distinct values</td><td align=\"center\">0%</td></tr><tr><td align=\"left\">Diagnosis 3</td><td align=\"center\">Nominal</td><td align=\"left\">Additional secondary diagnosis (coded as first three digits of ICD9); 954 distinct values</td><td align=\"center\">1%</td></tr><tr><td align=\"left\">Number of  diagnoses</td><td align=\"center\">Numeric</td><td align=\"left\">Number of diagnoses entered to the system</td><td align=\"center\">0%</td></tr><tr><td align=\"left\">Glucose serum test result </td><td align=\"center\">Nominal</td><td align=\"left\">Indicates the range of the result or if the test was not taken. Values: “&gt;200,” “&gt;300,” “normal,” and “none”  if not measured</td><td align=\"center\">0%</td></tr><tr><td align=\"left\">A1c test result</td><td align=\"center\">Nominal</td><td align=\"left\">Indicates the range of the result or if the test was not taken. Values: “&gt;8” if the result was greater than 8%,  “&gt;7” if the result was greater than 7% but less than 8%, “normal” if the result was less than 7%, and “none” if not measured.</td><td align=\"center\">\n",
    "\t\t\t\t\t\t\t\t\t0%</td></tr><tr><td align=\"left\">Change of medications</td><td align=\"center\">Nominal</td><td align=\"left\">Indicates if there was a change in diabetic medications (either dosage or generic name). Values: “change” and “no change”</td><td align=\"center\">0%</td></tr><tr><td align=\"left\">Diabetes medications</td><td align=\"center\">Nominal</td><td align=\"left\">Indicates if there was any diabetic medication prescribed. Values: “yes” and “no”</td><td align=\"center\">0%</td></tr><tr><td align=\"left\">24 features for medications  </td><td align=\"center\">Nominal</td><td align=\"left\">For the generic names: metformin, repaglinide, nateglinide, chlorpropamide, glimepiride, acetohexamide, glipizide, glyburide, tolbutamide, pioglitazone, rosiglitazone, acarbose, miglitol, troglitazone, tolazamide, examide, sitagliptin, insulin, glyburide-metformin, glipizide-metformin, glimepiride-pioglitazone, metformin-rosiglitazone, and metformin-pioglitazone, the feature indicates whether the drug was prescribed or there was a change in the dosage. Values: “up” if the dosage was increased during the encounter, “down” if the dosage was decreased, “steady” if the dosage did not change, and “no” if the drug was not  prescribed</td><td align=\"center\">0%</td></tr><tr><td align=\"left\">Readmitted</td><td align=\"center\">Nominal</td><td align=\"left\">Days to inpatient readmission. Values: “&lt;30” if the patient was readmitted in less than 30 days, “&gt;30” if the patient was readmitted in more than 30 days, and “No” for no record of readmission.</td><td align=\"center\">0%</td></tr><tr class=\"table-tr\"><td colspan=\"4\"><hr class=\"tbody-hr\"></td></tr></tbody></table>\n"
   ]
  },
  {
   "cell_type": "code",
   "execution_count": 3,
   "metadata": {
    "colab": {},
    "colab_type": "code",
    "id": "ZYzna68bHJoW",
    "tags": []
   },
   "outputs": [
    {
     "name": "stdout",
     "output_type": "stream",
     "text": [
      "<class 'pandas.core.frame.DataFrame'>\n",
      "RangeIndex: 101766 entries, 0 to 101765\n",
      "Data columns (total 50 columns):\n",
      " #   Column                    Non-Null Count   Dtype \n",
      "---  ------                    --------------   ----- \n",
      " 0   encounter_id              101766 non-null  int64 \n",
      " 1   patient_nbr               101766 non-null  int64 \n",
      " 2   race                      101766 non-null  object\n",
      " 3   gender                    101766 non-null  object\n",
      " 4   age                       101766 non-null  object\n",
      " 5   weight                    101766 non-null  object\n",
      " 6   admission_type_id         101766 non-null  int64 \n",
      " 7   discharge_disposition_id  101766 non-null  int64 \n",
      " 8   admission_source_id       101766 non-null  int64 \n",
      " 9   time_in_hospital          101766 non-null  int64 \n",
      " 10  payer_code                101766 non-null  object\n",
      " 11  medical_specialty         101766 non-null  object\n",
      " 12  num_lab_procedures        101766 non-null  int64 \n",
      " 13  num_procedures            101766 non-null  int64 \n",
      " 14  num_medications           101766 non-null  int64 \n",
      " 15  number_outpatient         101766 non-null  int64 \n",
      " 16  number_emergency          101766 non-null  int64 \n",
      " 17  number_inpatient          101766 non-null  int64 \n",
      " 18  diag_1                    101766 non-null  object\n",
      " 19  diag_2                    101766 non-null  object\n",
      " 20  diag_3                    101766 non-null  object\n",
      " 21  number_diagnoses          101766 non-null  int64 \n",
      " 22  max_glu_serum             101766 non-null  object\n",
      " 23  A1Cresult                 101766 non-null  object\n",
      " 24  metformin                 101766 non-null  object\n",
      " 25  repaglinide               101766 non-null  object\n",
      " 26  nateglinide               101766 non-null  object\n",
      " 27  chlorpropamide            101766 non-null  object\n",
      " 28  glimepiride               101766 non-null  object\n",
      " 29  acetohexamide             101766 non-null  object\n",
      " 30  glipizide                 101766 non-null  object\n",
      " 31  glyburide                 101766 non-null  object\n",
      " 32  tolbutamide               101766 non-null  object\n",
      " 33  pioglitazone              101766 non-null  object\n",
      " 34  rosiglitazone             101766 non-null  object\n",
      " 35  acarbose                  101766 non-null  object\n",
      " 36  miglitol                  101766 non-null  object\n",
      " 37  troglitazone              101766 non-null  object\n",
      " 38  tolazamide                101766 non-null  object\n",
      " 39  examide                   101766 non-null  object\n",
      " 40  citoglipton               101766 non-null  object\n",
      " 41  insulin                   101766 non-null  object\n",
      " 42  glyburide-metformin       101766 non-null  object\n",
      " 43  glipizide-metformin       101766 non-null  object\n",
      " 44  glimepiride-pioglitazone  101766 non-null  object\n",
      " 45  metformin-rosiglitazone   101766 non-null  object\n",
      " 46  metformin-pioglitazone    101766 non-null  object\n",
      " 47  change                    101766 non-null  object\n",
      " 48  diabetesMed               101766 non-null  object\n",
      " 49  readmitted                101766 non-null  object\n",
      "dtypes: int64(13), object(37)\n",
      "memory usage: 38.8+ MB\n"
     ]
    }
   ],
   "source": [
    "data_raw.info()"
   ]
  },
  {
   "cell_type": "markdown",
   "metadata": {},
   "source": [
    "## Remove duplicated and Not necesary Information\n",
    "\n",
    "Check if the same patient has more than one encounter."
   ]
  },
  {
   "cell_type": "code",
   "execution_count": 4,
   "metadata": {},
   "outputs": [
    {
     "data": {
      "text/plain": [
       "30248"
      ]
     },
     "execution_count": 4,
     "metadata": {},
     "output_type": "execute_result"
    }
   ],
   "source": [
    "data_raw[\"patient_nbr\"].duplicated().sum()"
   ]
  },
  {
   "cell_type": "markdown",
   "metadata": {},
   "source": [
    "remove duplicated patients"
   ]
  },
  {
   "cell_type": "code",
   "execution_count": 5,
   "metadata": {},
   "outputs": [],
   "source": [
    "data_raw.drop_duplicates(subset =\"patient_nbr\", keep = False, inplace = True)"
   ]
  },
  {
   "cell_type": "markdown",
   "metadata": {},
   "source": [
    "Remove encounter and patient id columns"
   ]
  },
  {
   "cell_type": "code",
   "execution_count": 6,
   "metadata": {},
   "outputs": [],
   "source": [
    "data_raw.drop(['encounter_id','patient_nbr'],axis=1,inplace=True)"
   ]
  },
  {
   "cell_type": "markdown",
   "metadata": {},
   "source": [
    "Number of duplicated data after removing columns"
   ]
  },
  {
   "cell_type": "code",
   "execution_count": 7,
   "metadata": {
    "tags": []
   },
   "outputs": [
    {
     "name": "stdout",
     "output_type": "stream",
     "text": [
      "Duplicated data = 0\n"
     ]
    }
   ],
   "source": [
    "print(f\"Duplicated data = {len(data_raw)-len(data_raw.drop_duplicates())}\")"
   ]
  },
  {
   "cell_type": "markdown",
   "metadata": {},
   "source": [
    "Information of discharge disposition\n",
    "\n",
    "\n",
    "In our case to find the effectiveness of the treatmento of people how finish the whole hospotal process to reduce the readmission, i'm going to delete the rows related with people that still in hospital or still patient and people who passed away.\n",
    "\n",
    "- 11,Expired\n",
    "- 13,Hospice / home\n",
    "- 14,Hospice / medical facility\n",
    "- 19,\"Expired at home. Medicaid only, hospice.\"\n",
    "- 20,\"Expired in a medical facility. Medicaid only, hospice.\"\n",
    "- 21,\"Expired, place unknown. Medicaid only, hospice.\""
   ]
  },
  {
   "cell_type": "code",
   "execution_count": 8,
   "metadata": {},
   "outputs": [],
   "source": [
    "data_raw = data_raw[~data_raw[\"discharge_disposition_id\"].isin([11,13,14,19,20])]"
   ]
  },
  {
   "cell_type": "markdown",
   "metadata": {},
   "source": [
    "## Handling Missing Values"
   ]
  },
  {
   "cell_type": "code",
   "execution_count": 9,
   "metadata": {},
   "outputs": [
    {
     "data": {
      "text/html": [
       "<div>\n",
       "<style scoped>\n",
       "    .dataframe tbody tr th:only-of-type {\n",
       "        vertical-align: middle;\n",
       "    }\n",
       "\n",
       "    .dataframe tbody tr th {\n",
       "        vertical-align: top;\n",
       "    }\n",
       "\n",
       "    .dataframe thead th {\n",
       "        text-align: right;\n",
       "    }\n",
       "</style>\n",
       "<table border=\"1\" class=\"dataframe\">\n",
       "  <thead>\n",
       "    <tr style=\"text-align: right;\">\n",
       "      <th></th>\n",
       "      <th>6316</th>\n",
       "      <th>15515</th>\n",
       "      <th>2280</th>\n",
       "      <th>48792</th>\n",
       "      <th>54701</th>\n",
       "      <th>41095</th>\n",
       "      <th>80913</th>\n",
       "      <th>46507</th>\n",
       "      <th>20938</th>\n",
       "      <th>41933</th>\n",
       "    </tr>\n",
       "  </thead>\n",
       "  <tbody>\n",
       "    <tr>\n",
       "      <th>race</th>\n",
       "      <td>Other</td>\n",
       "      <td>Caucasian</td>\n",
       "      <td>AfricanAmerican</td>\n",
       "      <td>AfricanAmerican</td>\n",
       "      <td>Caucasian</td>\n",
       "      <td>AfricanAmerican</td>\n",
       "      <td>Caucasian</td>\n",
       "      <td>Caucasian</td>\n",
       "      <td>Caucasian</td>\n",
       "      <td>Caucasian</td>\n",
       "    </tr>\n",
       "    <tr>\n",
       "      <th>gender</th>\n",
       "      <td>Female</td>\n",
       "      <td>Male</td>\n",
       "      <td>Male</td>\n",
       "      <td>Male</td>\n",
       "      <td>Male</td>\n",
       "      <td>Male</td>\n",
       "      <td>Male</td>\n",
       "      <td>Female</td>\n",
       "      <td>Male</td>\n",
       "      <td>Female</td>\n",
       "    </tr>\n",
       "    <tr>\n",
       "      <th>age</th>\n",
       "      <td>[60-70)</td>\n",
       "      <td>[80-90)</td>\n",
       "      <td>[50-60)</td>\n",
       "      <td>[40-50)</td>\n",
       "      <td>[40-50)</td>\n",
       "      <td>[70-80)</td>\n",
       "      <td>[50-60)</td>\n",
       "      <td>[70-80)</td>\n",
       "      <td>[60-70)</td>\n",
       "      <td>[50-60)</td>\n",
       "    </tr>\n",
       "    <tr>\n",
       "      <th>weight</th>\n",
       "      <td>?</td>\n",
       "      <td>?</td>\n",
       "      <td>?</td>\n",
       "      <td>?</td>\n",
       "      <td>?</td>\n",
       "      <td>?</td>\n",
       "      <td>?</td>\n",
       "      <td>?</td>\n",
       "      <td>?</td>\n",
       "      <td>?</td>\n",
       "    </tr>\n",
       "    <tr>\n",
       "      <th>admission_type_id</th>\n",
       "      <td>1</td>\n",
       "      <td>6</td>\n",
       "      <td>1</td>\n",
       "      <td>2</td>\n",
       "      <td>1</td>\n",
       "      <td>1</td>\n",
       "      <td>3</td>\n",
       "      <td>2</td>\n",
       "      <td>3</td>\n",
       "      <td>6</td>\n",
       "    </tr>\n",
       "    <tr>\n",
       "      <th>discharge_disposition_id</th>\n",
       "      <td>5</td>\n",
       "      <td>1</td>\n",
       "      <td>1</td>\n",
       "      <td>1</td>\n",
       "      <td>1</td>\n",
       "      <td>1</td>\n",
       "      <td>6</td>\n",
       "      <td>1</td>\n",
       "      <td>1</td>\n",
       "      <td>1</td>\n",
       "    </tr>\n",
       "    <tr>\n",
       "      <th>admission_source_id</th>\n",
       "      <td>7</td>\n",
       "      <td>17</td>\n",
       "      <td>7</td>\n",
       "      <td>1</td>\n",
       "      <td>7</td>\n",
       "      <td>7</td>\n",
       "      <td>1</td>\n",
       "      <td>7</td>\n",
       "      <td>1</td>\n",
       "      <td>17</td>\n",
       "    </tr>\n",
       "    <tr>\n",
       "      <th>time_in_hospital</th>\n",
       "      <td>2</td>\n",
       "      <td>2</td>\n",
       "      <td>8</td>\n",
       "      <td>11</td>\n",
       "      <td>1</td>\n",
       "      <td>4</td>\n",
       "      <td>6</td>\n",
       "      <td>3</td>\n",
       "      <td>4</td>\n",
       "      <td>4</td>\n",
       "    </tr>\n",
       "    <tr>\n",
       "      <th>payer_code</th>\n",
       "      <td>?</td>\n",
       "      <td>?</td>\n",
       "      <td>?</td>\n",
       "      <td>?</td>\n",
       "      <td>SP</td>\n",
       "      <td>MC</td>\n",
       "      <td>BC</td>\n",
       "      <td>MC</td>\n",
       "      <td>?</td>\n",
       "      <td>?</td>\n",
       "    </tr>\n",
       "    <tr>\n",
       "      <th>medical_specialty</th>\n",
       "      <td>InternalMedicine</td>\n",
       "      <td>InternalMedicine</td>\n",
       "      <td>Cardiology</td>\n",
       "      <td>Family/GeneralPractice</td>\n",
       "      <td>?</td>\n",
       "      <td>Nephrology</td>\n",
       "      <td>?</td>\n",
       "      <td>Emergency/Trauma</td>\n",
       "      <td>Orthopedics</td>\n",
       "      <td>?</td>\n",
       "    </tr>\n",
       "    <tr>\n",
       "      <th>num_lab_procedures</th>\n",
       "      <td>55</td>\n",
       "      <td>76</td>\n",
       "      <td>42</td>\n",
       "      <td>47</td>\n",
       "      <td>49</td>\n",
       "      <td>43</td>\n",
       "      <td>3</td>\n",
       "      <td>1</td>\n",
       "      <td>20</td>\n",
       "      <td>71</td>\n",
       "    </tr>\n",
       "    <tr>\n",
       "      <th>num_procedures</th>\n",
       "      <td>0</td>\n",
       "      <td>0</td>\n",
       "      <td>6</td>\n",
       "      <td>0</td>\n",
       "      <td>0</td>\n",
       "      <td>1</td>\n",
       "      <td>1</td>\n",
       "      <td>0</td>\n",
       "      <td>1</td>\n",
       "      <td>3</td>\n",
       "    </tr>\n",
       "    <tr>\n",
       "      <th>num_medications</th>\n",
       "      <td>5</td>\n",
       "      <td>11</td>\n",
       "      <td>15</td>\n",
       "      <td>16</td>\n",
       "      <td>10</td>\n",
       "      <td>19</td>\n",
       "      <td>29</td>\n",
       "      <td>5</td>\n",
       "      <td>34</td>\n",
       "      <td>16</td>\n",
       "    </tr>\n",
       "    <tr>\n",
       "      <th>number_outpatient</th>\n",
       "      <td>0</td>\n",
       "      <td>0</td>\n",
       "      <td>0</td>\n",
       "      <td>0</td>\n",
       "      <td>0</td>\n",
       "      <td>0</td>\n",
       "      <td>0</td>\n",
       "      <td>0</td>\n",
       "      <td>0</td>\n",
       "      <td>0</td>\n",
       "    </tr>\n",
       "    <tr>\n",
       "      <th>number_emergency</th>\n",
       "      <td>0</td>\n",
       "      <td>0</td>\n",
       "      <td>0</td>\n",
       "      <td>0</td>\n",
       "      <td>0</td>\n",
       "      <td>0</td>\n",
       "      <td>0</td>\n",
       "      <td>0</td>\n",
       "      <td>0</td>\n",
       "      <td>0</td>\n",
       "    </tr>\n",
       "    <tr>\n",
       "      <th>number_inpatient</th>\n",
       "      <td>0</td>\n",
       "      <td>1</td>\n",
       "      <td>0</td>\n",
       "      <td>0</td>\n",
       "      <td>0</td>\n",
       "      <td>0</td>\n",
       "      <td>0</td>\n",
       "      <td>0</td>\n",
       "      <td>0</td>\n",
       "      <td>0</td>\n",
       "    </tr>\n",
       "    <tr>\n",
       "      <th>diag_1</th>\n",
       "      <td>434</td>\n",
       "      <td>403</td>\n",
       "      <td>410</td>\n",
       "      <td>295</td>\n",
       "      <td>435</td>\n",
       "      <td>428</td>\n",
       "      <td>715</td>\n",
       "      <td>558</td>\n",
       "      <td>715</td>\n",
       "      <td>250.1</td>\n",
       "    </tr>\n",
       "    <tr>\n",
       "      <th>diag_2</th>\n",
       "      <td>250.02</td>\n",
       "      <td>428</td>\n",
       "      <td>305</td>\n",
       "      <td>305</td>\n",
       "      <td>250.02</td>\n",
       "      <td>403</td>\n",
       "      <td>250</td>\n",
       "      <td>574</td>\n",
       "      <td>250</td>\n",
       "      <td>340</td>\n",
       "    </tr>\n",
       "    <tr>\n",
       "      <th>diag_3</th>\n",
       "      <td>342</td>\n",
       "      <td>427</td>\n",
       "      <td>599</td>\n",
       "      <td>305</td>\n",
       "      <td>414</td>\n",
       "      <td>496</td>\n",
       "      <td>401</td>\n",
       "      <td>250</td>\n",
       "      <td>401</td>\n",
       "      <td>710</td>\n",
       "    </tr>\n",
       "    <tr>\n",
       "      <th>number_diagnoses</th>\n",
       "      <td>4</td>\n",
       "      <td>8</td>\n",
       "      <td>7</td>\n",
       "      <td>7</td>\n",
       "      <td>9</td>\n",
       "      <td>8</td>\n",
       "      <td>8</td>\n",
       "      <td>6</td>\n",
       "      <td>7</td>\n",
       "      <td>9</td>\n",
       "    </tr>\n",
       "    <tr>\n",
       "      <th>max_glu_serum</th>\n",
       "      <td>None</td>\n",
       "      <td>None</td>\n",
       "      <td>None</td>\n",
       "      <td>None</td>\n",
       "      <td>None</td>\n",
       "      <td>None</td>\n",
       "      <td>None</td>\n",
       "      <td>None</td>\n",
       "      <td>None</td>\n",
       "      <td>None</td>\n",
       "    </tr>\n",
       "    <tr>\n",
       "      <th>A1Cresult</th>\n",
       "      <td>&gt;8</td>\n",
       "      <td>None</td>\n",
       "      <td>None</td>\n",
       "      <td>None</td>\n",
       "      <td>&gt;8</td>\n",
       "      <td>None</td>\n",
       "      <td>None</td>\n",
       "      <td>None</td>\n",
       "      <td>None</td>\n",
       "      <td>None</td>\n",
       "    </tr>\n",
       "    <tr>\n",
       "      <th>metformin</th>\n",
       "      <td>No</td>\n",
       "      <td>No</td>\n",
       "      <td>No</td>\n",
       "      <td>Steady</td>\n",
       "      <td>No</td>\n",
       "      <td>No</td>\n",
       "      <td>Steady</td>\n",
       "      <td>No</td>\n",
       "      <td>No</td>\n",
       "      <td>No</td>\n",
       "    </tr>\n",
       "    <tr>\n",
       "      <th>repaglinide</th>\n",
       "      <td>No</td>\n",
       "      <td>No</td>\n",
       "      <td>No</td>\n",
       "      <td>No</td>\n",
       "      <td>No</td>\n",
       "      <td>No</td>\n",
       "      <td>No</td>\n",
       "      <td>No</td>\n",
       "      <td>No</td>\n",
       "      <td>No</td>\n",
       "    </tr>\n",
       "    <tr>\n",
       "      <th>nateglinide</th>\n",
       "      <td>No</td>\n",
       "      <td>No</td>\n",
       "      <td>No</td>\n",
       "      <td>No</td>\n",
       "      <td>No</td>\n",
       "      <td>No</td>\n",
       "      <td>No</td>\n",
       "      <td>No</td>\n",
       "      <td>No</td>\n",
       "      <td>No</td>\n",
       "    </tr>\n",
       "    <tr>\n",
       "      <th>chlorpropamide</th>\n",
       "      <td>No</td>\n",
       "      <td>No</td>\n",
       "      <td>No</td>\n",
       "      <td>No</td>\n",
       "      <td>No</td>\n",
       "      <td>No</td>\n",
       "      <td>No</td>\n",
       "      <td>No</td>\n",
       "      <td>No</td>\n",
       "      <td>No</td>\n",
       "    </tr>\n",
       "    <tr>\n",
       "      <th>glimepiride</th>\n",
       "      <td>No</td>\n",
       "      <td>No</td>\n",
       "      <td>No</td>\n",
       "      <td>No</td>\n",
       "      <td>No</td>\n",
       "      <td>No</td>\n",
       "      <td>No</td>\n",
       "      <td>No</td>\n",
       "      <td>No</td>\n",
       "      <td>No</td>\n",
       "    </tr>\n",
       "    <tr>\n",
       "      <th>acetohexamide</th>\n",
       "      <td>No</td>\n",
       "      <td>No</td>\n",
       "      <td>No</td>\n",
       "      <td>No</td>\n",
       "      <td>No</td>\n",
       "      <td>No</td>\n",
       "      <td>No</td>\n",
       "      <td>No</td>\n",
       "      <td>No</td>\n",
       "      <td>No</td>\n",
       "    </tr>\n",
       "    <tr>\n",
       "      <th>glipizide</th>\n",
       "      <td>No</td>\n",
       "      <td>No</td>\n",
       "      <td>No</td>\n",
       "      <td>No</td>\n",
       "      <td>No</td>\n",
       "      <td>Steady</td>\n",
       "      <td>Steady</td>\n",
       "      <td>Down</td>\n",
       "      <td>No</td>\n",
       "      <td>No</td>\n",
       "    </tr>\n",
       "    <tr>\n",
       "      <th>glyburide</th>\n",
       "      <td>Steady</td>\n",
       "      <td>Steady</td>\n",
       "      <td>No</td>\n",
       "      <td>No</td>\n",
       "      <td>No</td>\n",
       "      <td>No</td>\n",
       "      <td>No</td>\n",
       "      <td>No</td>\n",
       "      <td>Steady</td>\n",
       "      <td>No</td>\n",
       "    </tr>\n",
       "    <tr>\n",
       "      <th>tolbutamide</th>\n",
       "      <td>No</td>\n",
       "      <td>No</td>\n",
       "      <td>No</td>\n",
       "      <td>No</td>\n",
       "      <td>No</td>\n",
       "      <td>No</td>\n",
       "      <td>No</td>\n",
       "      <td>No</td>\n",
       "      <td>No</td>\n",
       "      <td>No</td>\n",
       "    </tr>\n",
       "    <tr>\n",
       "      <th>pioglitazone</th>\n",
       "      <td>No</td>\n",
       "      <td>No</td>\n",
       "      <td>No</td>\n",
       "      <td>No</td>\n",
       "      <td>Steady</td>\n",
       "      <td>No</td>\n",
       "      <td>Steady</td>\n",
       "      <td>No</td>\n",
       "      <td>No</td>\n",
       "      <td>No</td>\n",
       "    </tr>\n",
       "    <tr>\n",
       "      <th>rosiglitazone</th>\n",
       "      <td>No</td>\n",
       "      <td>No</td>\n",
       "      <td>No</td>\n",
       "      <td>No</td>\n",
       "      <td>No</td>\n",
       "      <td>No</td>\n",
       "      <td>No</td>\n",
       "      <td>No</td>\n",
       "      <td>No</td>\n",
       "      <td>No</td>\n",
       "    </tr>\n",
       "    <tr>\n",
       "      <th>acarbose</th>\n",
       "      <td>No</td>\n",
       "      <td>No</td>\n",
       "      <td>No</td>\n",
       "      <td>No</td>\n",
       "      <td>No</td>\n",
       "      <td>No</td>\n",
       "      <td>No</td>\n",
       "      <td>No</td>\n",
       "      <td>No</td>\n",
       "      <td>No</td>\n",
       "    </tr>\n",
       "    <tr>\n",
       "      <th>miglitol</th>\n",
       "      <td>No</td>\n",
       "      <td>No</td>\n",
       "      <td>No</td>\n",
       "      <td>No</td>\n",
       "      <td>No</td>\n",
       "      <td>No</td>\n",
       "      <td>No</td>\n",
       "      <td>No</td>\n",
       "      <td>No</td>\n",
       "      <td>No</td>\n",
       "    </tr>\n",
       "    <tr>\n",
       "      <th>troglitazone</th>\n",
       "      <td>No</td>\n",
       "      <td>No</td>\n",
       "      <td>No</td>\n",
       "      <td>No</td>\n",
       "      <td>No</td>\n",
       "      <td>No</td>\n",
       "      <td>No</td>\n",
       "      <td>No</td>\n",
       "      <td>No</td>\n",
       "      <td>No</td>\n",
       "    </tr>\n",
       "    <tr>\n",
       "      <th>tolazamide</th>\n",
       "      <td>No</td>\n",
       "      <td>No</td>\n",
       "      <td>No</td>\n",
       "      <td>No</td>\n",
       "      <td>No</td>\n",
       "      <td>No</td>\n",
       "      <td>No</td>\n",
       "      <td>No</td>\n",
       "      <td>No</td>\n",
       "      <td>No</td>\n",
       "    </tr>\n",
       "    <tr>\n",
       "      <th>examide</th>\n",
       "      <td>No</td>\n",
       "      <td>No</td>\n",
       "      <td>No</td>\n",
       "      <td>No</td>\n",
       "      <td>No</td>\n",
       "      <td>No</td>\n",
       "      <td>No</td>\n",
       "      <td>No</td>\n",
       "      <td>No</td>\n",
       "      <td>No</td>\n",
       "    </tr>\n",
       "    <tr>\n",
       "      <th>citoglipton</th>\n",
       "      <td>No</td>\n",
       "      <td>No</td>\n",
       "      <td>No</td>\n",
       "      <td>No</td>\n",
       "      <td>No</td>\n",
       "      <td>No</td>\n",
       "      <td>No</td>\n",
       "      <td>No</td>\n",
       "      <td>No</td>\n",
       "      <td>No</td>\n",
       "    </tr>\n",
       "    <tr>\n",
       "      <th>insulin</th>\n",
       "      <td>Steady</td>\n",
       "      <td>No</td>\n",
       "      <td>No</td>\n",
       "      <td>Down</td>\n",
       "      <td>Steady</td>\n",
       "      <td>No</td>\n",
       "      <td>Up</td>\n",
       "      <td>Steady</td>\n",
       "      <td>No</td>\n",
       "      <td>Up</td>\n",
       "    </tr>\n",
       "    <tr>\n",
       "      <th>glyburide-metformin</th>\n",
       "      <td>No</td>\n",
       "      <td>No</td>\n",
       "      <td>No</td>\n",
       "      <td>No</td>\n",
       "      <td>No</td>\n",
       "      <td>No</td>\n",
       "      <td>No</td>\n",
       "      <td>No</td>\n",
       "      <td>No</td>\n",
       "      <td>No</td>\n",
       "    </tr>\n",
       "    <tr>\n",
       "      <th>glipizide-metformin</th>\n",
       "      <td>No</td>\n",
       "      <td>No</td>\n",
       "      <td>No</td>\n",
       "      <td>No</td>\n",
       "      <td>No</td>\n",
       "      <td>No</td>\n",
       "      <td>No</td>\n",
       "      <td>No</td>\n",
       "      <td>No</td>\n",
       "      <td>No</td>\n",
       "    </tr>\n",
       "    <tr>\n",
       "      <th>glimepiride-pioglitazone</th>\n",
       "      <td>No</td>\n",
       "      <td>No</td>\n",
       "      <td>No</td>\n",
       "      <td>No</td>\n",
       "      <td>No</td>\n",
       "      <td>No</td>\n",
       "      <td>No</td>\n",
       "      <td>No</td>\n",
       "      <td>No</td>\n",
       "      <td>No</td>\n",
       "    </tr>\n",
       "    <tr>\n",
       "      <th>metformin-rosiglitazone</th>\n",
       "      <td>No</td>\n",
       "      <td>No</td>\n",
       "      <td>No</td>\n",
       "      <td>No</td>\n",
       "      <td>No</td>\n",
       "      <td>No</td>\n",
       "      <td>No</td>\n",
       "      <td>No</td>\n",
       "      <td>No</td>\n",
       "      <td>No</td>\n",
       "    </tr>\n",
       "    <tr>\n",
       "      <th>metformin-pioglitazone</th>\n",
       "      <td>No</td>\n",
       "      <td>No</td>\n",
       "      <td>No</td>\n",
       "      <td>No</td>\n",
       "      <td>No</td>\n",
       "      <td>No</td>\n",
       "      <td>No</td>\n",
       "      <td>No</td>\n",
       "      <td>No</td>\n",
       "      <td>No</td>\n",
       "    </tr>\n",
       "    <tr>\n",
       "      <th>change</th>\n",
       "      <td>Ch</td>\n",
       "      <td>No</td>\n",
       "      <td>No</td>\n",
       "      <td>Ch</td>\n",
       "      <td>Ch</td>\n",
       "      <td>No</td>\n",
       "      <td>Ch</td>\n",
       "      <td>Ch</td>\n",
       "      <td>No</td>\n",
       "      <td>Ch</td>\n",
       "    </tr>\n",
       "    <tr>\n",
       "      <th>diabetesMed</th>\n",
       "      <td>Yes</td>\n",
       "      <td>Yes</td>\n",
       "      <td>No</td>\n",
       "      <td>Yes</td>\n",
       "      <td>Yes</td>\n",
       "      <td>Yes</td>\n",
       "      <td>Yes</td>\n",
       "      <td>Yes</td>\n",
       "      <td>Yes</td>\n",
       "      <td>Yes</td>\n",
       "    </tr>\n",
       "    <tr>\n",
       "      <th>readmitted</th>\n",
       "      <td>NO</td>\n",
       "      <td>NO</td>\n",
       "      <td>NO</td>\n",
       "      <td>&gt;30</td>\n",
       "      <td>NO</td>\n",
       "      <td>NO</td>\n",
       "      <td>NO</td>\n",
       "      <td>NO</td>\n",
       "      <td>NO</td>\n",
       "      <td>NO</td>\n",
       "    </tr>\n",
       "  </tbody>\n",
       "</table>\n",
       "</div>"
      ],
      "text/plain": [
       "                                     6316              15515            2280   \\\n",
       "race                                 Other         Caucasian  AfricanAmerican   \n",
       "gender                              Female              Male             Male   \n",
       "age                                [60-70)           [80-90)          [50-60)   \n",
       "weight                                   ?                 ?                ?   \n",
       "admission_type_id                        1                 6                1   \n",
       "discharge_disposition_id                 5                 1                1   \n",
       "admission_source_id                      7                17                7   \n",
       "time_in_hospital                         2                 2                8   \n",
       "payer_code                               ?                 ?                ?   \n",
       "medical_specialty         InternalMedicine  InternalMedicine       Cardiology   \n",
       "num_lab_procedures                      55                76               42   \n",
       "num_procedures                           0                 0                6   \n",
       "num_medications                          5                11               15   \n",
       "number_outpatient                        0                 0                0   \n",
       "number_emergency                         0                 0                0   \n",
       "number_inpatient                         0                 1                0   \n",
       "diag_1                                 434               403              410   \n",
       "diag_2                              250.02               428              305   \n",
       "diag_3                                 342               427              599   \n",
       "number_diagnoses                         4                 8                7   \n",
       "max_glu_serum                         None              None             None   \n",
       "A1Cresult                               >8              None             None   \n",
       "metformin                               No                No               No   \n",
       "repaglinide                             No                No               No   \n",
       "nateglinide                             No                No               No   \n",
       "chlorpropamide                          No                No               No   \n",
       "glimepiride                             No                No               No   \n",
       "acetohexamide                           No                No               No   \n",
       "glipizide                               No                No               No   \n",
       "glyburide                           Steady            Steady               No   \n",
       "tolbutamide                             No                No               No   \n",
       "pioglitazone                            No                No               No   \n",
       "rosiglitazone                           No                No               No   \n",
       "acarbose                                No                No               No   \n",
       "miglitol                                No                No               No   \n",
       "troglitazone                            No                No               No   \n",
       "tolazamide                              No                No               No   \n",
       "examide                                 No                No               No   \n",
       "citoglipton                             No                No               No   \n",
       "insulin                             Steady                No               No   \n",
       "glyburide-metformin                     No                No               No   \n",
       "glipizide-metformin                     No                No               No   \n",
       "glimepiride-pioglitazone                No                No               No   \n",
       "metformin-rosiglitazone                 No                No               No   \n",
       "metformin-pioglitazone                  No                No               No   \n",
       "change                                  Ch                No               No   \n",
       "diabetesMed                            Yes               Yes               No   \n",
       "readmitted                              NO                NO               NO   \n",
       "\n",
       "                                           48792      54701            41095  \\\n",
       "race                             AfricanAmerican  Caucasian  AfricanAmerican   \n",
       "gender                                      Male       Male             Male   \n",
       "age                                      [40-50)    [40-50)          [70-80)   \n",
       "weight                                         ?          ?                ?   \n",
       "admission_type_id                              2          1                1   \n",
       "discharge_disposition_id                       1          1                1   \n",
       "admission_source_id                            1          7                7   \n",
       "time_in_hospital                              11          1                4   \n",
       "payer_code                                     ?         SP               MC   \n",
       "medical_specialty         Family/GeneralPractice          ?       Nephrology   \n",
       "num_lab_procedures                            47         49               43   \n",
       "num_procedures                                 0          0                1   \n",
       "num_medications                               16         10               19   \n",
       "number_outpatient                              0          0                0   \n",
       "number_emergency                               0          0                0   \n",
       "number_inpatient                               0          0                0   \n",
       "diag_1                                       295        435              428   \n",
       "diag_2                                       305     250.02              403   \n",
       "diag_3                                       305        414              496   \n",
       "number_diagnoses                               7          9                8   \n",
       "max_glu_serum                               None       None             None   \n",
       "A1Cresult                                   None         >8             None   \n",
       "metformin                                 Steady         No               No   \n",
       "repaglinide                                   No         No               No   \n",
       "nateglinide                                   No         No               No   \n",
       "chlorpropamide                                No         No               No   \n",
       "glimepiride                                   No         No               No   \n",
       "acetohexamide                                 No         No               No   \n",
       "glipizide                                     No         No           Steady   \n",
       "glyburide                                     No         No               No   \n",
       "tolbutamide                                   No         No               No   \n",
       "pioglitazone                                  No     Steady               No   \n",
       "rosiglitazone                                 No         No               No   \n",
       "acarbose                                      No         No               No   \n",
       "miglitol                                      No         No               No   \n",
       "troglitazone                                  No         No               No   \n",
       "tolazamide                                    No         No               No   \n",
       "examide                                       No         No               No   \n",
       "citoglipton                                   No         No               No   \n",
       "insulin                                     Down     Steady               No   \n",
       "glyburide-metformin                           No         No               No   \n",
       "glipizide-metformin                           No         No               No   \n",
       "glimepiride-pioglitazone                      No         No               No   \n",
       "metformin-rosiglitazone                       No         No               No   \n",
       "metformin-pioglitazone                        No         No               No   \n",
       "change                                        Ch         Ch               No   \n",
       "diabetesMed                                  Yes        Yes              Yes   \n",
       "readmitted                                   >30         NO               NO   \n",
       "\n",
       "                              80913             46507        20938      41933  \n",
       "race                      Caucasian         Caucasian    Caucasian  Caucasian  \n",
       "gender                         Male            Female         Male     Female  \n",
       "age                         [50-60)           [70-80)      [60-70)    [50-60)  \n",
       "weight                            ?                 ?            ?          ?  \n",
       "admission_type_id                 3                 2            3          6  \n",
       "discharge_disposition_id          6                 1            1          1  \n",
       "admission_source_id               1                 7            1         17  \n",
       "time_in_hospital                  6                 3            4          4  \n",
       "payer_code                       BC                MC            ?          ?  \n",
       "medical_specialty                 ?  Emergency/Trauma  Orthopedics          ?  \n",
       "num_lab_procedures                3                 1           20         71  \n",
       "num_procedures                    1                 0            1          3  \n",
       "num_medications                  29                 5           34         16  \n",
       "number_outpatient                 0                 0            0          0  \n",
       "number_emergency                  0                 0            0          0  \n",
       "number_inpatient                  0                 0            0          0  \n",
       "diag_1                          715               558          715      250.1  \n",
       "diag_2                          250               574          250        340  \n",
       "diag_3                          401               250          401        710  \n",
       "number_diagnoses                  8                 6            7          9  \n",
       "max_glu_serum                  None              None         None       None  \n",
       "A1Cresult                      None              None         None       None  \n",
       "metformin                    Steady                No           No         No  \n",
       "repaglinide                      No                No           No         No  \n",
       "nateglinide                      No                No           No         No  \n",
       "chlorpropamide                   No                No           No         No  \n",
       "glimepiride                      No                No           No         No  \n",
       "acetohexamide                    No                No           No         No  \n",
       "glipizide                    Steady              Down           No         No  \n",
       "glyburide                        No                No       Steady         No  \n",
       "tolbutamide                      No                No           No         No  \n",
       "pioglitazone                 Steady                No           No         No  \n",
       "rosiglitazone                    No                No           No         No  \n",
       "acarbose                         No                No           No         No  \n",
       "miglitol                         No                No           No         No  \n",
       "troglitazone                     No                No           No         No  \n",
       "tolazamide                       No                No           No         No  \n",
       "examide                          No                No           No         No  \n",
       "citoglipton                      No                No           No         No  \n",
       "insulin                          Up            Steady           No         Up  \n",
       "glyburide-metformin              No                No           No         No  \n",
       "glipizide-metformin              No                No           No         No  \n",
       "glimepiride-pioglitazone         No                No           No         No  \n",
       "metformin-rosiglitazone          No                No           No         No  \n",
       "metformin-pioglitazone           No                No           No         No  \n",
       "change                           Ch                Ch           No         Ch  \n",
       "diabetesMed                     Yes               Yes          Yes        Yes  \n",
       "readmitted                       NO                NO           NO         NO  "
      ]
     },
     "execution_count": 9,
     "metadata": {},
     "output_type": "execute_result"
    }
   ],
   "source": [
    "#look some samples ofthe data\n",
    "data_raw.sample(10).T"
   ]
  },
  {
   "cell_type": "markdown",
   "metadata": {},
   "source": [
    "There's some '?' values in the columns, is important to find which values had every column"
   ]
  },
  {
   "cell_type": "markdown",
   "metadata": {},
   "source": [
    "Get unique values per columns"
   ]
  },
  {
   "cell_type": "code",
   "execution_count": 10,
   "metadata": {
    "tags": []
   },
   "outputs": [
    {
     "name": "stdout",
     "output_type": "stream",
     "text": [
      "race = ['Caucasian' 'AfricanAmerican' '?' 'Other' 'Asian' 'Hispanic']\n",
      "gender = ['Female' 'Male' 'Unknown/Invalid']\n",
      "age = ['[0-10)' '[10-20)' '[20-30)' '[30-40)' '[40-50)' '[50-60)' '[60-70)'\n",
      " '[70-80)' '[80-90)' '[90-100)']\n",
      "weight = ['?' '[75-100)' '[50-75)' '[100-125)' '[0-25)' '[25-50)' '[125-150)'\n",
      " '[175-200)' '[150-175)' '>200']\n",
      "admission_type_id = [6 1 2 3 4 5 8 7]\n",
      "discharge_disposition_id = [25  1  3  6  2  5 10  7  4 18  8 22 23  9 17 12 16 15 28 24 27]\n",
      "admission_source_id = [ 1  7  2  4 20  6  5  3 17  8  9 14 10 22 11 25 13]\n",
      "time_in_hospital = [ 1  3  2  4  5 13 12  9  7 10  6 11  8 14]\n",
      "payer_code = ['?' 'MC' 'MD' 'HM' 'UN' 'BC' 'SP' 'CP' 'SI' 'DM' 'CM' 'CH' 'PO' 'WC' 'OT'\n",
      " 'OG' 'MP' 'FR']\n",
      "medical_specialty = ['Pediatrics-Endocrinology' '?' 'InternalMedicine'\n",
      " 'Family/GeneralPractice' 'Cardiology' 'Surgery-General' 'Orthopedics'\n",
      " 'Gastroenterology' 'Nephrology' 'Orthopedics-Reconstructive'\n",
      " 'Surgery-Cardiovascular/Thoracic' 'Pulmonology' 'Psychiatry'\n",
      " 'Emergency/Trauma' 'Surgery-Neuro' 'ObstetricsandGynecology' 'Pediatrics'\n",
      " 'Otolaryngology' 'Surgery-Colon&Rectal' 'Urology'\n",
      " 'Pediatrics-CriticalCare' 'Psychiatry-Child/Adolescent' 'Endocrinology'\n",
      " 'Anesthesiology-Pediatric' 'Obsterics&Gynecology-GynecologicOnco'\n",
      " 'Radiology' 'Psychology' 'Neurology' 'Hematology/Oncology' 'Podiatry'\n",
      " 'Pediatrics-Hematology-Oncology' 'Gynecology' 'Pediatrics-Neurology'\n",
      " 'Surgery-Thoracic' 'Surgery-Plastic' 'Surgery-Pediatric'\n",
      " 'Pediatrics-EmergencyMedicine' 'PhysicalMedicineandRehabilitation'\n",
      " 'InfectiousDiseases' 'Ophthalmology' 'Oncology' 'AllergyandImmunology'\n",
      " 'Surgery-Maxillofacial' 'Pediatrics-Pulmonology' 'Dentistry' 'Surgeon'\n",
      " 'Surgery-Vascular' 'Osteopath' 'Psychiatry-Addictive'\n",
      " 'Surgery-Cardiovascular' 'PhysicianNotFound' 'Hematology' 'Proctology'\n",
      " 'Anesthesiology' 'Rheumatology' 'Obstetrics' 'SurgicalSpecialty'\n",
      " 'Radiologist' 'Pathology' 'Speech' 'Hospitalist' 'OutreachServices'\n",
      " 'Cardiology-Pediatric' 'Perinatology' 'Neurophysiology'\n",
      " 'Endocrinology-Metabolism' 'DCPTEAM' 'Resident']\n",
      "num_lab_procedures = [ 41  59  11  44  51  31  70  73  68  33  47  62  55  49  75  45  29  35\n",
      "  42  66  36  19  64  52  87  53  28  48  10   2  65  67  54  58  37  57\n",
      "  43  25  34  39  69  38  27  72  22  96  46  78  61  60   1  18  82   9\n",
      "  24  71  63  77  50  81  56  93  76 103  80  90  16  32  12  30  17  21\n",
      "  79  26  95  97  14  74  23  13  40 105  86  83  98  20   5  85   6   8\n",
      "  15  88  91  94  84  92   4  89 101   3 102  99   7 100 114 111 107 108\n",
      " 106 109 120 113 104 121 118]\n",
      "num_procedures = [0 5 1 6 2 3 4]\n",
      "num_medications = [ 1 18 13 16  8 21 12 28 17 11 31  2 23 19  7 14 10 22 15  9 25  4  6 20\n",
      " 26  5 27 24 32  3 30 61 46 33 41 36 29 50 43 42 37 34 51 35 38 45 40 54\n",
      " 52 49 39 47 44 57 48 53 62 56 59 63 55 58 64 69 65 66 60 67 68 81 79 75\n",
      " 74]\n",
      "number_outpatient = [ 0  2  1  5  3  8  4  9 12 11  6 20 15  7 10 14 35 16 29 13 18 19 22 36\n",
      " 26 17 25 24 33]\n",
      "number_emergency = [ 0  1  2  4  9  6  3  8  7  5 42 10 25 11 37 20]\n",
      "number_inpatient = [ 0  1  2  3  5  4  6  9  8 11  7 10 12]\n",
      "diag_1 = ['250.83' '276' '648' '8' '197' '414' '428' '398' '434' '250.7' '157'\n",
      " '518' '999' '410' '682' '402' '737' '572' 'V57' '189' '786' '427' '584'\n",
      " '462' '174' '998' '996' '511' '626' '295' '250.6' '618' '182' '845' '423'\n",
      " '808' '722' '250.11' '784' '707' '440' '151' '715' '564' '812' '997'\n",
      " '590' '556' '411' '578' '250.32' '433' 'V58' '569' '185' '536' '250.4'\n",
      " '255' '599' '558' '574' '491' '486' '560' '244' '730' '188' '824' '250.8'\n",
      " '332' '562' '296' '510' '70' '250.02' '642' '250.03' '625' '571' '593'\n",
      " '456' '446' '820' '515' '780' '250.22' '38' '577' '995' '235' '196'\n",
      " '250.82' '721' '250.13' '724' '401' 'V55' '281' '466' '789' '566' '822'\n",
      " '432' '403' '198' '711' '575' '202' '493' '280' '553' '441' '349' '?'\n",
      " '557' '962' '507' '386' '156' '200' '728' '348' '459' '426' '337' '82'\n",
      " '250.12' '225' '596' '288' '656' '435' '787' '492' '220' '516' '210'\n",
      " '922' '286' '885' '958' '661' '969' '530' '250.93' '227' '404' '823'\n",
      " '191' '416' '162' '535' '250.41' '250' '211' '250.01' '218' '457' '514'\n",
      " '54' '351' '601' '723' '424' '153' '241' '358' '250.81' '345' '681' '447'\n",
      " '290' '158' '436' '303' '335' '453' '309' '654' '805' '799' '292' '455'\n",
      " '250.42' '733' '78' '851' '482' '532' '431' '592' '531' '738' '586' '311'\n",
      " '892' '415' '591' '794' '79' '277' '655' '293' '429' '658' '729' '604'\n",
      " '727' '214' '458' '444' '291' '284' '680' '708' '585' '644' '481' '821'\n",
      " '413' '595' '437' '285' '968' '756' '275' '512' '781' '278' '420' '825'\n",
      " '304' '320' '250.31' '669' '868' '250.43' '53' '438' '161' '495' '49'\n",
      " '346' '294' '852' '540' '576' '850' '331' '250.2' '611' '782' '840' '350'\n",
      " '726' '250.33' '620' '180' '783' '598' '751' '716' '250.3' '199' '580'\n",
      " '664' '283' '359' '287' '813' '496' '289' '573' '184' '608' '212' '117'\n",
      " '924' '537' '154' '621' '785' '714' '942' '250.23' '47' '552' '567' '478'\n",
      " '250.1' '443' '7' '736' '233' '42' '397' '421' '807' '253' '39' '659'\n",
      " '312' '473' '614' '652' '861' '425' '527' '600' '451' '485' '970' '193'\n",
      " 'V53' '160' '322' '581' '475' '582' '568' '465' '238' '801' '237' '376'\n",
      " '461' '913' '251' '226' '987' '641' '480' '550' '336' '362' '228' '513'\n",
      " '355' '383' '746' '353' '911' '298' '155' '442' '860' '534' '802' '141'\n",
      " 'V45' '310' '341' '242' '305' '616' '301' '5' '965' '989' '230' '385'\n",
      " '300' '853' '871' '463' '340' '959' '790' '112' '250.21' '236' '361'\n",
      " '501' '810' '274' '9' '430' '528' '205' '791' '983' '519' '396' '172'\n",
      " '171' '622' '863' '282' '474' '607' '759' '3' '356' '239' '634' '555'\n",
      " '187' '203' '732' '323' '594' '308' '152' '250.92' '183' '846' '365'\n",
      " '718' '11' '48' '565' '150' '797' '170' '878' '904' '719' '882' '843'\n",
      " '709' '454' '939' '487' '617' '204' '483' '357' '692' '796' '533' '693'\n",
      " '844' '800' '873' '920' 'V26' '261' '788' '250.9' '145' '388' '223' 'V71'\n",
      " '839' '685' '710' '395' '992' '663' '464' '179' '964' 'V56' '334' '143'\n",
      " '526' '307' '494' '588' '977' '135' 'V67' '917' '88' '219' '325' '792'\n",
      " '380' '747' '717' '994' '990' '793' '207' '637' '847' '164' '490' '31'\n",
      " '306' '686' '891' '814' 'V60' '703' '865' '352' '967' '522' '368' '660'\n",
      " '378' '342' '886' '344' '745' '297' '705' '694' '934' 'V54' '541' '986'\n",
      " '633' '640' '201' '369' '753' '835' '333' '551' '379' '272' '945' '881'\n",
      " '370' '394' '866' '831' '405' '916' '215' '864' '75' '671' '816' '252'\n",
      " '972' '897' '725' '263' '867' '115' '890' '734' '521' '623' '470' '834'\n",
      " '524' '991' '691' '508' '445' '384' '142' '879' '250.51' '246' '848'\n",
      " '250.5' '893' '646' '448' '955' '149' '245' '966' '570' '854' '933' '192'\n",
      " '35' '136' '194' '163' '579' '216' '374' '354' '94' '477' '318' '880'\n",
      " '921' '377' '683' '175' '695' '602' '250.91' '982' '382' '195' '706'\n",
      " '417' '647' '131' '735' '720' '324' '870' '936' '148' '862' '61' '653'\n",
      " '817' '935' '610' '674' '914' '360' '684' '314' 'V63' '57' '627' '240'\n",
      " '915' '883' '980' '971' '327' '452' '619' '842' '645' '173' '665' '41'\n",
      " '110' '944' '952' '603' '412' '363' '957' '815' '976' '299' '266' '923'\n",
      " '836' '98' '605' '941' '250.53' '52' '66' '84' '837' '657' '542' '114'\n",
      " '338' '696' '36' 'V70' 'E909' '273' '34' '422' '963' '903' '875' '229'\n",
      " '147' '381' '632' '795' '529' '649' '832' '928' '133' '833' '391' '690'\n",
      " '10' '208' 'V51']\n",
      "diag_2 = ['?' '250.01' '250' '250.43' '157' '411' '492' '427' '198' '403' '288'\n",
      " '998' '507' '174' '425' '456' '401' '715' '496' '428' '410' '135' '41'\n",
      " '571' '276' '599' '424' '491' '553' '707' '997' '286' '440' '493' '242'\n",
      " '70' '250.03' '357' '511' '196' '396' '414' '250.52' '577' '413' '285'\n",
      " '53' '780' '518' '150' '566' '250.6' '486' '8' '250.02' '788' '340' '228'\n",
      " '250.82' '786' '294' '567' '785' '512' 'V15' '305' '729' '585' '648'\n",
      " '560' '618' '578' '277' '781' '250.42' '278' 'V10' '584' '462' '153'\n",
      " '272' '733' '881' 'V45' '574' '250.41' '293' '245' '999' '250.12' '342'\n",
      " '626' '458' '710' '415' 'V42' '284' '759' '112' '292' '435' '426' '996'\n",
      " '280' '290' '535' '250.13' '642' '398' '444' '319' '203' '711' '303'\n",
      " '446' '255' '250.7' '250.51' '682' '300' '581' '162' '402' '287' '789'\n",
      " '790' '591' '200' '38' '787' '117' '154' '847' '852' '250.11' '816' '575'\n",
      " '416' '412' '515' '372' '482' 'V65' '283' '250.83' '536' '530' '569'\n",
      " '721' '434' '271' '368' '227' '572' '783' '573' '304' '576' '253' '309'\n",
      " '250.91' '197' '519' '333' '459' '204' '250.92' '250.4' '179' '345' '661'\n",
      " '433' '537' '205' '295' '784' '714' '211' '590' '263' '250.23' '244'\n",
      " 'E932' '250.81' '382' '723' '722' '34' '861' 'V57' '724' '558' 'E888'\n",
      " '730' '397' '201' '451' '738' 'V43' '155' '202' '218' '220' 'E937' '583'\n",
      " '794' '564' '250.22' '620' '621' '331' '453' '617' '596' '314' '625'\n",
      " '404' '681' '281' '531' '443' '568' '799' '250.5' '311' 'E878' '719'\n",
      " 'E944' 'V12' '423' 'E870' 'E849' '782' '481' 'V23' '199' '79' '438' '348'\n",
      " '627' '726' '54' '490' '731' '508' '437' '922' '562' '431' '296' '258'\n",
      " '728' '344' '716' '873' '616' 'V17' '136' '455' '860' '441' '607' '466'\n",
      " '603' '484' '465' 'V72' 'E885' '291' '151' 'V58' '510' '592' '436' '791'\n",
      " '250.8' '598' '217' '298' '821' 'E880' '343' '429' '250.53' 'E879' '138'\n",
      " '420' '42' '233' '658' '969' '275' '601' '447' '704' '808' 'E890' 'V18'\n",
      " '301' '380' '478' '359' '274' '337' 'V14' '324' '362' 'E931' '250.93'\n",
      " '792' '532' '557' '813' '593' '864' '185' 'E934' '753' '718' '386' '807'\n",
      " '604' '473' 'E942' '580' '241' '595' '824' '282' '550' '279' '646' '701'\n",
      " '736' '600' '383' '820' '872' '189' '905' 'E939' '349' '614' '921' '131'\n",
      " '611' '389' '394' '214' '705' '336' '752' '623' '9' '570' '299' '805'\n",
      " '365' '40' '691' '432' '909' '746' '745' '250.1' '351' '110' '346' '918'\n",
      " '947' '520' '188' '356' 'V64' '737' 'V08' '322' '182' '974' 'E929' '378'\n",
      " '252' 'E933' '94' '680' '702' '923' '647' '696' '358' '111' '934' '31'\n",
      " '487' '709' '796' '250.9' 'E812' '556' '332' '915' '756' '867' '840'\n",
      " '825' '259' '693' '725' '683' '953' '552' '501' '727' 'E900' '812' '522'\n",
      " '919' '461' '516' '273' '193' '958' '717' 'V54' '320' '906' '239' '608'\n",
      " '454' 'V46' 'V09' '823' '226' '795' 'E947' '306' '844' 'E935' '250.33'\n",
      " '308' '297' '615' '457' '712' '663' '706' '833' '533' 'E884' '78' '586'\n",
      " 'E930' '755' 'E928' '191' '869' '962' '910' '543' '208' '373' '870' '913'\n",
      " '152' '810' '517' '924' '995' '845' '474' '684' '751' '472' '464'\n",
      " '250.32' '251' '565' '811' '317' '652' 'V49' '421' '659' '802' '555'\n",
      " '851' '422' '815' '307' '463' '920' '992' '692' 'E950' '907' '521' '172'\n",
      " 'E965' '579' '850' '524' '916' '540' '173' '238' '335' '137' '891' '405'\n",
      " '528' '225' '312' '837' '355' '980' '622' '289' '475' '959' '965' '500'\n",
      " '261' '741' '868' '494' '968' '381' '694' '610' '734' '310' '246' '634'\n",
      " 'E927' 'E905' '183' '379' '442' 'E917' '163' '514' 'E868' '495' '323'\n",
      " '747' '989' '240' '832' '605' '644' 'V16' '801' '35' '882' 'V70' 'E918'\n",
      " '477' 'V44' '656' '46' '883' 'V13' '842' 'E850' '800' '269' '952' '164'\n",
      " '713' '836' '250.2' '27' 'V63' '865' '911' '793' '156' 'V61' '376' '327'\n",
      " '542' '485' '972' '862' 'E829' 'E919' '944' 'E916' '480' '963' '316'\n",
      " 'E858' '513' '664' 'V62' '645' '347' 'V85' '374' '369' '748' '866' '967'\n",
      " '430' '395' '354' '994' '594' 'E826' '674' '641' 'V53' '822' '145' '797'\n",
      " '826' '353' 'E938' 'E816' '686' '948' '892' '99' '192' 'E906' '534' '527'\n",
      " '452' '698' '945' 'E814' '266' 'E980' 'E881' 'V02' '470' '529' '871'\n",
      " '212' 'E936' '302' '955' '814' '654' 'E924' 'E819' '750' '88' 'V25' '215'\n",
      " '11' '933' '483' 'V11' 'V50' 'V03' 'E968' 'E882' '140' '338' '703' '262'\n",
      " 'E821' '360' '235' '831' '670' '268' '352' '260' '7' '991' '448' '880'\n",
      " '377' 'V86' '619' '180' '318' '588' '523' '863' '649' 'E853' '270' '665'\n",
      " '460' '758' '942' '66' 'E883' '123' '742' 'V60' '843' 'E887' '927']\n",
      "diag_3 = ['?' '255' 'V27' '403' '250' 'V45' '38' '486' '996' '197' '427' '627'\n",
      " '414' '416' '714' '428' '582' 'V43' '250.42' '276' '250.41' '250.01'\n",
      " '585' '781' '998' '568' '682' '278' '618' '250.02' '305' '707' '496'\n",
      " '715' '518' '553' '401' '794' '411' 'V42' '511' '490' '562' '250.8' '482'\n",
      " '250.7' '491' '420' '8' '730' '789' '131' '250.82' '999' '424' '41' '493'\n",
      " '250.03' '529' '263' 'E888' '425' '595' '560' '711' '296' '250.4' '654'\n",
      " '244' 'V70' '599' '625' '250.51' 'V10' '280' '440' '581' '569' '272'\n",
      " '997' '250.43' '918' '54' '788' '461' '535' '891' '332' '648' '780' '285'\n",
      " '413' '664' '201' 'V15' '250.6' '292' '196' '473' '564' 'E932' '459'\n",
      " '437' '733' '525' '250.53' '397' '572' '805' '453' '331' '736' '402'\n",
      " '465' '533' '787' '315' '658' '608' '786' '284' '382' '300' '492' '438'\n",
      " '571' '536' '287' '644' '578' 'V11' 'E885' '162' '198' '218' '303' '412'\n",
      " '396' 'V14' '784' '570' '433' 'E934' '882' '458' '288' '357' '785' '577'\n",
      " '443' '729' '836' '584' '295' '281' '153' '410' '616' '799' '304'\n",
      " '250.83' '291' '512' '660' '426' '250.5' '598' '337' '574' '722' '386'\n",
      " '112' '620' '70' '593' '663' '530' '42' '507' '342' '250.91' 'E884' '307'\n",
      " '704' '596' '728' '583' '710' '238' '441' '573' '290' '594' '319'\n",
      " '250.12' '346' '380' '642' '250.52' '698' '294' '924' 'E933' '309' 'E879'\n",
      " '286' '752' '731' '681' '311' '344' '455' '35' '558' '790' '813' '394'\n",
      " '301' '575' 'V17' '802' '435' 'V12' '881' '724' '716' 'E935' '250.81'\n",
      " '718' '282' '202' '334' '398' 'V44' 'E849' '614' '626' '591' '531'\n",
      " '250.9' '883' 'E878' '617' '429' '442' 'V25' '866' '610' '557' '959' '94'\n",
      " '920' '362' '345' '79' '365' '586' '821' '600' '242' '373' '592' '250.92'\n",
      " '487' '706' '519' 'E947' '478' '340' '656' 'E949' 'V58' '590' 'V09' '995'\n",
      " '923' '958' 'E929' 'V18' 'E942' '737' '665' '275' '279' '522' '293' '791'\n",
      " '517' 'E938' 'E816' '122' '436' '721' 'V65' '515' '136' '480' '135' '537'\n",
      " '250.93' '351' '415' '336' '580' '404' '434' '227' '157' '208' 'V57'\n",
      " '466' '274' '734' '444' 'V23' 'E950' '447' 'V64' '228' '348' '756' 'E928'\n",
      " '552' '53' '138' '528' 'V16' '647' '389' '576' '792' '366' '253' 'E939'\n",
      " '907' '203' '387' '783' '782' '245' '607' 'E930' '705' '372' '611' 'V46'\n",
      " '185' '601' '867' 'E956' '310' '251' '250.2' '712' '695' '343' '746'\n",
      " '723' 'V08' '623' '807' '451' '701' '34' '472' '283' '534' '354' '333'\n",
      " '659' '708' '655' '816' '555' '670' '621' '246' '865' '277' '646' '151'\n",
      " '567' '174' '378' '78' '298' '641' '745' '211' '719' '521' '619' '456'\n",
      " '506' '259' 'E870' '446' '355' '532' '204' '356' '566' '905' '47' '358'\n",
      " '191' '965' '812' '921' '727' '27' '150' 'E861' '477' 'V66' '652' '432'\n",
      " '825' '919' '726' '908' '369' '951' '685' 'E850' '527' '840' '845' '793'\n",
      " '693' '494' '250.1' '155' '692' '199' '969' '205' '462' 'V49' '709'\n",
      " 'E880' '556' '697' '826' '717' '738' '240' '742' '680' '735' '200' '308'\n",
      " '241' '824' '405' '464' '260' '457' '452' '661' '892' '261' '725' 'E883'\n",
      " '945' '696' '318' 'V54' 'E944' '694' '350' '9' 'E941' '170' '317' '759'\n",
      " '831' '180' '360' '289' '306' '811' 'V02' '271' '214' '873' '543' 'V63'\n",
      " '906' '110' '842' '653' '445' '368' '808' '861' '239' 'E852' '220' '359'\n",
      " 'E887' '423' '915' '970' '820' 'E980' '256' '747' '395' '243' '815' '823'\n",
      " '250.13' '5' '796' '250.22' 'E858' '335' '349' '297' '851' '864' '713'\n",
      " '922' '384' '703' '250.11' 'E931' '189' '225' '158' 'E937' '871' '605'\n",
      " '966' 'E812' 'E924' '377' '797' '172' '7' '852' 'E819' '972' '579' 'V72'\n",
      " '916' '956' '188' '686' '173' '193' '154' '862' 'E817' '934' '847' '323'\n",
      " '250.3' '987' '252' '379' '751' '235' '753' 'E855' 'E927' '161' '115'\n",
      " '383' 'V62' '910' '17' '265' 'V60' '266' '417' '152' '183' 'V53' 'E905'\n",
      " '917' '299' '741' '514' '385' 'E906' '516' '470' '844' '962' '510' '814'\n",
      " '912' '850' 'E919' '872' '495' '860' '195' '270' '431' '991' '933' '156'\n",
      " '868' '273' 'E815' '542' 'V61' '853' '374' 'E882' 'E917' '347' 'E822'\n",
      " '810' 'E936' '171' '754' '523' '758' 'V55' 'V85' '657' '604' '312' '953'\n",
      " 'E826' '550' '501' 'E916' '327' '314' 'E943' '460' 'E881' '376' '313'\n",
      " '361' '720' '250.31' '674' 'E813' '226' 'E818' '801' '955' 'E894' 'E920'\n",
      " '880' '930' '381' '182' '795' 'V13' '117' 'E853' '911' '540' 'E828' '430'\n",
      " 'E865' 'E946' 'V86' '338' '388' '690' '139' 'E966' '123' '757' '421'\n",
      " '508' 'E892' '454' '649' '702' '948' 'E886' '481' '588' '624' '909' '841'\n",
      " '800' '463' '217' '353' '163' '877' '500' 'V03' 'E825' '179' '597' '952'\n",
      " '192' '669' '233' '875' '822' '928' 'E900' 'V06' '268' '834' '49' '876'\n",
      " '57' '216' '258' '943' 'E854' '14' '262' '750' '370' '971' '565']\n",
      "number_diagnoses = [ 1  9  6  7  5  8  3  4  2 12 13 16 11 15 10 14]\n",
      "max_glu_serum = ['None' '>300' 'Norm' '>200']\n",
      "A1Cresult = ['None' '>7' '>8' 'Norm']\n",
      "metformin = ['No' 'Steady' 'Up' 'Down']\n",
      "repaglinide = ['No' 'Steady' 'Up' 'Down']\n",
      "nateglinide = ['No' 'Steady' 'Up' 'Down']\n",
      "chlorpropamide = ['No' 'Steady' 'Down' 'Up']\n",
      "glimepiride = ['No' 'Steady' 'Down' 'Up']\n",
      "acetohexamide = ['No' 'Steady']\n",
      "glipizide = ['No' 'Steady' 'Up' 'Down']\n",
      "glyburide = ['No' 'Steady' 'Up' 'Down']\n",
      "tolbutamide = ['No' 'Steady']\n",
      "pioglitazone = ['No' 'Steady' 'Up' 'Down']\n",
      "rosiglitazone = ['No' 'Steady' 'Up' 'Down']\n",
      "acarbose = ['No' 'Steady' 'Up']\n",
      "miglitol = ['No' 'Steady']\n",
      "troglitazone = ['No' 'Steady']\n",
      "tolazamide = ['No' 'Steady']\n",
      "examide = ['No']\n",
      "citoglipton = ['No']\n",
      "insulin = ['No' 'Up' 'Steady' 'Down']\n",
      "glyburide-metformin = ['No' 'Steady' 'Down' 'Up']\n",
      "glipizide-metformin = ['No' 'Steady']\n",
      "glimepiride-pioglitazone = ['No']\n",
      "metformin-rosiglitazone = ['No' 'Steady']\n",
      "metformin-pioglitazone = ['No' 'Steady']\n",
      "change = ['No' 'Ch']\n",
      "diabetesMed = ['No' 'Yes']\n",
      "readmitted = ['NO' '>30' '<30']\n"
     ]
    }
   ],
   "source": [
    "for col in data_raw:\n",
    "    print(f\"{col} = {data_raw[col].unique()}\")"
   ]
  },
  {
   "cell_type": "markdown",
   "metadata": {},
   "source": [
    "**Analysis**\n",
    "\n",
    "- race , weight, payer_code, medical_speciality, diag_2 has '?' value\n",
    "- gender has 'Unknown/Invalid' value\n",
    "\n",
    "- This columns of drugs have the same value in all rows:\n",
    "``` python\n",
    "examide = ['No']\n",
    "citoglipton = ['No']\n",
    "glimepiride-pioglitazone  = ['No']\n",
    "```\n",
    "So don't provide any information for the classifier.\n"
   ]
  },
  {
   "cell_type": "code",
   "execution_count": 11,
   "metadata": {},
   "outputs": [],
   "source": [
    "# drop examine and cotoglipton columns\n",
    "data_raw.drop(['examide','citoglipton','glimepiride-pioglitazone'],axis=1,inplace=True)"
   ]
  },
  {
   "cell_type": "markdown",
   "metadata": {},
   "source": [
    "Number of 'Unknown/Invalid' value in gender"
   ]
  },
  {
   "cell_type": "code",
   "execution_count": 12,
   "metadata": {},
   "outputs": [
    {
     "data": {
      "text/plain": [
       "3"
      ]
     },
     "execution_count": 12,
     "metadata": {},
     "output_type": "execute_result"
    }
   ],
   "source": [
    "data_raw[\"gender\"].nunique()"
   ]
  },
  {
   "cell_type": "markdown",
   "metadata": {},
   "source": [
    "There is only 3 rows so i decide to remove the rows with 'Unknown/Invalid' value"
   ]
  },
  {
   "cell_type": "code",
   "execution_count": 13,
   "metadata": {
    "tags": []
   },
   "outputs": [
    {
     "name": "stdout",
     "output_type": "stream",
     "text": [
      "unique gender data = 2\n"
     ]
    }
   ],
   "source": [
    "data_raw.drop(data_raw[data_raw[\"gender\"] == 'Unknown/Invalid'].index, inplace=True)\n",
    "print(f\"unique gender data = {data_raw['gender'].nunique()}\")"
   ]
  },
  {
   "cell_type": "markdown",
   "metadata": {},
   "source": [
    "### Removing missing values\n",
    "\n",
    "Change '?' per na value and "
   ]
  },
  {
   "cell_type": "code",
   "execution_count": 14,
   "metadata": {},
   "outputs": [],
   "source": [
    "data_raw.replace('?',np.nan,inplace=True)"
   ]
  },
  {
   "cell_type": "markdown",
   "metadata": {},
   "source": [
    "How Many %NA values per Column"
   ]
  },
  {
   "cell_type": "code",
   "execution_count": 15,
   "metadata": {},
   "outputs": [
    {
     "data": {
      "application/vnd.plotly.v1+json": {
       "config": {
        "plotlyServerURL": "https://plotly.com"
       },
       "data": [
        {
         "alignmentgroup": "True",
         "hovertemplate": "index=%{x}<br>value=%{y}<extra></extra>",
         "legendgroup": "race",
         "marker": {
          "color": "#636efa"
         },
         "name": "race",
         "offsetgroup": "race",
         "orientation": "v",
         "showlegend": true,
         "textposition": "auto",
         "type": "bar",
         "x": [
          "race"
         ],
         "xaxis": "x",
         "y": [
          3.047497369607696
         ],
         "yaxis": "y"
        },
        {
         "alignmentgroup": "True",
         "hovertemplate": "index=%{x}<br>value=%{y}<extra></extra>",
         "legendgroup": "gender",
         "marker": {
          "color": "#EF553B"
         },
         "name": "gender",
         "offsetgroup": "gender",
         "orientation": "v",
         "showlegend": true,
         "textposition": "auto",
         "type": "bar",
         "x": [
          "gender"
         ],
         "xaxis": "x",
         "y": [
          0
         ],
         "yaxis": "y"
        },
        {
         "alignmentgroup": "True",
         "hovertemplate": "index=%{x}<br>value=%{y}<extra></extra>",
         "legendgroup": "age",
         "marker": {
          "color": "#00cc96"
         },
         "name": "age",
         "offsetgroup": "age",
         "orientation": "v",
         "showlegend": true,
         "textposition": "auto",
         "type": "bar",
         "x": [
          "age"
         ],
         "xaxis": "x",
         "y": [
          0
         ],
         "yaxis": "y"
        },
        {
         "alignmentgroup": "True",
         "hovertemplate": "index=%{x}<br>value=%{y}<extra></extra>",
         "legendgroup": "weight",
         "marker": {
          "color": "#ab63fa"
         },
         "name": "weight",
         "offsetgroup": "weight",
         "orientation": "v",
         "showlegend": true,
         "textposition": "auto",
         "type": "bar",
         "x": [
          "weight"
         ],
         "xaxis": "x",
         "y": [
          95.31790169848189
         ],
         "yaxis": "y"
        },
        {
         "alignmentgroup": "True",
         "hovertemplate": "index=%{x}<br>value=%{y}<extra></extra>",
         "legendgroup": "admission_type_id",
         "marker": {
          "color": "#FFA15A"
         },
         "name": "admission_type_id",
         "offsetgroup": "admission_type_id",
         "orientation": "v",
         "showlegend": true,
         "textposition": "auto",
         "type": "bar",
         "x": [
          "admission_type_id"
         ],
         "xaxis": "x",
         "y": [
          0
         ],
         "yaxis": "y"
        },
        {
         "alignmentgroup": "True",
         "hovertemplate": "index=%{x}<br>value=%{y}<extra></extra>",
         "legendgroup": "discharge_disposition_id",
         "marker": {
          "color": "#19d3f3"
         },
         "name": "discharge_disposition_id",
         "offsetgroup": "discharge_disposition_id",
         "orientation": "v",
         "showlegend": true,
         "textposition": "auto",
         "type": "bar",
         "x": [
          "discharge_disposition_id"
         ],
         "xaxis": "x",
         "y": [
          0
         ],
         "yaxis": "y"
        },
        {
         "alignmentgroup": "True",
         "hovertemplate": "index=%{x}<br>value=%{y}<extra></extra>",
         "legendgroup": "admission_source_id",
         "marker": {
          "color": "#FF6692"
         },
         "name": "admission_source_id",
         "offsetgroup": "admission_source_id",
         "orientation": "v",
         "showlegend": true,
         "textposition": "auto",
         "type": "bar",
         "x": [
          "admission_source_id"
         ],
         "xaxis": "x",
         "y": [
          0
         ],
         "yaxis": "y"
        },
        {
         "alignmentgroup": "True",
         "hovertemplate": "index=%{x}<br>value=%{y}<extra></extra>",
         "legendgroup": "time_in_hospital",
         "marker": {
          "color": "#B6E880"
         },
         "name": "time_in_hospital",
         "offsetgroup": "time_in_hospital",
         "orientation": "v",
         "showlegend": true,
         "textposition": "auto",
         "type": "bar",
         "x": [
          "time_in_hospital"
         ],
         "xaxis": "x",
         "y": [
          0
         ],
         "yaxis": "y"
        },
        {
         "alignmentgroup": "True",
         "hovertemplate": "index=%{x}<br>value=%{y}<extra></extra>",
         "legendgroup": "payer_code",
         "marker": {
          "color": "#FF97FF"
         },
         "name": "payer_code",
         "offsetgroup": "payer_code",
         "orientation": "v",
         "showlegend": true,
         "textposition": "auto",
         "type": "bar",
         "x": [
          "payer_code"
         ],
         "xaxis": "x",
         "y": [
          45.182624379978954
         ],
         "yaxis": "y"
        },
        {
         "alignmentgroup": "True",
         "hovertemplate": "index=%{x}<br>value=%{y}<extra></extra>",
         "legendgroup": "medical_specialty",
         "marker": {
          "color": "#FECB52"
         },
         "name": "medical_specialty",
         "offsetgroup": "medical_specialty",
         "orientation": "v",
         "showlegend": true,
         "textposition": "auto",
         "type": "bar",
         "x": [
          "medical_specialty"
         ],
         "xaxis": "x",
         "y": [
          47.29821133323313
         ],
         "yaxis": "y"
        },
        {
         "alignmentgroup": "True",
         "hovertemplate": "index=%{x}<br>value=%{y}<extra></extra>",
         "legendgroup": "num_lab_procedures",
         "marker": {
          "color": "#636efa"
         },
         "name": "num_lab_procedures",
         "offsetgroup": "num_lab_procedures",
         "orientation": "v",
         "showlegend": true,
         "textposition": "auto",
         "type": "bar",
         "x": [
          "num_lab_procedures"
         ],
         "xaxis": "x",
         "y": [
          0
         ],
         "yaxis": "y"
        },
        {
         "alignmentgroup": "True",
         "hovertemplate": "index=%{x}<br>value=%{y}<extra></extra>",
         "legendgroup": "num_procedures",
         "marker": {
          "color": "#EF553B"
         },
         "name": "num_procedures",
         "offsetgroup": "num_procedures",
         "orientation": "v",
         "showlegend": true,
         "textposition": "auto",
         "type": "bar",
         "x": [
          "num_procedures"
         ],
         "xaxis": "x",
         "y": [
          0
         ],
         "yaxis": "y"
        },
        {
         "alignmentgroup": "True",
         "hovertemplate": "index=%{x}<br>value=%{y}<extra></extra>",
         "legendgroup": "num_medications",
         "marker": {
          "color": "#00cc96"
         },
         "name": "num_medications",
         "offsetgroup": "num_medications",
         "orientation": "v",
         "showlegend": true,
         "textposition": "auto",
         "type": "bar",
         "x": [
          "num_medications"
         ],
         "xaxis": "x",
         "y": [
          0
         ],
         "yaxis": "y"
        },
        {
         "alignmentgroup": "True",
         "hovertemplate": "index=%{x}<br>value=%{y}<extra></extra>",
         "legendgroup": "number_outpatient",
         "marker": {
          "color": "#ab63fa"
         },
         "name": "number_outpatient",
         "offsetgroup": "number_outpatient",
         "orientation": "v",
         "showlegend": true,
         "textposition": "auto",
         "type": "bar",
         "x": [
          "number_outpatient"
         ],
         "xaxis": "x",
         "y": [
          0
         ],
         "yaxis": "y"
        },
        {
         "alignmentgroup": "True",
         "hovertemplate": "index=%{x}<br>value=%{y}<extra></extra>",
         "legendgroup": "number_emergency",
         "marker": {
          "color": "#FFA15A"
         },
         "name": "number_emergency",
         "offsetgroup": "number_emergency",
         "orientation": "v",
         "showlegend": true,
         "textposition": "auto",
         "type": "bar",
         "x": [
          "number_emergency"
         ],
         "xaxis": "x",
         "y": [
          0
         ],
         "yaxis": "y"
        },
        {
         "alignmentgroup": "True",
         "hovertemplate": "index=%{x}<br>value=%{y}<extra></extra>",
         "legendgroup": "number_inpatient",
         "marker": {
          "color": "#19d3f3"
         },
         "name": "number_inpatient",
         "offsetgroup": "number_inpatient",
         "orientation": "v",
         "showlegend": true,
         "textposition": "auto",
         "type": "bar",
         "x": [
          "number_inpatient"
         ],
         "xaxis": "x",
         "y": [
          0
         ],
         "yaxis": "y"
        },
        {
         "alignmentgroup": "True",
         "hovertemplate": "index=%{x}<br>value=%{y}<extra></extra>",
         "legendgroup": "diag_1",
         "marker": {
          "color": "#FF6692"
         },
         "name": "diag_1",
         "offsetgroup": "diag_1",
         "orientation": "v",
         "showlegend": true,
         "textposition": "auto",
         "type": "bar",
         "x": [
          "diag_1"
         ],
         "xaxis": "x",
         "y": [
          0.015030813166992334
         ],
         "yaxis": "y"
        },
        {
         "alignmentgroup": "True",
         "hovertemplate": "index=%{x}<br>value=%{y}<extra></extra>",
         "legendgroup": "diag_2",
         "marker": {
          "color": "#B6E880"
         },
         "name": "diag_2",
         "offsetgroup": "diag_2",
         "orientation": "v",
         "showlegend": true,
         "textposition": "auto",
         "type": "bar",
         "x": [
          "diag_2"
         ],
         "xaxis": "x",
         "y": [
          0.4847437246355028
         ],
         "yaxis": "y"
        },
        {
         "alignmentgroup": "True",
         "hovertemplate": "index=%{x}<br>value=%{y}<extra></extra>",
         "legendgroup": "diag_3",
         "marker": {
          "color": "#FF97FF"
         },
         "name": "diag_3",
         "offsetgroup": "diag_3",
         "orientation": "v",
         "showlegend": true,
         "textposition": "auto",
         "type": "bar",
         "x": [
          "diag_3"
         ],
         "xaxis": "x",
         "y": [
          1.9427326018337592
         ],
         "yaxis": "y"
        },
        {
         "alignmentgroup": "True",
         "hovertemplate": "index=%{x}<br>value=%{y}<extra></extra>",
         "legendgroup": "number_diagnoses",
         "marker": {
          "color": "#FECB52"
         },
         "name": "number_diagnoses",
         "offsetgroup": "number_diagnoses",
         "orientation": "v",
         "showlegend": true,
         "textposition": "auto",
         "type": "bar",
         "x": [
          "number_diagnoses"
         ],
         "xaxis": "x",
         "y": [
          0
         ],
         "yaxis": "y"
        },
        {
         "alignmentgroup": "True",
         "hovertemplate": "index=%{x}<br>value=%{y}<extra></extra>",
         "legendgroup": "max_glu_serum",
         "marker": {
          "color": "#636efa"
         },
         "name": "max_glu_serum",
         "offsetgroup": "max_glu_serum",
         "orientation": "v",
         "showlegend": true,
         "textposition": "auto",
         "type": "bar",
         "x": [
          "max_glu_serum"
         ],
         "xaxis": "x",
         "y": [
          0
         ],
         "yaxis": "y"
        },
        {
         "alignmentgroup": "True",
         "hovertemplate": "index=%{x}<br>value=%{y}<extra></extra>",
         "legendgroup": "A1Cresult",
         "marker": {
          "color": "#EF553B"
         },
         "name": "A1Cresult",
         "offsetgroup": "A1Cresult",
         "orientation": "v",
         "showlegend": true,
         "textposition": "auto",
         "type": "bar",
         "x": [
          "A1Cresult"
         ],
         "xaxis": "x",
         "y": [
          0
         ],
         "yaxis": "y"
        },
        {
         "alignmentgroup": "True",
         "hovertemplate": "index=%{x}<br>value=%{y}<extra></extra>",
         "legendgroup": "metformin",
         "marker": {
          "color": "#00cc96"
         },
         "name": "metformin",
         "offsetgroup": "metformin",
         "orientation": "v",
         "showlegend": true,
         "textposition": "auto",
         "type": "bar",
         "x": [
          "metformin"
         ],
         "xaxis": "x",
         "y": [
          0
         ],
         "yaxis": "y"
        },
        {
         "alignmentgroup": "True",
         "hovertemplate": "index=%{x}<br>value=%{y}<extra></extra>",
         "legendgroup": "repaglinide",
         "marker": {
          "color": "#ab63fa"
         },
         "name": "repaglinide",
         "offsetgroup": "repaglinide",
         "orientation": "v",
         "showlegend": true,
         "textposition": "auto",
         "type": "bar",
         "x": [
          "repaglinide"
         ],
         "xaxis": "x",
         "y": [
          0
         ],
         "yaxis": "y"
        },
        {
         "alignmentgroup": "True",
         "hovertemplate": "index=%{x}<br>value=%{y}<extra></extra>",
         "legendgroup": "nateglinide",
         "marker": {
          "color": "#FFA15A"
         },
         "name": "nateglinide",
         "offsetgroup": "nateglinide",
         "orientation": "v",
         "showlegend": true,
         "textposition": "auto",
         "type": "bar",
         "x": [
          "nateglinide"
         ],
         "xaxis": "x",
         "y": [
          0
         ],
         "yaxis": "y"
        },
        {
         "alignmentgroup": "True",
         "hovertemplate": "index=%{x}<br>value=%{y}<extra></extra>",
         "legendgroup": "chlorpropamide",
         "marker": {
          "color": "#19d3f3"
         },
         "name": "chlorpropamide",
         "offsetgroup": "chlorpropamide",
         "orientation": "v",
         "showlegend": true,
         "textposition": "auto",
         "type": "bar",
         "x": [
          "chlorpropamide"
         ],
         "xaxis": "x",
         "y": [
          0
         ],
         "yaxis": "y"
        },
        {
         "alignmentgroup": "True",
         "hovertemplate": "index=%{x}<br>value=%{y}<extra></extra>",
         "legendgroup": "glimepiride",
         "marker": {
          "color": "#FF6692"
         },
         "name": "glimepiride",
         "offsetgroup": "glimepiride",
         "orientation": "v",
         "showlegend": true,
         "textposition": "auto",
         "type": "bar",
         "x": [
          "glimepiride"
         ],
         "xaxis": "x",
         "y": [
          0
         ],
         "yaxis": "y"
        },
        {
         "alignmentgroup": "True",
         "hovertemplate": "index=%{x}<br>value=%{y}<extra></extra>",
         "legendgroup": "acetohexamide",
         "marker": {
          "color": "#B6E880"
         },
         "name": "acetohexamide",
         "offsetgroup": "acetohexamide",
         "orientation": "v",
         "showlegend": true,
         "textposition": "auto",
         "type": "bar",
         "x": [
          "acetohexamide"
         ],
         "xaxis": "x",
         "y": [
          0
         ],
         "yaxis": "y"
        },
        {
         "alignmentgroup": "True",
         "hovertemplate": "index=%{x}<br>value=%{y}<extra></extra>",
         "legendgroup": "glipizide",
         "marker": {
          "color": "#FF97FF"
         },
         "name": "glipizide",
         "offsetgroup": "glipizide",
         "orientation": "v",
         "showlegend": true,
         "textposition": "auto",
         "type": "bar",
         "x": [
          "glipizide"
         ],
         "xaxis": "x",
         "y": [
          0
         ],
         "yaxis": "y"
        },
        {
         "alignmentgroup": "True",
         "hovertemplate": "index=%{x}<br>value=%{y}<extra></extra>",
         "legendgroup": "glyburide",
         "marker": {
          "color": "#FECB52"
         },
         "name": "glyburide",
         "offsetgroup": "glyburide",
         "orientation": "v",
         "showlegend": true,
         "textposition": "auto",
         "type": "bar",
         "x": [
          "glyburide"
         ],
         "xaxis": "x",
         "y": [
          0
         ],
         "yaxis": "y"
        },
        {
         "alignmentgroup": "True",
         "hovertemplate": "index=%{x}<br>value=%{y}<extra></extra>",
         "legendgroup": "tolbutamide",
         "marker": {
          "color": "#636efa"
         },
         "name": "tolbutamide",
         "offsetgroup": "tolbutamide",
         "orientation": "v",
         "showlegend": true,
         "textposition": "auto",
         "type": "bar",
         "x": [
          "tolbutamide"
         ],
         "xaxis": "x",
         "y": [
          0
         ],
         "yaxis": "y"
        },
        {
         "alignmentgroup": "True",
         "hovertemplate": "index=%{x}<br>value=%{y}<extra></extra>",
         "legendgroup": "pioglitazone",
         "marker": {
          "color": "#EF553B"
         },
         "name": "pioglitazone",
         "offsetgroup": "pioglitazone",
         "orientation": "v",
         "showlegend": true,
         "textposition": "auto",
         "type": "bar",
         "x": [
          "pioglitazone"
         ],
         "xaxis": "x",
         "y": [
          0
         ],
         "yaxis": "y"
        },
        {
         "alignmentgroup": "True",
         "hovertemplate": "index=%{x}<br>value=%{y}<extra></extra>",
         "legendgroup": "rosiglitazone",
         "marker": {
          "color": "#00cc96"
         },
         "name": "rosiglitazone",
         "offsetgroup": "rosiglitazone",
         "orientation": "v",
         "showlegend": true,
         "textposition": "auto",
         "type": "bar",
         "x": [
          "rosiglitazone"
         ],
         "xaxis": "x",
         "y": [
          0
         ],
         "yaxis": "y"
        },
        {
         "alignmentgroup": "True",
         "hovertemplate": "index=%{x}<br>value=%{y}<extra></extra>",
         "legendgroup": "acarbose",
         "marker": {
          "color": "#ab63fa"
         },
         "name": "acarbose",
         "offsetgroup": "acarbose",
         "orientation": "v",
         "showlegend": true,
         "textposition": "auto",
         "type": "bar",
         "x": [
          "acarbose"
         ],
         "xaxis": "x",
         "y": [
          0
         ],
         "yaxis": "y"
        },
        {
         "alignmentgroup": "True",
         "hovertemplate": "index=%{x}<br>value=%{y}<extra></extra>",
         "legendgroup": "miglitol",
         "marker": {
          "color": "#FFA15A"
         },
         "name": "miglitol",
         "offsetgroup": "miglitol",
         "orientation": "v",
         "showlegend": true,
         "textposition": "auto",
         "type": "bar",
         "x": [
          "miglitol"
         ],
         "xaxis": "x",
         "y": [
          0
         ],
         "yaxis": "y"
        },
        {
         "alignmentgroup": "True",
         "hovertemplate": "index=%{x}<br>value=%{y}<extra></extra>",
         "legendgroup": "troglitazone",
         "marker": {
          "color": "#19d3f3"
         },
         "name": "troglitazone",
         "offsetgroup": "troglitazone",
         "orientation": "v",
         "showlegend": true,
         "textposition": "auto",
         "type": "bar",
         "x": [
          "troglitazone"
         ],
         "xaxis": "x",
         "y": [
          0
         ],
         "yaxis": "y"
        },
        {
         "alignmentgroup": "True",
         "hovertemplate": "index=%{x}<br>value=%{y}<extra></extra>",
         "legendgroup": "tolazamide",
         "marker": {
          "color": "#FF6692"
         },
         "name": "tolazamide",
         "offsetgroup": "tolazamide",
         "orientation": "v",
         "showlegend": true,
         "textposition": "auto",
         "type": "bar",
         "x": [
          "tolazamide"
         ],
         "xaxis": "x",
         "y": [
          0
         ],
         "yaxis": "y"
        },
        {
         "alignmentgroup": "True",
         "hovertemplate": "index=%{x}<br>value=%{y}<extra></extra>",
         "legendgroup": "insulin",
         "marker": {
          "color": "#B6E880"
         },
         "name": "insulin",
         "offsetgroup": "insulin",
         "orientation": "v",
         "showlegend": true,
         "textposition": "auto",
         "type": "bar",
         "x": [
          "insulin"
         ],
         "xaxis": "x",
         "y": [
          0
         ],
         "yaxis": "y"
        },
        {
         "alignmentgroup": "True",
         "hovertemplate": "index=%{x}<br>value=%{y}<extra></extra>",
         "legendgroup": "glyburide-metformin",
         "marker": {
          "color": "#FF97FF"
         },
         "name": "glyburide-metformin",
         "offsetgroup": "glyburide-metformin",
         "orientation": "v",
         "showlegend": true,
         "textposition": "auto",
         "type": "bar",
         "x": [
          "glyburide-metformin"
         ],
         "xaxis": "x",
         "y": [
          0
         ],
         "yaxis": "y"
        },
        {
         "alignmentgroup": "True",
         "hovertemplate": "index=%{x}<br>value=%{y}<extra></extra>",
         "legendgroup": "glipizide-metformin",
         "marker": {
          "color": "#FECB52"
         },
         "name": "glipizide-metformin",
         "offsetgroup": "glipizide-metformin",
         "orientation": "v",
         "showlegend": true,
         "textposition": "auto",
         "type": "bar",
         "x": [
          "glipizide-metformin"
         ],
         "xaxis": "x",
         "y": [
          0
         ],
         "yaxis": "y"
        },
        {
         "alignmentgroup": "True",
         "hovertemplate": "index=%{x}<br>value=%{y}<extra></extra>",
         "legendgroup": "metformin-rosiglitazone",
         "marker": {
          "color": "#636efa"
         },
         "name": "metformin-rosiglitazone",
         "offsetgroup": "metformin-rosiglitazone",
         "orientation": "v",
         "showlegend": true,
         "textposition": "auto",
         "type": "bar",
         "x": [
          "metformin-rosiglitazone"
         ],
         "xaxis": "x",
         "y": [
          0
         ],
         "yaxis": "y"
        },
        {
         "alignmentgroup": "True",
         "hovertemplate": "index=%{x}<br>value=%{y}<extra></extra>",
         "legendgroup": "metformin-pioglitazone",
         "marker": {
          "color": "#EF553B"
         },
         "name": "metformin-pioglitazone",
         "offsetgroup": "metformin-pioglitazone",
         "orientation": "v",
         "showlegend": true,
         "textposition": "auto",
         "type": "bar",
         "x": [
          "metformin-pioglitazone"
         ],
         "xaxis": "x",
         "y": [
          0
         ],
         "yaxis": "y"
        },
        {
         "alignmentgroup": "True",
         "hovertemplate": "index=%{x}<br>value=%{y}<extra></extra>",
         "legendgroup": "change",
         "marker": {
          "color": "#00cc96"
         },
         "name": "change",
         "offsetgroup": "change",
         "orientation": "v",
         "showlegend": true,
         "textposition": "auto",
         "type": "bar",
         "x": [
          "change"
         ],
         "xaxis": "x",
         "y": [
          0
         ],
         "yaxis": "y"
        },
        {
         "alignmentgroup": "True",
         "hovertemplate": "index=%{x}<br>value=%{y}<extra></extra>",
         "legendgroup": "diabetesMed",
         "marker": {
          "color": "#ab63fa"
         },
         "name": "diabetesMed",
         "offsetgroup": "diabetesMed",
         "orientation": "v",
         "showlegend": true,
         "textposition": "auto",
         "type": "bar",
         "x": [
          "diabetesMed"
         ],
         "xaxis": "x",
         "y": [
          0
         ],
         "yaxis": "y"
        },
        {
         "alignmentgroup": "True",
         "hovertemplate": "index=%{x}<br>value=%{y}<extra></extra>",
         "legendgroup": "readmitted",
         "marker": {
          "color": "#FFA15A"
         },
         "name": "readmitted",
         "offsetgroup": "readmitted",
         "orientation": "v",
         "showlegend": true,
         "textposition": "auto",
         "type": "bar",
         "x": [
          "readmitted"
         ],
         "xaxis": "x",
         "y": [
          0
         ],
         "yaxis": "y"
        }
       ],
       "layout": {
        "barmode": "relative",
        "legend": {
         "title": {
          "text": "index"
         },
         "tracegroupgap": 0
        },
        "template": {
         "data": {
          "bar": [
           {
            "error_x": {
             "color": "#2a3f5f"
            },
            "error_y": {
             "color": "#2a3f5f"
            },
            "marker": {
             "line": {
              "color": "#E5ECF6",
              "width": 0.5
             }
            },
            "type": "bar"
           }
          ],
          "barpolar": [
           {
            "marker": {
             "line": {
              "color": "#E5ECF6",
              "width": 0.5
             }
            },
            "type": "barpolar"
           }
          ],
          "carpet": [
           {
            "aaxis": {
             "endlinecolor": "#2a3f5f",
             "gridcolor": "white",
             "linecolor": "white",
             "minorgridcolor": "white",
             "startlinecolor": "#2a3f5f"
            },
            "baxis": {
             "endlinecolor": "#2a3f5f",
             "gridcolor": "white",
             "linecolor": "white",
             "minorgridcolor": "white",
             "startlinecolor": "#2a3f5f"
            },
            "type": "carpet"
           }
          ],
          "choropleth": [
           {
            "colorbar": {
             "outlinewidth": 0,
             "ticks": ""
            },
            "type": "choropleth"
           }
          ],
          "contour": [
           {
            "colorbar": {
             "outlinewidth": 0,
             "ticks": ""
            },
            "colorscale": [
             [
              0,
              "#0d0887"
             ],
             [
              0.1111111111111111,
              "#46039f"
             ],
             [
              0.2222222222222222,
              "#7201a8"
             ],
             [
              0.3333333333333333,
              "#9c179e"
             ],
             [
              0.4444444444444444,
              "#bd3786"
             ],
             [
              0.5555555555555556,
              "#d8576b"
             ],
             [
              0.6666666666666666,
              "#ed7953"
             ],
             [
              0.7777777777777778,
              "#fb9f3a"
             ],
             [
              0.8888888888888888,
              "#fdca26"
             ],
             [
              1,
              "#f0f921"
             ]
            ],
            "type": "contour"
           }
          ],
          "contourcarpet": [
           {
            "colorbar": {
             "outlinewidth": 0,
             "ticks": ""
            },
            "type": "contourcarpet"
           }
          ],
          "heatmap": [
           {
            "colorbar": {
             "outlinewidth": 0,
             "ticks": ""
            },
            "colorscale": [
             [
              0,
              "#0d0887"
             ],
             [
              0.1111111111111111,
              "#46039f"
             ],
             [
              0.2222222222222222,
              "#7201a8"
             ],
             [
              0.3333333333333333,
              "#9c179e"
             ],
             [
              0.4444444444444444,
              "#bd3786"
             ],
             [
              0.5555555555555556,
              "#d8576b"
             ],
             [
              0.6666666666666666,
              "#ed7953"
             ],
             [
              0.7777777777777778,
              "#fb9f3a"
             ],
             [
              0.8888888888888888,
              "#fdca26"
             ],
             [
              1,
              "#f0f921"
             ]
            ],
            "type": "heatmap"
           }
          ],
          "heatmapgl": [
           {
            "colorbar": {
             "outlinewidth": 0,
             "ticks": ""
            },
            "colorscale": [
             [
              0,
              "#0d0887"
             ],
             [
              0.1111111111111111,
              "#46039f"
             ],
             [
              0.2222222222222222,
              "#7201a8"
             ],
             [
              0.3333333333333333,
              "#9c179e"
             ],
             [
              0.4444444444444444,
              "#bd3786"
             ],
             [
              0.5555555555555556,
              "#d8576b"
             ],
             [
              0.6666666666666666,
              "#ed7953"
             ],
             [
              0.7777777777777778,
              "#fb9f3a"
             ],
             [
              0.8888888888888888,
              "#fdca26"
             ],
             [
              1,
              "#f0f921"
             ]
            ],
            "type": "heatmapgl"
           }
          ],
          "histogram": [
           {
            "marker": {
             "colorbar": {
              "outlinewidth": 0,
              "ticks": ""
             }
            },
            "type": "histogram"
           }
          ],
          "histogram2d": [
           {
            "colorbar": {
             "outlinewidth": 0,
             "ticks": ""
            },
            "colorscale": [
             [
              0,
              "#0d0887"
             ],
             [
              0.1111111111111111,
              "#46039f"
             ],
             [
              0.2222222222222222,
              "#7201a8"
             ],
             [
              0.3333333333333333,
              "#9c179e"
             ],
             [
              0.4444444444444444,
              "#bd3786"
             ],
             [
              0.5555555555555556,
              "#d8576b"
             ],
             [
              0.6666666666666666,
              "#ed7953"
             ],
             [
              0.7777777777777778,
              "#fb9f3a"
             ],
             [
              0.8888888888888888,
              "#fdca26"
             ],
             [
              1,
              "#f0f921"
             ]
            ],
            "type": "histogram2d"
           }
          ],
          "histogram2dcontour": [
           {
            "colorbar": {
             "outlinewidth": 0,
             "ticks": ""
            },
            "colorscale": [
             [
              0,
              "#0d0887"
             ],
             [
              0.1111111111111111,
              "#46039f"
             ],
             [
              0.2222222222222222,
              "#7201a8"
             ],
             [
              0.3333333333333333,
              "#9c179e"
             ],
             [
              0.4444444444444444,
              "#bd3786"
             ],
             [
              0.5555555555555556,
              "#d8576b"
             ],
             [
              0.6666666666666666,
              "#ed7953"
             ],
             [
              0.7777777777777778,
              "#fb9f3a"
             ],
             [
              0.8888888888888888,
              "#fdca26"
             ],
             [
              1,
              "#f0f921"
             ]
            ],
            "type": "histogram2dcontour"
           }
          ],
          "mesh3d": [
           {
            "colorbar": {
             "outlinewidth": 0,
             "ticks": ""
            },
            "type": "mesh3d"
           }
          ],
          "parcoords": [
           {
            "line": {
             "colorbar": {
              "outlinewidth": 0,
              "ticks": ""
             }
            },
            "type": "parcoords"
           }
          ],
          "pie": [
           {
            "automargin": true,
            "type": "pie"
           }
          ],
          "scatter": [
           {
            "marker": {
             "colorbar": {
              "outlinewidth": 0,
              "ticks": ""
             }
            },
            "type": "scatter"
           }
          ],
          "scatter3d": [
           {
            "line": {
             "colorbar": {
              "outlinewidth": 0,
              "ticks": ""
             }
            },
            "marker": {
             "colorbar": {
              "outlinewidth": 0,
              "ticks": ""
             }
            },
            "type": "scatter3d"
           }
          ],
          "scattercarpet": [
           {
            "marker": {
             "colorbar": {
              "outlinewidth": 0,
              "ticks": ""
             }
            },
            "type": "scattercarpet"
           }
          ],
          "scattergeo": [
           {
            "marker": {
             "colorbar": {
              "outlinewidth": 0,
              "ticks": ""
             }
            },
            "type": "scattergeo"
           }
          ],
          "scattergl": [
           {
            "marker": {
             "colorbar": {
              "outlinewidth": 0,
              "ticks": ""
             }
            },
            "type": "scattergl"
           }
          ],
          "scattermapbox": [
           {
            "marker": {
             "colorbar": {
              "outlinewidth": 0,
              "ticks": ""
             }
            },
            "type": "scattermapbox"
           }
          ],
          "scatterpolar": [
           {
            "marker": {
             "colorbar": {
              "outlinewidth": 0,
              "ticks": ""
             }
            },
            "type": "scatterpolar"
           }
          ],
          "scatterpolargl": [
           {
            "marker": {
             "colorbar": {
              "outlinewidth": 0,
              "ticks": ""
             }
            },
            "type": "scatterpolargl"
           }
          ],
          "scatterternary": [
           {
            "marker": {
             "colorbar": {
              "outlinewidth": 0,
              "ticks": ""
             }
            },
            "type": "scatterternary"
           }
          ],
          "surface": [
           {
            "colorbar": {
             "outlinewidth": 0,
             "ticks": ""
            },
            "colorscale": [
             [
              0,
              "#0d0887"
             ],
             [
              0.1111111111111111,
              "#46039f"
             ],
             [
              0.2222222222222222,
              "#7201a8"
             ],
             [
              0.3333333333333333,
              "#9c179e"
             ],
             [
              0.4444444444444444,
              "#bd3786"
             ],
             [
              0.5555555555555556,
              "#d8576b"
             ],
             [
              0.6666666666666666,
              "#ed7953"
             ],
             [
              0.7777777777777778,
              "#fb9f3a"
             ],
             [
              0.8888888888888888,
              "#fdca26"
             ],
             [
              1,
              "#f0f921"
             ]
            ],
            "type": "surface"
           }
          ],
          "table": [
           {
            "cells": {
             "fill": {
              "color": "#EBF0F8"
             },
             "line": {
              "color": "white"
             }
            },
            "header": {
             "fill": {
              "color": "#C8D4E3"
             },
             "line": {
              "color": "white"
             }
            },
            "type": "table"
           }
          ]
         },
         "layout": {
          "annotationdefaults": {
           "arrowcolor": "#2a3f5f",
           "arrowhead": 0,
           "arrowwidth": 1
          },
          "coloraxis": {
           "colorbar": {
            "outlinewidth": 0,
            "ticks": ""
           }
          },
          "colorscale": {
           "diverging": [
            [
             0,
             "#8e0152"
            ],
            [
             0.1,
             "#c51b7d"
            ],
            [
             0.2,
             "#de77ae"
            ],
            [
             0.3,
             "#f1b6da"
            ],
            [
             0.4,
             "#fde0ef"
            ],
            [
             0.5,
             "#f7f7f7"
            ],
            [
             0.6,
             "#e6f5d0"
            ],
            [
             0.7,
             "#b8e186"
            ],
            [
             0.8,
             "#7fbc41"
            ],
            [
             0.9,
             "#4d9221"
            ],
            [
             1,
             "#276419"
            ]
           ],
           "sequential": [
            [
             0,
             "#0d0887"
            ],
            [
             0.1111111111111111,
             "#46039f"
            ],
            [
             0.2222222222222222,
             "#7201a8"
            ],
            [
             0.3333333333333333,
             "#9c179e"
            ],
            [
             0.4444444444444444,
             "#bd3786"
            ],
            [
             0.5555555555555556,
             "#d8576b"
            ],
            [
             0.6666666666666666,
             "#ed7953"
            ],
            [
             0.7777777777777778,
             "#fb9f3a"
            ],
            [
             0.8888888888888888,
             "#fdca26"
            ],
            [
             1,
             "#f0f921"
            ]
           ],
           "sequentialminus": [
            [
             0,
             "#0d0887"
            ],
            [
             0.1111111111111111,
             "#46039f"
            ],
            [
             0.2222222222222222,
             "#7201a8"
            ],
            [
             0.3333333333333333,
             "#9c179e"
            ],
            [
             0.4444444444444444,
             "#bd3786"
            ],
            [
             0.5555555555555556,
             "#d8576b"
            ],
            [
             0.6666666666666666,
             "#ed7953"
            ],
            [
             0.7777777777777778,
             "#fb9f3a"
            ],
            [
             0.8888888888888888,
             "#fdca26"
            ],
            [
             1,
             "#f0f921"
            ]
           ]
          },
          "colorway": [
           "#636efa",
           "#EF553B",
           "#00cc96",
           "#ab63fa",
           "#FFA15A",
           "#19d3f3",
           "#FF6692",
           "#B6E880",
           "#FF97FF",
           "#FECB52"
          ],
          "font": {
           "color": "#2a3f5f"
          },
          "geo": {
           "bgcolor": "white",
           "lakecolor": "white",
           "landcolor": "#E5ECF6",
           "showlakes": true,
           "showland": true,
           "subunitcolor": "white"
          },
          "hoverlabel": {
           "align": "left"
          },
          "hovermode": "closest",
          "mapbox": {
           "style": "light"
          },
          "paper_bgcolor": "white",
          "plot_bgcolor": "#E5ECF6",
          "polar": {
           "angularaxis": {
            "gridcolor": "white",
            "linecolor": "white",
            "ticks": ""
           },
           "bgcolor": "#E5ECF6",
           "radialaxis": {
            "gridcolor": "white",
            "linecolor": "white",
            "ticks": ""
           }
          },
          "scene": {
           "xaxis": {
            "backgroundcolor": "#E5ECF6",
            "gridcolor": "white",
            "gridwidth": 2,
            "linecolor": "white",
            "showbackground": true,
            "ticks": "",
            "zerolinecolor": "white"
           },
           "yaxis": {
            "backgroundcolor": "#E5ECF6",
            "gridcolor": "white",
            "gridwidth": 2,
            "linecolor": "white",
            "showbackground": true,
            "ticks": "",
            "zerolinecolor": "white"
           },
           "zaxis": {
            "backgroundcolor": "#E5ECF6",
            "gridcolor": "white",
            "gridwidth": 2,
            "linecolor": "white",
            "showbackground": true,
            "ticks": "",
            "zerolinecolor": "white"
           }
          },
          "shapedefaults": {
           "line": {
            "color": "#2a3f5f"
           }
          },
          "ternary": {
           "aaxis": {
            "gridcolor": "white",
            "linecolor": "white",
            "ticks": ""
           },
           "baxis": {
            "gridcolor": "white",
            "linecolor": "white",
            "ticks": ""
           },
           "bgcolor": "#E5ECF6",
           "caxis": {
            "gridcolor": "white",
            "linecolor": "white",
            "ticks": ""
           }
          },
          "title": {
           "x": 0.05
          },
          "xaxis": {
           "automargin": true,
           "gridcolor": "white",
           "linecolor": "white",
           "ticks": "",
           "title": {
            "standoff": 15
           },
           "zerolinecolor": "white",
           "zerolinewidth": 2
          },
          "yaxis": {
           "automargin": true,
           "gridcolor": "white",
           "linecolor": "white",
           "ticks": "",
           "title": {
            "standoff": 15
           },
           "zerolinecolor": "white",
           "zerolinewidth": 2
          }
         }
        },
        "title": {
         "text": "Percentage of Missing Values per column"
        },
        "xaxis": {
         "anchor": "y",
         "categoryarray": [
          "race",
          "gender",
          "age",
          "weight",
          "admission_type_id",
          "discharge_disposition_id",
          "admission_source_id",
          "time_in_hospital",
          "payer_code",
          "medical_specialty",
          "num_lab_procedures",
          "num_procedures",
          "num_medications",
          "number_outpatient",
          "number_emergency",
          "number_inpatient",
          "diag_1",
          "diag_2",
          "diag_3",
          "number_diagnoses",
          "max_glu_serum",
          "A1Cresult",
          "metformin",
          "repaglinide",
          "nateglinide",
          "chlorpropamide",
          "glimepiride",
          "acetohexamide",
          "glipizide",
          "glyburide",
          "tolbutamide",
          "pioglitazone",
          "rosiglitazone",
          "acarbose",
          "miglitol",
          "troglitazone",
          "tolazamide",
          "insulin",
          "glyburide-metformin",
          "glipizide-metformin",
          "metformin-rosiglitazone",
          "metformin-pioglitazone",
          "change",
          "diabetesMed",
          "readmitted"
         ],
         "categoryorder": "array",
         "domain": [
          0,
          1
         ],
         "title": {
          "text": "index"
         }
        },
        "yaxis": {
         "anchor": "x",
         "domain": [
          0,
          1
         ],
         "title": {
          "text": "value"
         }
        }
       }
      }
     },
     "metadata": {},
     "output_type": "display_data"
    }
   ],
   "source": [
    "(data_raw.isnull().sum()*100/len(data_raw)).plot.bar(title = 'Percentage of Missing Values per column',color=data_raw.columns)"
   ]
  },
  {
   "cell_type": "code",
   "execution_count": 16,
   "metadata": {},
   "outputs": [
    {
     "data": {
      "text/plain": [
       "race                  3.047497\n",
       "weight               95.317902\n",
       "payer_code           45.182624\n",
       "medical_specialty    47.298211\n",
       "diag_1                0.015031\n",
       "diag_2                0.484744\n",
       "diag_3                1.942733\n",
       "dtype: float64"
      ]
     },
     "execution_count": 16,
     "metadata": {},
     "output_type": "execute_result"
    }
   ],
   "source": [
    "missing = data_raw.isnull().sum()\n",
    "missing[missing>0]*100/len(data_raw)"
   ]
  },
  {
   "cell_type": "markdown",
   "metadata": {},
   "source": [
    "\n",
    "Removing columns `weigth` has more than 95% of the values missing\n",
    "\n",
    "The `payer_code` column has more than 45% of missing values and \n",
    "base on the medical ethics, the company who pays the bill is not related with the service and if is readmitted, consequently  will be removed."
   ]
  },
  {
   "cell_type": "code",
   "execution_count": 17,
   "metadata": {},
   "outputs": [],
   "source": [
    "data_raw.drop(['weight','payer_code'],axis=1,inplace=True)"
   ]
  },
  {
   "cell_type": "markdown",
   "metadata": {},
   "source": [
    "Analysis of the `medical_speciality`"
   ]
  },
  {
   "cell_type": "code",
   "execution_count": 18,
   "metadata": {},
   "outputs": [
    {
     "data": {
      "application/vnd.plotly.v1+json": {
       "config": {
        "plotlyServerURL": "https://plotly.com"
       },
       "data": [
        {
         "alignmentgroup": "True",
         "hovertemplate": "index=%{x}<br>value=%{y}<extra></extra>",
         "legendgroup": "InternalMedicine",
         "marker": {
          "color": "#636efa"
         },
         "name": "InternalMedicine",
         "offsetgroup": "InternalMedicine",
         "orientation": "v",
         "showlegend": true,
         "textposition": "auto",
         "type": "bar",
         "x": [
          "InternalMedicine"
         ],
         "xaxis": "x",
         "y": [
          8536
         ],
         "yaxis": "y"
        },
        {
         "alignmentgroup": "True",
         "hovertemplate": "index=%{x}<br>value=%{y}<extra></extra>",
         "legendgroup": "Family/GeneralPractice",
         "marker": {
          "color": "#EF553B"
         },
         "name": "Family/GeneralPractice",
         "offsetgroup": "Family/GeneralPractice",
         "orientation": "v",
         "showlegend": true,
         "textposition": "auto",
         "type": "bar",
         "x": [
          "Family/GeneralPractice"
         ],
         "xaxis": "x",
         "y": [
          3661
         ],
         "yaxis": "y"
        },
        {
         "alignmentgroup": "True",
         "hovertemplate": "index=%{x}<br>value=%{y}<extra></extra>",
         "legendgroup": "Cardiology",
         "marker": {
          "color": "#00cc96"
         },
         "name": "Cardiology",
         "offsetgroup": "Cardiology",
         "orientation": "v",
         "showlegend": true,
         "textposition": "auto",
         "type": "bar",
         "x": [
          "Cardiology"
         ],
         "xaxis": "x",
         "y": [
          3406
         ],
         "yaxis": "y"
        },
        {
         "alignmentgroup": "True",
         "hovertemplate": "index=%{x}<br>value=%{y}<extra></extra>",
         "legendgroup": "Emergency/Trauma",
         "marker": {
          "color": "#ab63fa"
         },
         "name": "Emergency/Trauma",
         "offsetgroup": "Emergency/Trauma",
         "orientation": "v",
         "showlegend": true,
         "textposition": "auto",
         "type": "bar",
         "x": [
          "Emergency/Trauma"
         ],
         "xaxis": "x",
         "y": [
          2886
         ],
         "yaxis": "y"
        },
        {
         "alignmentgroup": "True",
         "hovertemplate": "index=%{x}<br>value=%{y}<extra></extra>",
         "legendgroup": "Surgery-General",
         "marker": {
          "color": "#FFA15A"
         },
         "name": "Surgery-General",
         "offsetgroup": "Surgery-General",
         "orientation": "v",
         "showlegend": true,
         "textposition": "auto",
         "type": "bar",
         "x": [
          "Surgery-General"
         ],
         "xaxis": "x",
         "y": [
          1759
         ],
         "yaxis": "y"
        },
        {
         "alignmentgroup": "True",
         "hovertemplate": "index=%{x}<br>value=%{y}<extra></extra>",
         "legendgroup": "Orthopedics-Reconstructive",
         "marker": {
          "color": "#19d3f3"
         },
         "name": "Orthopedics-Reconstructive",
         "offsetgroup": "Orthopedics-Reconstructive",
         "orientation": "v",
         "showlegend": true,
         "textposition": "auto",
         "type": "bar",
         "x": [
          "Orthopedics-Reconstructive"
         ],
         "xaxis": "x",
         "y": [
          914
         ],
         "yaxis": "y"
        },
        {
         "alignmentgroup": "True",
         "hovertemplate": "index=%{x}<br>value=%{y}<extra></extra>",
         "legendgroup": "Orthopedics",
         "marker": {
          "color": "#FF6692"
         },
         "name": "Orthopedics",
         "offsetgroup": "Orthopedics",
         "orientation": "v",
         "showlegend": true,
         "textposition": "auto",
         "type": "bar",
         "x": [
          "Orthopedics"
         ],
         "xaxis": "x",
         "y": [
          873
         ],
         "yaxis": "y"
        },
        {
         "alignmentgroup": "True",
         "hovertemplate": "index=%{x}<br>value=%{y}<extra></extra>",
         "legendgroup": "Radiologist",
         "marker": {
          "color": "#B6E880"
         },
         "name": "Radiologist",
         "offsetgroup": "Radiologist",
         "orientation": "v",
         "showlegend": true,
         "textposition": "auto",
         "type": "bar",
         "x": [
          "Radiologist"
         ],
         "xaxis": "x",
         "y": [
          611
         ],
         "yaxis": "y"
        },
        {
         "alignmentgroup": "True",
         "hovertemplate": "index=%{x}<br>value=%{y}<extra></extra>",
         "legendgroup": "ObstetricsandGynecology",
         "marker": {
          "color": "#FF97FF"
         },
         "name": "ObstetricsandGynecology",
         "offsetgroup": "ObstetricsandGynecology",
         "orientation": "v",
         "showlegend": true,
         "textposition": "auto",
         "type": "bar",
         "x": [
          "ObstetricsandGynecology"
         ],
         "xaxis": "x",
         "y": [
          532
         ],
         "yaxis": "y"
        },
        {
         "alignmentgroup": "True",
         "hovertemplate": "index=%{x}<br>value=%{y}<extra></extra>",
         "legendgroup": "Pulmonology",
         "marker": {
          "color": "#FECB52"
         },
         "name": "Pulmonology",
         "offsetgroup": "Pulmonology",
         "orientation": "v",
         "showlegend": true,
         "textposition": "auto",
         "type": "bar",
         "x": [
          "Pulmonology"
         ],
         "xaxis": "x",
         "y": [
          509
         ],
         "yaxis": "y"
        },
        {
         "alignmentgroup": "True",
         "hovertemplate": "index=%{x}<br>value=%{y}<extra></extra>",
         "legendgroup": "Nephrology",
         "marker": {
          "color": "#636efa"
         },
         "name": "Nephrology",
         "offsetgroup": "Nephrology",
         "orientation": "v",
         "showlegend": true,
         "textposition": "auto",
         "type": "bar",
         "x": [
          "Nephrology"
         ],
         "xaxis": "x",
         "y": [
          483
         ],
         "yaxis": "y"
        },
        {
         "alignmentgroup": "True",
         "hovertemplate": "index=%{x}<br>value=%{y}<extra></extra>",
         "legendgroup": "Psychiatry",
         "marker": {
          "color": "#EF553B"
         },
         "name": "Psychiatry",
         "offsetgroup": "Psychiatry",
         "orientation": "v",
         "showlegend": true,
         "textposition": "auto",
         "type": "bar",
         "x": [
          "Psychiatry"
         ],
         "xaxis": "x",
         "y": [
          472
         ],
         "yaxis": "y"
        },
        {
         "alignmentgroup": "True",
         "hovertemplate": "index=%{x}<br>value=%{y}<extra></extra>",
         "legendgroup": "Urology",
         "marker": {
          "color": "#00cc96"
         },
         "name": "Urology",
         "offsetgroup": "Urology",
         "orientation": "v",
         "showlegend": true,
         "textposition": "auto",
         "type": "bar",
         "x": [
          "Urology"
         ],
         "xaxis": "x",
         "y": [
          420
         ],
         "yaxis": "y"
        },
        {
         "alignmentgroup": "True",
         "hovertemplate": "index=%{x}<br>value=%{y}<extra></extra>",
         "legendgroup": "Surgery-Cardiovascular/Thoracic",
         "marker": {
          "color": "#ab63fa"
         },
         "name": "Surgery-Cardiovascular/Thoracic",
         "offsetgroup": "Surgery-Cardiovascular/Thoracic",
         "orientation": "v",
         "showlegend": true,
         "textposition": "auto",
         "type": "bar",
         "x": [
          "Surgery-Cardiovascular/Thoracic"
         ],
         "xaxis": "x",
         "y": [
          392
         ],
         "yaxis": "y"
        },
        {
         "alignmentgroup": "True",
         "hovertemplate": "index=%{x}<br>value=%{y}<extra></extra>",
         "legendgroup": "Surgery-Neuro",
         "marker": {
          "color": "#FFA15A"
         },
         "name": "Surgery-Neuro",
         "offsetgroup": "Surgery-Neuro",
         "orientation": "v",
         "showlegend": true,
         "textposition": "auto",
         "type": "bar",
         "x": [
          "Surgery-Neuro"
         ],
         "xaxis": "x",
         "y": [
          360
         ],
         "yaxis": "y"
        },
        {
         "alignmentgroup": "True",
         "hovertemplate": "index=%{x}<br>value=%{y}<extra></extra>",
         "legendgroup": "Gastroenterology",
         "marker": {
          "color": "#19d3f3"
         },
         "name": "Gastroenterology",
         "offsetgroup": "Gastroenterology",
         "orientation": "v",
         "showlegend": true,
         "textposition": "auto",
         "type": "bar",
         "x": [
          "Gastroenterology"
         ],
         "xaxis": "x",
         "y": [
          277
         ],
         "yaxis": "y"
        },
        {
         "alignmentgroup": "True",
         "hovertemplate": "index=%{x}<br>value=%{y}<extra></extra>",
         "legendgroup": "Surgery-Vascular",
         "marker": {
          "color": "#FF6692"
         },
         "name": "Surgery-Vascular",
         "offsetgroup": "Surgery-Vascular",
         "orientation": "v",
         "showlegend": true,
         "textposition": "auto",
         "type": "bar",
         "x": [
          "Surgery-Vascular"
         ],
         "xaxis": "x",
         "y": [
          265
         ],
         "yaxis": "y"
        },
        {
         "alignmentgroup": "True",
         "hovertemplate": "index=%{x}<br>value=%{y}<extra></extra>",
         "legendgroup": "Pediatrics",
         "marker": {
          "color": "#B6E880"
         },
         "name": "Pediatrics",
         "offsetgroup": "Pediatrics",
         "orientation": "v",
         "showlegend": true,
         "textposition": "auto",
         "type": "bar",
         "x": [
          "Pediatrics"
         ],
         "xaxis": "x",
         "y": [
          163
         ],
         "yaxis": "y"
        },
        {
         "alignmentgroup": "True",
         "hovertemplate": "index=%{x}<br>value=%{y}<extra></extra>",
         "legendgroup": "PhysicalMedicineandRehabilitation",
         "marker": {
          "color": "#FF97FF"
         },
         "name": "PhysicalMedicineandRehabilitation",
         "offsetgroup": "PhysicalMedicineandRehabilitation",
         "orientation": "v",
         "showlegend": true,
         "textposition": "auto",
         "type": "bar",
         "x": [
          "PhysicalMedicineandRehabilitation"
         ],
         "xaxis": "x",
         "y": [
          149
         ],
         "yaxis": "y"
        },
        {
         "alignmentgroup": "True",
         "hovertemplate": "index=%{x}<br>value=%{y}<extra></extra>",
         "legendgroup": "Oncology",
         "marker": {
          "color": "#FECB52"
         },
         "name": "Oncology",
         "offsetgroup": "Oncology",
         "orientation": "v",
         "showlegend": true,
         "textposition": "auto",
         "type": "bar",
         "x": [
          "Oncology"
         ],
         "xaxis": "x",
         "y": [
          146
         ],
         "yaxis": "y"
        },
        {
         "alignmentgroup": "True",
         "hovertemplate": "index=%{x}<br>value=%{y}<extra></extra>",
         "legendgroup": "Neurology",
         "marker": {
          "color": "#636efa"
         },
         "name": "Neurology",
         "offsetgroup": "Neurology",
         "orientation": "v",
         "showlegend": true,
         "textposition": "auto",
         "type": "bar",
         "x": [
          "Neurology"
         ],
         "xaxis": "x",
         "y": [
          140
         ],
         "yaxis": "y"
        },
        {
         "alignmentgroup": "True",
         "hovertemplate": "index=%{x}<br>value=%{y}<extra></extra>",
         "legendgroup": "Pediatrics-Endocrinology",
         "marker": {
          "color": "#EF553B"
         },
         "name": "Pediatrics-Endocrinology",
         "offsetgroup": "Pediatrics-Endocrinology",
         "orientation": "v",
         "showlegend": true,
         "textposition": "auto",
         "type": "bar",
         "x": [
          "Pediatrics-Endocrinology"
         ],
         "xaxis": "x",
         "y": [
          137
         ],
         "yaxis": "y"
        },
        {
         "alignmentgroup": "True",
         "hovertemplate": "index=%{x}<br>value=%{y}<extra></extra>",
         "legendgroup": "Otolaryngology",
         "marker": {
          "color": "#00cc96"
         },
         "name": "Otolaryngology",
         "offsetgroup": "Otolaryngology",
         "orientation": "v",
         "showlegend": true,
         "textposition": "auto",
         "type": "bar",
         "x": [
          "Otolaryngology"
         ],
         "xaxis": "x",
         "y": [
          94
         ],
         "yaxis": "y"
        },
        {
         "alignmentgroup": "True",
         "hovertemplate": "index=%{x}<br>value=%{y}<extra></extra>",
         "legendgroup": "Surgery-Thoracic",
         "marker": {
          "color": "#ab63fa"
         },
         "name": "Surgery-Thoracic",
         "offsetgroup": "Surgery-Thoracic",
         "orientation": "v",
         "showlegend": true,
         "textposition": "auto",
         "type": "bar",
         "x": [
          "Surgery-Thoracic"
         ],
         "xaxis": "x",
         "y": [
          83
         ],
         "yaxis": "y"
        },
        {
         "alignmentgroup": "True",
         "hovertemplate": "index=%{x}<br>value=%{y}<extra></extra>",
         "legendgroup": "Surgery-Cardiovascular",
         "marker": {
          "color": "#FFA15A"
         },
         "name": "Surgery-Cardiovascular",
         "offsetgroup": "Surgery-Cardiovascular",
         "orientation": "v",
         "showlegend": true,
         "textposition": "auto",
         "type": "bar",
         "x": [
          "Surgery-Cardiovascular"
         ],
         "xaxis": "x",
         "y": [
          80
         ],
         "yaxis": "y"
        },
        {
         "alignmentgroup": "True",
         "hovertemplate": "index=%{x}<br>value=%{y}<extra></extra>",
         "legendgroup": "Endocrinology",
         "marker": {
          "color": "#19d3f3"
         },
         "name": "Endocrinology",
         "offsetgroup": "Endocrinology",
         "orientation": "v",
         "showlegend": true,
         "textposition": "auto",
         "type": "bar",
         "x": [
          "Endocrinology"
         ],
         "xaxis": "x",
         "y": [
          79
         ],
         "yaxis": "y"
        },
        {
         "alignmentgroup": "True",
         "hovertemplate": "index=%{x}<br>value=%{y}<extra></extra>",
         "legendgroup": "Hematology/Oncology",
         "marker": {
          "color": "#FF6692"
         },
         "name": "Hematology/Oncology",
         "offsetgroup": "Hematology/Oncology",
         "orientation": "v",
         "showlegend": true,
         "textposition": "auto",
         "type": "bar",
         "x": [
          "Hematology/Oncology"
         ],
         "xaxis": "x",
         "y": [
          65
         ],
         "yaxis": "y"
        },
        {
         "alignmentgroup": "True",
         "hovertemplate": "index=%{x}<br>value=%{y}<extra></extra>",
         "legendgroup": "Pediatrics-CriticalCare",
         "marker": {
          "color": "#B6E880"
         },
         "name": "Pediatrics-CriticalCare",
         "offsetgroup": "Pediatrics-CriticalCare",
         "orientation": "v",
         "showlegend": true,
         "textposition": "auto",
         "type": "bar",
         "x": [
          "Pediatrics-CriticalCare"
         ],
         "xaxis": "x",
         "y": [
          57
         ],
         "yaxis": "y"
        },
        {
         "alignmentgroup": "True",
         "hovertemplate": "index=%{x}<br>value=%{y}<extra></extra>",
         "legendgroup": "Gynecology",
         "marker": {
          "color": "#FF97FF"
         },
         "name": "Gynecology",
         "offsetgroup": "Gynecology",
         "orientation": "v",
         "showlegend": true,
         "textposition": "auto",
         "type": "bar",
         "x": [
          "Gynecology"
         ],
         "xaxis": "x",
         "y": [
          51
         ],
         "yaxis": "y"
        },
        {
         "alignmentgroup": "True",
         "hovertemplate": "index=%{x}<br>value=%{y}<extra></extra>",
         "legendgroup": "Podiatry",
         "marker": {
          "color": "#FECB52"
         },
         "name": "Podiatry",
         "offsetgroup": "Podiatry",
         "orientation": "v",
         "showlegend": true,
         "textposition": "auto",
         "type": "bar",
         "x": [
          "Podiatry"
         ],
         "xaxis": "x",
         "y": [
          39
         ],
         "yaxis": "y"
        },
        {
         "alignmentgroup": "True",
         "hovertemplate": "index=%{x}<br>value=%{y}<extra></extra>",
         "legendgroup": "Surgeon",
         "marker": {
          "color": "#636efa"
         },
         "name": "Surgeon",
         "offsetgroup": "Surgeon",
         "orientation": "v",
         "showlegend": true,
         "textposition": "auto",
         "type": "bar",
         "x": [
          "Surgeon"
         ],
         "xaxis": "x",
         "y": [
          38
         ],
         "yaxis": "y"
        },
        {
         "alignmentgroup": "True",
         "hovertemplate": "index=%{x}<br>value=%{y}<extra></extra>",
         "legendgroup": "Psychology",
         "marker": {
          "color": "#EF553B"
         },
         "name": "Psychology",
         "offsetgroup": "Psychology",
         "orientation": "v",
         "showlegend": true,
         "textposition": "auto",
         "type": "bar",
         "x": [
          "Psychology"
         ],
         "xaxis": "x",
         "y": [
          38
         ],
         "yaxis": "y"
        },
        {
         "alignmentgroup": "True",
         "hovertemplate": "index=%{x}<br>value=%{y}<extra></extra>",
         "legendgroup": "Osteopath",
         "marker": {
          "color": "#00cc96"
         },
         "name": "Osteopath",
         "offsetgroup": "Osteopath",
         "orientation": "v",
         "showlegend": true,
         "textposition": "auto",
         "type": "bar",
         "x": [
          "Osteopath"
         ],
         "xaxis": "x",
         "y": [
          36
         ],
         "yaxis": "y"
        },
        {
         "alignmentgroup": "True",
         "hovertemplate": "index=%{x}<br>value=%{y}<extra></extra>",
         "legendgroup": "Ophthalmology",
         "marker": {
          "color": "#ab63fa"
         },
         "name": "Ophthalmology",
         "offsetgroup": "Ophthalmology",
         "orientation": "v",
         "showlegend": true,
         "textposition": "auto",
         "type": "bar",
         "x": [
          "Ophthalmology"
         ],
         "xaxis": "x",
         "y": [
          30
         ],
         "yaxis": "y"
        },
        {
         "alignmentgroup": "True",
         "hovertemplate": "index=%{x}<br>value=%{y}<extra></extra>",
         "legendgroup": "Radiology",
         "marker": {
          "color": "#FFA15A"
         },
         "name": "Radiology",
         "offsetgroup": "Radiology",
         "orientation": "v",
         "showlegend": true,
         "textposition": "auto",
         "type": "bar",
         "x": [
          "Radiology"
         ],
         "xaxis": "x",
         "y": [
          26
         ],
         "yaxis": "y"
        },
        {
         "alignmentgroup": "True",
         "hovertemplate": "index=%{x}<br>value=%{y}<extra></extra>",
         "legendgroup": "Surgery-Plastic",
         "marker": {
          "color": "#19d3f3"
         },
         "name": "Surgery-Plastic",
         "offsetgroup": "Surgery-Plastic",
         "orientation": "v",
         "showlegend": true,
         "textposition": "auto",
         "type": "bar",
         "x": [
          "Surgery-Plastic"
         ],
         "xaxis": "x",
         "y": [
          26
         ],
         "yaxis": "y"
        },
        {
         "alignmentgroup": "True",
         "hovertemplate": "index=%{x}<br>value=%{y}<extra></extra>",
         "legendgroup": "Hospitalist",
         "marker": {
          "color": "#FF6692"
         },
         "name": "Hospitalist",
         "offsetgroup": "Hospitalist",
         "orientation": "v",
         "showlegend": true,
         "textposition": "auto",
         "type": "bar",
         "x": [
          "Hospitalist"
         ],
         "xaxis": "x",
         "y": [
          24
         ],
         "yaxis": "y"
        },
        {
         "alignmentgroup": "True",
         "hovertemplate": "index=%{x}<br>value=%{y}<extra></extra>",
         "legendgroup": "InfectiousDiseases",
         "marker": {
          "color": "#B6E880"
         },
         "name": "InfectiousDiseases",
         "offsetgroup": "InfectiousDiseases",
         "orientation": "v",
         "showlegend": true,
         "textposition": "auto",
         "type": "bar",
         "x": [
          "InfectiousDiseases"
         ],
         "xaxis": "x",
         "y": [
          23
         ],
         "yaxis": "y"
        },
        {
         "alignmentgroup": "True",
         "hovertemplate": "index=%{x}<br>value=%{y}<extra></extra>",
         "legendgroup": "SurgicalSpecialty",
         "marker": {
          "color": "#FF97FF"
         },
         "name": "SurgicalSpecialty",
         "offsetgroup": "SurgicalSpecialty",
         "orientation": "v",
         "showlegend": true,
         "textposition": "auto",
         "type": "bar",
         "x": [
          "SurgicalSpecialty"
         ],
         "xaxis": "x",
         "y": [
          19
         ],
         "yaxis": "y"
        },
        {
         "alignmentgroup": "True",
         "hovertemplate": "index=%{x}<br>value=%{y}<extra></extra>",
         "legendgroup": "Hematology",
         "marker": {
          "color": "#FECB52"
         },
         "name": "Hematology",
         "offsetgroup": "Hematology",
         "orientation": "v",
         "showlegend": true,
         "textposition": "auto",
         "type": "bar",
         "x": [
          "Hematology"
         ],
         "xaxis": "x",
         "y": [
          18
         ],
         "yaxis": "y"
        },
        {
         "alignmentgroup": "True",
         "hovertemplate": "index=%{x}<br>value=%{y}<extra></extra>",
         "legendgroup": "Obstetrics",
         "marker": {
          "color": "#636efa"
         },
         "name": "Obstetrics",
         "offsetgroup": "Obstetrics",
         "orientation": "v",
         "showlegend": true,
         "textposition": "auto",
         "type": "bar",
         "x": [
          "Obstetrics"
         ],
         "xaxis": "x",
         "y": [
          15
         ],
         "yaxis": "y"
        },
        {
         "alignmentgroup": "True",
         "hovertemplate": "index=%{x}<br>value=%{y}<extra></extra>",
         "legendgroup": "Obsterics&Gynecology-GynecologicOnco",
         "marker": {
          "color": "#EF553B"
         },
         "name": "Obsterics&Gynecology-GynecologicOnco",
         "offsetgroup": "Obsterics&Gynecology-GynecologicOnco",
         "orientation": "v",
         "showlegend": true,
         "textposition": "auto",
         "type": "bar",
         "x": [
          "Obsterics&Gynecology-GynecologicOnco"
         ],
         "xaxis": "x",
         "y": [
          14
         ],
         "yaxis": "y"
        },
        {
         "alignmentgroup": "True",
         "hovertemplate": "index=%{x}<br>value=%{y}<extra></extra>",
         "legendgroup": "Anesthesiology-Pediatric",
         "marker": {
          "color": "#00cc96"
         },
         "name": "Anesthesiology-Pediatric",
         "offsetgroup": "Anesthesiology-Pediatric",
         "orientation": "v",
         "showlegend": true,
         "textposition": "auto",
         "type": "bar",
         "x": [
          "Anesthesiology-Pediatric"
         ],
         "xaxis": "x",
         "y": [
          13
         ],
         "yaxis": "y"
        },
        {
         "alignmentgroup": "True",
         "hovertemplate": "index=%{x}<br>value=%{y}<extra></extra>",
         "legendgroup": "Rheumatology",
         "marker": {
          "color": "#ab63fa"
         },
         "name": "Rheumatology",
         "offsetgroup": "Rheumatology",
         "orientation": "v",
         "showlegend": true,
         "textposition": "auto",
         "type": "bar",
         "x": [
          "Rheumatology"
         ],
         "xaxis": "x",
         "y": [
          9
         ],
         "yaxis": "y"
        },
        {
         "alignmentgroup": "True",
         "hovertemplate": "index=%{x}<br>value=%{y}<extra></extra>",
         "legendgroup": "Surgery-Colon&Rectal",
         "marker": {
          "color": "#FFA15A"
         },
         "name": "Surgery-Colon&Rectal",
         "offsetgroup": "Surgery-Colon&Rectal",
         "orientation": "v",
         "showlegend": true,
         "textposition": "auto",
         "type": "bar",
         "x": [
          "Surgery-Colon&Rectal"
         ],
         "xaxis": "x",
         "y": [
          7
         ],
         "yaxis": "y"
        },
        {
         "alignmentgroup": "True",
         "hovertemplate": "index=%{x}<br>value=%{y}<extra></extra>",
         "legendgroup": "Cardiology-Pediatric",
         "marker": {
          "color": "#19d3f3"
         },
         "name": "Cardiology-Pediatric",
         "offsetgroup": "Cardiology-Pediatric",
         "orientation": "v",
         "showlegend": true,
         "textposition": "auto",
         "type": "bar",
         "x": [
          "Cardiology-Pediatric"
         ],
         "xaxis": "x",
         "y": [
          6
         ],
         "yaxis": "y"
        },
        {
         "alignmentgroup": "True",
         "hovertemplate": "index=%{x}<br>value=%{y}<extra></extra>",
         "legendgroup": "Surgery-Maxillofacial",
         "marker": {
          "color": "#FF6692"
         },
         "name": "Surgery-Maxillofacial",
         "offsetgroup": "Surgery-Maxillofacial",
         "orientation": "v",
         "showlegend": true,
         "textposition": "auto",
         "type": "bar",
         "x": [
          "Surgery-Maxillofacial"
         ],
         "xaxis": "x",
         "y": [
          6
         ],
         "yaxis": "y"
        },
        {
         "alignmentgroup": "True",
         "hovertemplate": "index=%{x}<br>value=%{y}<extra></extra>",
         "legendgroup": "Endocrinology-Metabolism",
         "marker": {
          "color": "#B6E880"
         },
         "name": "Endocrinology-Metabolism",
         "offsetgroup": "Endocrinology-Metabolism",
         "orientation": "v",
         "showlegend": true,
         "textposition": "auto",
         "type": "bar",
         "x": [
          "Endocrinology-Metabolism"
         ],
         "xaxis": "x",
         "y": [
          6
         ],
         "yaxis": "y"
        },
        {
         "alignmentgroup": "True",
         "hovertemplate": "index=%{x}<br>value=%{y}<extra></extra>",
         "legendgroup": "Surgery-Pediatric",
         "marker": {
          "color": "#FF97FF"
         },
         "name": "Surgery-Pediatric",
         "offsetgroup": "Surgery-Pediatric",
         "orientation": "v",
         "showlegend": true,
         "textposition": "auto",
         "type": "bar",
         "x": [
          "Surgery-Pediatric"
         ],
         "xaxis": "x",
         "y": [
          6
         ],
         "yaxis": "y"
        },
        {
         "alignmentgroup": "True",
         "hovertemplate": "index=%{x}<br>value=%{y}<extra></extra>",
         "legendgroup": "Anesthesiology",
         "marker": {
          "color": "#FECB52"
         },
         "name": "Anesthesiology",
         "offsetgroup": "Anesthesiology",
         "orientation": "v",
         "showlegend": true,
         "textposition": "auto",
         "type": "bar",
         "x": [
          "Anesthesiology"
         ],
         "xaxis": "x",
         "y": [
          6
         ],
         "yaxis": "y"
        },
        {
         "alignmentgroup": "True",
         "hovertemplate": "index=%{x}<br>value=%{y}<extra></extra>",
         "legendgroup": "PhysicianNotFound",
         "marker": {
          "color": "#636efa"
         },
         "name": "PhysicianNotFound",
         "offsetgroup": "PhysicianNotFound",
         "orientation": "v",
         "showlegend": true,
         "textposition": "auto",
         "type": "bar",
         "x": [
          "PhysicianNotFound"
         ],
         "xaxis": "x",
         "y": [
          6
         ],
         "yaxis": "y"
        },
        {
         "alignmentgroup": "True",
         "hovertemplate": "index=%{x}<br>value=%{y}<extra></extra>",
         "legendgroup": "AllergyandImmunology",
         "marker": {
          "color": "#EF553B"
         },
         "name": "AllergyandImmunology",
         "offsetgroup": "AllergyandImmunology",
         "orientation": "v",
         "showlegend": true,
         "textposition": "auto",
         "type": "bar",
         "x": [
          "AllergyandImmunology"
         ],
         "xaxis": "x",
         "y": [
          5
         ],
         "yaxis": "y"
        },
        {
         "alignmentgroup": "True",
         "hovertemplate": "index=%{x}<br>value=%{y}<extra></extra>",
         "legendgroup": "OutreachServices",
         "marker": {
          "color": "#00cc96"
         },
         "name": "OutreachServices",
         "offsetgroup": "OutreachServices",
         "orientation": "v",
         "showlegend": true,
         "textposition": "auto",
         "type": "bar",
         "x": [
          "OutreachServices"
         ],
         "xaxis": "x",
         "y": [
          5
         ],
         "yaxis": "y"
        },
        {
         "alignmentgroup": "True",
         "hovertemplate": "index=%{x}<br>value=%{y}<extra></extra>",
         "legendgroup": "Psychiatry-Child/Adolescent",
         "marker": {
          "color": "#ab63fa"
         },
         "name": "Psychiatry-Child/Adolescent",
         "offsetgroup": "Psychiatry-Child/Adolescent",
         "orientation": "v",
         "showlegend": true,
         "textposition": "auto",
         "type": "bar",
         "x": [
          "Psychiatry-Child/Adolescent"
         ],
         "xaxis": "x",
         "y": [
          4
         ],
         "yaxis": "y"
        },
        {
         "alignmentgroup": "True",
         "hovertemplate": "index=%{x}<br>value=%{y}<extra></extra>",
         "legendgroup": "Pediatrics-Neurology",
         "marker": {
          "color": "#FFA15A"
         },
         "name": "Pediatrics-Neurology",
         "offsetgroup": "Pediatrics-Neurology",
         "orientation": "v",
         "showlegend": true,
         "textposition": "auto",
         "type": "bar",
         "x": [
          "Pediatrics-Neurology"
         ],
         "xaxis": "x",
         "y": [
          4
         ],
         "yaxis": "y"
        },
        {
         "alignmentgroup": "True",
         "hovertemplate": "index=%{x}<br>value=%{y}<extra></extra>",
         "legendgroup": "Pathology",
         "marker": {
          "color": "#19d3f3"
         },
         "name": "Pathology",
         "offsetgroup": "Pathology",
         "orientation": "v",
         "showlegend": true,
         "textposition": "auto",
         "type": "bar",
         "x": [
          "Pathology"
         ],
         "xaxis": "x",
         "y": [
          4
         ],
         "yaxis": "y"
        },
        {
         "alignmentgroup": "True",
         "hovertemplate": "index=%{x}<br>value=%{y}<extra></extra>",
         "legendgroup": "DCPTEAM",
         "marker": {
          "color": "#FF6692"
         },
         "name": "DCPTEAM",
         "offsetgroup": "DCPTEAM",
         "orientation": "v",
         "showlegend": true,
         "textposition": "auto",
         "type": "bar",
         "x": [
          "DCPTEAM"
         ],
         "xaxis": "x",
         "y": [
          3
         ],
         "yaxis": "y"
        },
        {
         "alignmentgroup": "True",
         "hovertemplate": "index=%{x}<br>value=%{y}<extra></extra>",
         "legendgroup": "Dentistry",
         "marker": {
          "color": "#B6E880"
         },
         "name": "Dentistry",
         "offsetgroup": "Dentistry",
         "orientation": "v",
         "showlegend": true,
         "textposition": "auto",
         "type": "bar",
         "x": [
          "Dentistry"
         ],
         "xaxis": "x",
         "y": [
          3
         ],
         "yaxis": "y"
        },
        {
         "alignmentgroup": "True",
         "hovertemplate": "index=%{x}<br>value=%{y}<extra></extra>",
         "legendgroup": "Pediatrics-EmergencyMedicine",
         "marker": {
          "color": "#FF97FF"
         },
         "name": "Pediatrics-EmergencyMedicine",
         "offsetgroup": "Pediatrics-EmergencyMedicine",
         "orientation": "v",
         "showlegend": true,
         "textposition": "auto",
         "type": "bar",
         "x": [
          "Pediatrics-EmergencyMedicine"
         ],
         "xaxis": "x",
         "y": [
          2
         ],
         "yaxis": "y"
        },
        {
         "alignmentgroup": "True",
         "hovertemplate": "index=%{x}<br>value=%{y}<extra></extra>",
         "legendgroup": "Pediatrics-Hematology-Oncology",
         "marker": {
          "color": "#FECB52"
         },
         "name": "Pediatrics-Hematology-Oncology",
         "offsetgroup": "Pediatrics-Hematology-Oncology",
         "orientation": "v",
         "showlegend": true,
         "textposition": "auto",
         "type": "bar",
         "x": [
          "Pediatrics-Hematology-Oncology"
         ],
         "xaxis": "x",
         "y": [
          2
         ],
         "yaxis": "y"
        },
        {
         "alignmentgroup": "True",
         "hovertemplate": "index=%{x}<br>value=%{y}<extra></extra>",
         "legendgroup": "Perinatology",
         "marker": {
          "color": "#636efa"
         },
         "name": "Perinatology",
         "offsetgroup": "Perinatology",
         "orientation": "v",
         "showlegend": true,
         "textposition": "auto",
         "type": "bar",
         "x": [
          "Perinatology"
         ],
         "xaxis": "x",
         "y": [
          1
         ],
         "yaxis": "y"
        },
        {
         "alignmentgroup": "True",
         "hovertemplate": "index=%{x}<br>value=%{y}<extra></extra>",
         "legendgroup": "Psychiatry-Addictive",
         "marker": {
          "color": "#EF553B"
         },
         "name": "Psychiatry-Addictive",
         "offsetgroup": "Psychiatry-Addictive",
         "orientation": "v",
         "showlegend": true,
         "textposition": "auto",
         "type": "bar",
         "x": [
          "Psychiatry-Addictive"
         ],
         "xaxis": "x",
         "y": [
          1
         ],
         "yaxis": "y"
        },
        {
         "alignmentgroup": "True",
         "hovertemplate": "index=%{x}<br>value=%{y}<extra></extra>",
         "legendgroup": "Neurophysiology",
         "marker": {
          "color": "#00cc96"
         },
         "name": "Neurophysiology",
         "offsetgroup": "Neurophysiology",
         "orientation": "v",
         "showlegend": true,
         "textposition": "auto",
         "type": "bar",
         "x": [
          "Neurophysiology"
         ],
         "xaxis": "x",
         "y": [
          1
         ],
         "yaxis": "y"
        },
        {
         "alignmentgroup": "True",
         "hovertemplate": "index=%{x}<br>value=%{y}<extra></extra>",
         "legendgroup": "Speech",
         "marker": {
          "color": "#ab63fa"
         },
         "name": "Speech",
         "offsetgroup": "Speech",
         "orientation": "v",
         "showlegend": true,
         "textposition": "auto",
         "type": "bar",
         "x": [
          "Speech"
         ],
         "xaxis": "x",
         "y": [
          1
         ],
         "yaxis": "y"
        },
        {
         "alignmentgroup": "True",
         "hovertemplate": "index=%{x}<br>value=%{y}<extra></extra>",
         "legendgroup": "Resident",
         "marker": {
          "color": "#FFA15A"
         },
         "name": "Resident",
         "offsetgroup": "Resident",
         "orientation": "v",
         "showlegend": true,
         "textposition": "auto",
         "type": "bar",
         "x": [
          "Resident"
         ],
         "xaxis": "x",
         "y": [
          1
         ],
         "yaxis": "y"
        },
        {
         "alignmentgroup": "True",
         "hovertemplate": "index=%{x}<br>value=%{y}<extra></extra>",
         "legendgroup": "Proctology",
         "marker": {
          "color": "#19d3f3"
         },
         "name": "Proctology",
         "offsetgroup": "Proctology",
         "orientation": "v",
         "showlegend": true,
         "textposition": "auto",
         "type": "bar",
         "x": [
          "Proctology"
         ],
         "xaxis": "x",
         "y": [
          1
         ],
         "yaxis": "y"
        },
        {
         "alignmentgroup": "True",
         "hovertemplate": "index=%{x}<br>value=%{y}<extra></extra>",
         "legendgroup": "Pediatrics-Pulmonology",
         "marker": {
          "color": "#FF6692"
         },
         "name": "Pediatrics-Pulmonology",
         "offsetgroup": "Pediatrics-Pulmonology",
         "orientation": "v",
         "showlegend": true,
         "textposition": "auto",
         "type": "bar",
         "x": [
          "Pediatrics-Pulmonology"
         ],
         "xaxis": "x",
         "y": [
          1
         ],
         "yaxis": "y"
        }
       ],
       "layout": {
        "barmode": "relative",
        "legend": {
         "title": {
          "text": "index"
         },
         "tracegroupgap": 0
        },
        "template": {
         "data": {
          "bar": [
           {
            "error_x": {
             "color": "#2a3f5f"
            },
            "error_y": {
             "color": "#2a3f5f"
            },
            "marker": {
             "line": {
              "color": "#E5ECF6",
              "width": 0.5
             }
            },
            "type": "bar"
           }
          ],
          "barpolar": [
           {
            "marker": {
             "line": {
              "color": "#E5ECF6",
              "width": 0.5
             }
            },
            "type": "barpolar"
           }
          ],
          "carpet": [
           {
            "aaxis": {
             "endlinecolor": "#2a3f5f",
             "gridcolor": "white",
             "linecolor": "white",
             "minorgridcolor": "white",
             "startlinecolor": "#2a3f5f"
            },
            "baxis": {
             "endlinecolor": "#2a3f5f",
             "gridcolor": "white",
             "linecolor": "white",
             "minorgridcolor": "white",
             "startlinecolor": "#2a3f5f"
            },
            "type": "carpet"
           }
          ],
          "choropleth": [
           {
            "colorbar": {
             "outlinewidth": 0,
             "ticks": ""
            },
            "type": "choropleth"
           }
          ],
          "contour": [
           {
            "colorbar": {
             "outlinewidth": 0,
             "ticks": ""
            },
            "colorscale": [
             [
              0,
              "#0d0887"
             ],
             [
              0.1111111111111111,
              "#46039f"
             ],
             [
              0.2222222222222222,
              "#7201a8"
             ],
             [
              0.3333333333333333,
              "#9c179e"
             ],
             [
              0.4444444444444444,
              "#bd3786"
             ],
             [
              0.5555555555555556,
              "#d8576b"
             ],
             [
              0.6666666666666666,
              "#ed7953"
             ],
             [
              0.7777777777777778,
              "#fb9f3a"
             ],
             [
              0.8888888888888888,
              "#fdca26"
             ],
             [
              1,
              "#f0f921"
             ]
            ],
            "type": "contour"
           }
          ],
          "contourcarpet": [
           {
            "colorbar": {
             "outlinewidth": 0,
             "ticks": ""
            },
            "type": "contourcarpet"
           }
          ],
          "heatmap": [
           {
            "colorbar": {
             "outlinewidth": 0,
             "ticks": ""
            },
            "colorscale": [
             [
              0,
              "#0d0887"
             ],
             [
              0.1111111111111111,
              "#46039f"
             ],
             [
              0.2222222222222222,
              "#7201a8"
             ],
             [
              0.3333333333333333,
              "#9c179e"
             ],
             [
              0.4444444444444444,
              "#bd3786"
             ],
             [
              0.5555555555555556,
              "#d8576b"
             ],
             [
              0.6666666666666666,
              "#ed7953"
             ],
             [
              0.7777777777777778,
              "#fb9f3a"
             ],
             [
              0.8888888888888888,
              "#fdca26"
             ],
             [
              1,
              "#f0f921"
             ]
            ],
            "type": "heatmap"
           }
          ],
          "heatmapgl": [
           {
            "colorbar": {
             "outlinewidth": 0,
             "ticks": ""
            },
            "colorscale": [
             [
              0,
              "#0d0887"
             ],
             [
              0.1111111111111111,
              "#46039f"
             ],
             [
              0.2222222222222222,
              "#7201a8"
             ],
             [
              0.3333333333333333,
              "#9c179e"
             ],
             [
              0.4444444444444444,
              "#bd3786"
             ],
             [
              0.5555555555555556,
              "#d8576b"
             ],
             [
              0.6666666666666666,
              "#ed7953"
             ],
             [
              0.7777777777777778,
              "#fb9f3a"
             ],
             [
              0.8888888888888888,
              "#fdca26"
             ],
             [
              1,
              "#f0f921"
             ]
            ],
            "type": "heatmapgl"
           }
          ],
          "histogram": [
           {
            "marker": {
             "colorbar": {
              "outlinewidth": 0,
              "ticks": ""
             }
            },
            "type": "histogram"
           }
          ],
          "histogram2d": [
           {
            "colorbar": {
             "outlinewidth": 0,
             "ticks": ""
            },
            "colorscale": [
             [
              0,
              "#0d0887"
             ],
             [
              0.1111111111111111,
              "#46039f"
             ],
             [
              0.2222222222222222,
              "#7201a8"
             ],
             [
              0.3333333333333333,
              "#9c179e"
             ],
             [
              0.4444444444444444,
              "#bd3786"
             ],
             [
              0.5555555555555556,
              "#d8576b"
             ],
             [
              0.6666666666666666,
              "#ed7953"
             ],
             [
              0.7777777777777778,
              "#fb9f3a"
             ],
             [
              0.8888888888888888,
              "#fdca26"
             ],
             [
              1,
              "#f0f921"
             ]
            ],
            "type": "histogram2d"
           }
          ],
          "histogram2dcontour": [
           {
            "colorbar": {
             "outlinewidth": 0,
             "ticks": ""
            },
            "colorscale": [
             [
              0,
              "#0d0887"
             ],
             [
              0.1111111111111111,
              "#46039f"
             ],
             [
              0.2222222222222222,
              "#7201a8"
             ],
             [
              0.3333333333333333,
              "#9c179e"
             ],
             [
              0.4444444444444444,
              "#bd3786"
             ],
             [
              0.5555555555555556,
              "#d8576b"
             ],
             [
              0.6666666666666666,
              "#ed7953"
             ],
             [
              0.7777777777777778,
              "#fb9f3a"
             ],
             [
              0.8888888888888888,
              "#fdca26"
             ],
             [
              1,
              "#f0f921"
             ]
            ],
            "type": "histogram2dcontour"
           }
          ],
          "mesh3d": [
           {
            "colorbar": {
             "outlinewidth": 0,
             "ticks": ""
            },
            "type": "mesh3d"
           }
          ],
          "parcoords": [
           {
            "line": {
             "colorbar": {
              "outlinewidth": 0,
              "ticks": ""
             }
            },
            "type": "parcoords"
           }
          ],
          "pie": [
           {
            "automargin": true,
            "type": "pie"
           }
          ],
          "scatter": [
           {
            "marker": {
             "colorbar": {
              "outlinewidth": 0,
              "ticks": ""
             }
            },
            "type": "scatter"
           }
          ],
          "scatter3d": [
           {
            "line": {
             "colorbar": {
              "outlinewidth": 0,
              "ticks": ""
             }
            },
            "marker": {
             "colorbar": {
              "outlinewidth": 0,
              "ticks": ""
             }
            },
            "type": "scatter3d"
           }
          ],
          "scattercarpet": [
           {
            "marker": {
             "colorbar": {
              "outlinewidth": 0,
              "ticks": ""
             }
            },
            "type": "scattercarpet"
           }
          ],
          "scattergeo": [
           {
            "marker": {
             "colorbar": {
              "outlinewidth": 0,
              "ticks": ""
             }
            },
            "type": "scattergeo"
           }
          ],
          "scattergl": [
           {
            "marker": {
             "colorbar": {
              "outlinewidth": 0,
              "ticks": ""
             }
            },
            "type": "scattergl"
           }
          ],
          "scattermapbox": [
           {
            "marker": {
             "colorbar": {
              "outlinewidth": 0,
              "ticks": ""
             }
            },
            "type": "scattermapbox"
           }
          ],
          "scatterpolar": [
           {
            "marker": {
             "colorbar": {
              "outlinewidth": 0,
              "ticks": ""
             }
            },
            "type": "scatterpolar"
           }
          ],
          "scatterpolargl": [
           {
            "marker": {
             "colorbar": {
              "outlinewidth": 0,
              "ticks": ""
             }
            },
            "type": "scatterpolargl"
           }
          ],
          "scatterternary": [
           {
            "marker": {
             "colorbar": {
              "outlinewidth": 0,
              "ticks": ""
             }
            },
            "type": "scatterternary"
           }
          ],
          "surface": [
           {
            "colorbar": {
             "outlinewidth": 0,
             "ticks": ""
            },
            "colorscale": [
             [
              0,
              "#0d0887"
             ],
             [
              0.1111111111111111,
              "#46039f"
             ],
             [
              0.2222222222222222,
              "#7201a8"
             ],
             [
              0.3333333333333333,
              "#9c179e"
             ],
             [
              0.4444444444444444,
              "#bd3786"
             ],
             [
              0.5555555555555556,
              "#d8576b"
             ],
             [
              0.6666666666666666,
              "#ed7953"
             ],
             [
              0.7777777777777778,
              "#fb9f3a"
             ],
             [
              0.8888888888888888,
              "#fdca26"
             ],
             [
              1,
              "#f0f921"
             ]
            ],
            "type": "surface"
           }
          ],
          "table": [
           {
            "cells": {
             "fill": {
              "color": "#EBF0F8"
             },
             "line": {
              "color": "white"
             }
            },
            "header": {
             "fill": {
              "color": "#C8D4E3"
             },
             "line": {
              "color": "white"
             }
            },
            "type": "table"
           }
          ]
         },
         "layout": {
          "annotationdefaults": {
           "arrowcolor": "#2a3f5f",
           "arrowhead": 0,
           "arrowwidth": 1
          },
          "coloraxis": {
           "colorbar": {
            "outlinewidth": 0,
            "ticks": ""
           }
          },
          "colorscale": {
           "diverging": [
            [
             0,
             "#8e0152"
            ],
            [
             0.1,
             "#c51b7d"
            ],
            [
             0.2,
             "#de77ae"
            ],
            [
             0.3,
             "#f1b6da"
            ],
            [
             0.4,
             "#fde0ef"
            ],
            [
             0.5,
             "#f7f7f7"
            ],
            [
             0.6,
             "#e6f5d0"
            ],
            [
             0.7,
             "#b8e186"
            ],
            [
             0.8,
             "#7fbc41"
            ],
            [
             0.9,
             "#4d9221"
            ],
            [
             1,
             "#276419"
            ]
           ],
           "sequential": [
            [
             0,
             "#0d0887"
            ],
            [
             0.1111111111111111,
             "#46039f"
            ],
            [
             0.2222222222222222,
             "#7201a8"
            ],
            [
             0.3333333333333333,
             "#9c179e"
            ],
            [
             0.4444444444444444,
             "#bd3786"
            ],
            [
             0.5555555555555556,
             "#d8576b"
            ],
            [
             0.6666666666666666,
             "#ed7953"
            ],
            [
             0.7777777777777778,
             "#fb9f3a"
            ],
            [
             0.8888888888888888,
             "#fdca26"
            ],
            [
             1,
             "#f0f921"
            ]
           ],
           "sequentialminus": [
            [
             0,
             "#0d0887"
            ],
            [
             0.1111111111111111,
             "#46039f"
            ],
            [
             0.2222222222222222,
             "#7201a8"
            ],
            [
             0.3333333333333333,
             "#9c179e"
            ],
            [
             0.4444444444444444,
             "#bd3786"
            ],
            [
             0.5555555555555556,
             "#d8576b"
            ],
            [
             0.6666666666666666,
             "#ed7953"
            ],
            [
             0.7777777777777778,
             "#fb9f3a"
            ],
            [
             0.8888888888888888,
             "#fdca26"
            ],
            [
             1,
             "#f0f921"
            ]
           ]
          },
          "colorway": [
           "#636efa",
           "#EF553B",
           "#00cc96",
           "#ab63fa",
           "#FFA15A",
           "#19d3f3",
           "#FF6692",
           "#B6E880",
           "#FF97FF",
           "#FECB52"
          ],
          "font": {
           "color": "#2a3f5f"
          },
          "geo": {
           "bgcolor": "white",
           "lakecolor": "white",
           "landcolor": "#E5ECF6",
           "showlakes": true,
           "showland": true,
           "subunitcolor": "white"
          },
          "hoverlabel": {
           "align": "left"
          },
          "hovermode": "closest",
          "mapbox": {
           "style": "light"
          },
          "paper_bgcolor": "white",
          "plot_bgcolor": "#E5ECF6",
          "polar": {
           "angularaxis": {
            "gridcolor": "white",
            "linecolor": "white",
            "ticks": ""
           },
           "bgcolor": "#E5ECF6",
           "radialaxis": {
            "gridcolor": "white",
            "linecolor": "white",
            "ticks": ""
           }
          },
          "scene": {
           "xaxis": {
            "backgroundcolor": "#E5ECF6",
            "gridcolor": "white",
            "gridwidth": 2,
            "linecolor": "white",
            "showbackground": true,
            "ticks": "",
            "zerolinecolor": "white"
           },
           "yaxis": {
            "backgroundcolor": "#E5ECF6",
            "gridcolor": "white",
            "gridwidth": 2,
            "linecolor": "white",
            "showbackground": true,
            "ticks": "",
            "zerolinecolor": "white"
           },
           "zaxis": {
            "backgroundcolor": "#E5ECF6",
            "gridcolor": "white",
            "gridwidth": 2,
            "linecolor": "white",
            "showbackground": true,
            "ticks": "",
            "zerolinecolor": "white"
           }
          },
          "shapedefaults": {
           "line": {
            "color": "#2a3f5f"
           }
          },
          "ternary": {
           "aaxis": {
            "gridcolor": "white",
            "linecolor": "white",
            "ticks": ""
           },
           "baxis": {
            "gridcolor": "white",
            "linecolor": "white",
            "ticks": ""
           },
           "bgcolor": "#E5ECF6",
           "caxis": {
            "gridcolor": "white",
            "linecolor": "white",
            "ticks": ""
           }
          },
          "title": {
           "x": 0.05
          },
          "xaxis": {
           "automargin": true,
           "gridcolor": "white",
           "linecolor": "white",
           "ticks": "",
           "title": {
            "standoff": 15
           },
           "zerolinecolor": "white",
           "zerolinewidth": 2
          },
          "yaxis": {
           "automargin": true,
           "gridcolor": "white",
           "linecolor": "white",
           "ticks": "",
           "title": {
            "standoff": 15
           },
           "zerolinecolor": "white",
           "zerolinewidth": 2
          }
         }
        },
        "title": {
         "text": "medical specialty distribution without n.a's"
        },
        "xaxis": {
         "anchor": "y",
         "categoryarray": [
          "InternalMedicine",
          "Family/GeneralPractice",
          "Cardiology",
          "Emergency/Trauma",
          "Surgery-General",
          "Orthopedics-Reconstructive",
          "Orthopedics",
          "Radiologist",
          "ObstetricsandGynecology",
          "Pulmonology",
          "Nephrology",
          "Psychiatry",
          "Urology",
          "Surgery-Cardiovascular/Thoracic",
          "Surgery-Neuro",
          "Gastroenterology",
          "Surgery-Vascular",
          "Pediatrics",
          "PhysicalMedicineandRehabilitation",
          "Oncology",
          "Neurology",
          "Pediatrics-Endocrinology",
          "Otolaryngology",
          "Surgery-Thoracic",
          "Surgery-Cardiovascular",
          "Endocrinology",
          "Hematology/Oncology",
          "Pediatrics-CriticalCare",
          "Gynecology",
          "Podiatry",
          "Surgeon",
          "Psychology",
          "Osteopath",
          "Ophthalmology",
          "Radiology",
          "Surgery-Plastic",
          "Hospitalist",
          "InfectiousDiseases",
          "SurgicalSpecialty",
          "Hematology",
          "Obstetrics",
          "Obsterics&Gynecology-GynecologicOnco",
          "Anesthesiology-Pediatric",
          "Rheumatology",
          "Surgery-Colon&Rectal",
          "Cardiology-Pediatric",
          "Surgery-Maxillofacial",
          "Endocrinology-Metabolism",
          "Surgery-Pediatric",
          "Anesthesiology",
          "PhysicianNotFound",
          "AllergyandImmunology",
          "OutreachServices",
          "Psychiatry-Child/Adolescent",
          "Pediatrics-Neurology",
          "Pathology",
          "DCPTEAM",
          "Dentistry",
          "Pediatrics-EmergencyMedicine",
          "Pediatrics-Hematology-Oncology",
          "Perinatology",
          "Psychiatry-Addictive",
          "Neurophysiology",
          "Speech",
          "Resident",
          "Proctology",
          "Pediatrics-Pulmonology"
         ],
         "categoryorder": "array",
         "domain": [
          0,
          1
         ],
         "title": {
          "text": "index"
         }
        },
        "yaxis": {
         "anchor": "x",
         "domain": [
          0,
          1
         ],
         "title": {
          "text": "value"
         }
        }
       }
      }
     },
     "metadata": {},
     "output_type": "display_data"
    }
   ],
   "source": [
    "bar = data_raw[\"medical_specialty\"].value_counts()\n",
    "bar.plot.bar(title=\"medical specialty distribution without n.a's\", color=bar.index)"
   ]
  },
  {
   "cell_type": "markdown",
   "metadata": {},
   "source": [
    "I will i'm keeping `medical_specialty` until i perform an statistical analysis of the data,\n",
    "so the `n.a` values will be replace by `Unknown`"
   ]
  },
  {
   "cell_type": "code",
   "execution_count": 19,
   "metadata": {},
   "outputs": [],
   "source": [
    "data_raw[\"medical_specialty\"].fillna('Unknow', inplace=True)"
   ]
  },
  {
   "cell_type": "markdown",
   "metadata": {},
   "source": [
    "Number of duplicated data after removing columns"
   ]
  },
  {
   "cell_type": "code",
   "execution_count": 20,
   "metadata": {
    "tags": []
   },
   "outputs": [
    {
     "name": "stdout",
     "output_type": "stream",
     "text": [
      "Duplicated data = 0\n"
     ]
    }
   ],
   "source": [
    "print(f\"Duplicated data = {len(data_raw)-len(data_raw.drop_duplicates())}\")"
   ]
  },
  {
   "cell_type": "markdown",
   "metadata": {},
   "source": [
    "#### race column analysis\n",
    "\n",
    "The n.a values are less than the 3% of the data"
   ]
  },
  {
   "cell_type": "code",
   "execution_count": 21,
   "metadata": {},
   "outputs": [
    {
     "data": {
      "text/plain": [
       "1622"
      ]
     },
     "execution_count": 21,
     "metadata": {},
     "output_type": "execute_result"
    }
   ],
   "source": [
    "data_raw[\"race\"].isnull().sum()"
   ]
  },
  {
   "cell_type": "markdown",
   "metadata": {},
   "source": [
    "How is the distribution"
   ]
  },
  {
   "cell_type": "code",
   "execution_count": 22,
   "metadata": {},
   "outputs": [
    {
     "data": {
      "text/plain": [
       "array(['Caucasian', 'AfricanAmerican', nan, 'Other', 'Asian', 'Hispanic'],\n",
       "      dtype=object)"
      ]
     },
     "execution_count": 22,
     "metadata": {},
     "output_type": "execute_result"
    }
   ],
   "source": [
    "colum = data_raw[\"race\"].unique()\n",
    "colum"
   ]
  },
  {
   "cell_type": "code",
   "execution_count": 23,
   "metadata": {},
   "outputs": [
    {
     "data": {
      "text/plain": [
       "0          Caucasian\n",
       "1    AfricanAmerican\n",
       "3              Other\n",
       "4              Asian\n",
       "5           Hispanic\n",
       "dtype: object"
      ]
     },
     "execution_count": 23,
     "metadata": {},
     "output_type": "execute_result"
    }
   ],
   "source": [
    "pd.Series(colum).dropna()"
   ]
  },
  {
   "cell_type": "code",
   "execution_count": 24,
   "metadata": {},
   "outputs": [
    {
     "data": {
      "application/vnd.plotly.v1+json": {
       "config": {
        "plotlyServerURL": "https://plotly.com"
       },
       "data": [
        {
         "alignmentgroup": "True",
         "hovertemplate": "index=%{x}<br>value=%{y}<extra></extra>",
         "legendgroup": "Caucasian",
         "marker": {
          "color": "#636efa"
         },
         "name": "Caucasian",
         "offsetgroup": "Caucasian",
         "orientation": "v",
         "showlegend": true,
         "textposition": "auto",
         "type": "bar",
         "x": [
          "Caucasian"
         ],
         "xaxis": "x",
         "y": [
          39735
         ],
         "yaxis": "y"
        },
        {
         "alignmentgroup": "True",
         "hovertemplate": "index=%{x}<br>value=%{y}<extra></extra>",
         "legendgroup": "AfricanAmerican",
         "marker": {
          "color": "#EF553B"
         },
         "name": "AfricanAmerican",
         "offsetgroup": "AfricanAmerican",
         "orientation": "v",
         "showlegend": true,
         "textposition": "auto",
         "type": "bar",
         "x": [
          "AfricanAmerican"
         ],
         "xaxis": "x",
         "y": [
          9298
         ],
         "yaxis": "y"
        },
        {
         "alignmentgroup": "True",
         "hovertemplate": "index=%{x}<br>value=%{y}<extra></extra>",
         "legendgroup": "Hispanic",
         "marker": {
          "color": "#00cc96"
         },
         "name": "Hispanic",
         "offsetgroup": "Hispanic",
         "orientation": "v",
         "showlegend": true,
         "textposition": "auto",
         "type": "bar",
         "x": [
          "Hispanic"
         ],
         "xaxis": "x",
         "y": [
          1206
         ],
         "yaxis": "y"
        },
        {
         "alignmentgroup": "True",
         "hovertemplate": "index=%{x}<br>value=%{y}<extra></extra>",
         "legendgroup": "Other",
         "marker": {
          "color": "#ab63fa"
         },
         "name": "Other",
         "offsetgroup": "Other",
         "orientation": "v",
         "showlegend": true,
         "textposition": "auto",
         "type": "bar",
         "x": [
          "Other"
         ],
         "xaxis": "x",
         "y": [
          946
         ],
         "yaxis": "y"
        },
        {
         "alignmentgroup": "True",
         "hovertemplate": "index=%{x}<br>value=%{y}<extra></extra>",
         "legendgroup": "Asian",
         "marker": {
          "color": "#FFA15A"
         },
         "name": "Asian",
         "offsetgroup": "Asian",
         "orientation": "v",
         "showlegend": true,
         "textposition": "auto",
         "type": "bar",
         "x": [
          "Asian"
         ],
         "xaxis": "x",
         "y": [
          417
         ],
         "yaxis": "y"
        }
       ],
       "layout": {
        "barmode": "relative",
        "legend": {
         "title": {
          "text": "index"
         },
         "tracegroupgap": 0
        },
        "template": {
         "data": {
          "bar": [
           {
            "error_x": {
             "color": "#2a3f5f"
            },
            "error_y": {
             "color": "#2a3f5f"
            },
            "marker": {
             "line": {
              "color": "#E5ECF6",
              "width": 0.5
             }
            },
            "type": "bar"
           }
          ],
          "barpolar": [
           {
            "marker": {
             "line": {
              "color": "#E5ECF6",
              "width": 0.5
             }
            },
            "type": "barpolar"
           }
          ],
          "carpet": [
           {
            "aaxis": {
             "endlinecolor": "#2a3f5f",
             "gridcolor": "white",
             "linecolor": "white",
             "minorgridcolor": "white",
             "startlinecolor": "#2a3f5f"
            },
            "baxis": {
             "endlinecolor": "#2a3f5f",
             "gridcolor": "white",
             "linecolor": "white",
             "minorgridcolor": "white",
             "startlinecolor": "#2a3f5f"
            },
            "type": "carpet"
           }
          ],
          "choropleth": [
           {
            "colorbar": {
             "outlinewidth": 0,
             "ticks": ""
            },
            "type": "choropleth"
           }
          ],
          "contour": [
           {
            "colorbar": {
             "outlinewidth": 0,
             "ticks": ""
            },
            "colorscale": [
             [
              0,
              "#0d0887"
             ],
             [
              0.1111111111111111,
              "#46039f"
             ],
             [
              0.2222222222222222,
              "#7201a8"
             ],
             [
              0.3333333333333333,
              "#9c179e"
             ],
             [
              0.4444444444444444,
              "#bd3786"
             ],
             [
              0.5555555555555556,
              "#d8576b"
             ],
             [
              0.6666666666666666,
              "#ed7953"
             ],
             [
              0.7777777777777778,
              "#fb9f3a"
             ],
             [
              0.8888888888888888,
              "#fdca26"
             ],
             [
              1,
              "#f0f921"
             ]
            ],
            "type": "contour"
           }
          ],
          "contourcarpet": [
           {
            "colorbar": {
             "outlinewidth": 0,
             "ticks": ""
            },
            "type": "contourcarpet"
           }
          ],
          "heatmap": [
           {
            "colorbar": {
             "outlinewidth": 0,
             "ticks": ""
            },
            "colorscale": [
             [
              0,
              "#0d0887"
             ],
             [
              0.1111111111111111,
              "#46039f"
             ],
             [
              0.2222222222222222,
              "#7201a8"
             ],
             [
              0.3333333333333333,
              "#9c179e"
             ],
             [
              0.4444444444444444,
              "#bd3786"
             ],
             [
              0.5555555555555556,
              "#d8576b"
             ],
             [
              0.6666666666666666,
              "#ed7953"
             ],
             [
              0.7777777777777778,
              "#fb9f3a"
             ],
             [
              0.8888888888888888,
              "#fdca26"
             ],
             [
              1,
              "#f0f921"
             ]
            ],
            "type": "heatmap"
           }
          ],
          "heatmapgl": [
           {
            "colorbar": {
             "outlinewidth": 0,
             "ticks": ""
            },
            "colorscale": [
             [
              0,
              "#0d0887"
             ],
             [
              0.1111111111111111,
              "#46039f"
             ],
             [
              0.2222222222222222,
              "#7201a8"
             ],
             [
              0.3333333333333333,
              "#9c179e"
             ],
             [
              0.4444444444444444,
              "#bd3786"
             ],
             [
              0.5555555555555556,
              "#d8576b"
             ],
             [
              0.6666666666666666,
              "#ed7953"
             ],
             [
              0.7777777777777778,
              "#fb9f3a"
             ],
             [
              0.8888888888888888,
              "#fdca26"
             ],
             [
              1,
              "#f0f921"
             ]
            ],
            "type": "heatmapgl"
           }
          ],
          "histogram": [
           {
            "marker": {
             "colorbar": {
              "outlinewidth": 0,
              "ticks": ""
             }
            },
            "type": "histogram"
           }
          ],
          "histogram2d": [
           {
            "colorbar": {
             "outlinewidth": 0,
             "ticks": ""
            },
            "colorscale": [
             [
              0,
              "#0d0887"
             ],
             [
              0.1111111111111111,
              "#46039f"
             ],
             [
              0.2222222222222222,
              "#7201a8"
             ],
             [
              0.3333333333333333,
              "#9c179e"
             ],
             [
              0.4444444444444444,
              "#bd3786"
             ],
             [
              0.5555555555555556,
              "#d8576b"
             ],
             [
              0.6666666666666666,
              "#ed7953"
             ],
             [
              0.7777777777777778,
              "#fb9f3a"
             ],
             [
              0.8888888888888888,
              "#fdca26"
             ],
             [
              1,
              "#f0f921"
             ]
            ],
            "type": "histogram2d"
           }
          ],
          "histogram2dcontour": [
           {
            "colorbar": {
             "outlinewidth": 0,
             "ticks": ""
            },
            "colorscale": [
             [
              0,
              "#0d0887"
             ],
             [
              0.1111111111111111,
              "#46039f"
             ],
             [
              0.2222222222222222,
              "#7201a8"
             ],
             [
              0.3333333333333333,
              "#9c179e"
             ],
             [
              0.4444444444444444,
              "#bd3786"
             ],
             [
              0.5555555555555556,
              "#d8576b"
             ],
             [
              0.6666666666666666,
              "#ed7953"
             ],
             [
              0.7777777777777778,
              "#fb9f3a"
             ],
             [
              0.8888888888888888,
              "#fdca26"
             ],
             [
              1,
              "#f0f921"
             ]
            ],
            "type": "histogram2dcontour"
           }
          ],
          "mesh3d": [
           {
            "colorbar": {
             "outlinewidth": 0,
             "ticks": ""
            },
            "type": "mesh3d"
           }
          ],
          "parcoords": [
           {
            "line": {
             "colorbar": {
              "outlinewidth": 0,
              "ticks": ""
             }
            },
            "type": "parcoords"
           }
          ],
          "pie": [
           {
            "automargin": true,
            "type": "pie"
           }
          ],
          "scatter": [
           {
            "marker": {
             "colorbar": {
              "outlinewidth": 0,
              "ticks": ""
             }
            },
            "type": "scatter"
           }
          ],
          "scatter3d": [
           {
            "line": {
             "colorbar": {
              "outlinewidth": 0,
              "ticks": ""
             }
            },
            "marker": {
             "colorbar": {
              "outlinewidth": 0,
              "ticks": ""
             }
            },
            "type": "scatter3d"
           }
          ],
          "scattercarpet": [
           {
            "marker": {
             "colorbar": {
              "outlinewidth": 0,
              "ticks": ""
             }
            },
            "type": "scattercarpet"
           }
          ],
          "scattergeo": [
           {
            "marker": {
             "colorbar": {
              "outlinewidth": 0,
              "ticks": ""
             }
            },
            "type": "scattergeo"
           }
          ],
          "scattergl": [
           {
            "marker": {
             "colorbar": {
              "outlinewidth": 0,
              "ticks": ""
             }
            },
            "type": "scattergl"
           }
          ],
          "scattermapbox": [
           {
            "marker": {
             "colorbar": {
              "outlinewidth": 0,
              "ticks": ""
             }
            },
            "type": "scattermapbox"
           }
          ],
          "scatterpolar": [
           {
            "marker": {
             "colorbar": {
              "outlinewidth": 0,
              "ticks": ""
             }
            },
            "type": "scatterpolar"
           }
          ],
          "scatterpolargl": [
           {
            "marker": {
             "colorbar": {
              "outlinewidth": 0,
              "ticks": ""
             }
            },
            "type": "scatterpolargl"
           }
          ],
          "scatterternary": [
           {
            "marker": {
             "colorbar": {
              "outlinewidth": 0,
              "ticks": ""
             }
            },
            "type": "scatterternary"
           }
          ],
          "surface": [
           {
            "colorbar": {
             "outlinewidth": 0,
             "ticks": ""
            },
            "colorscale": [
             [
              0,
              "#0d0887"
             ],
             [
              0.1111111111111111,
              "#46039f"
             ],
             [
              0.2222222222222222,
              "#7201a8"
             ],
             [
              0.3333333333333333,
              "#9c179e"
             ],
             [
              0.4444444444444444,
              "#bd3786"
             ],
             [
              0.5555555555555556,
              "#d8576b"
             ],
             [
              0.6666666666666666,
              "#ed7953"
             ],
             [
              0.7777777777777778,
              "#fb9f3a"
             ],
             [
              0.8888888888888888,
              "#fdca26"
             ],
             [
              1,
              "#f0f921"
             ]
            ],
            "type": "surface"
           }
          ],
          "table": [
           {
            "cells": {
             "fill": {
              "color": "#EBF0F8"
             },
             "line": {
              "color": "white"
             }
            },
            "header": {
             "fill": {
              "color": "#C8D4E3"
             },
             "line": {
              "color": "white"
             }
            },
            "type": "table"
           }
          ]
         },
         "layout": {
          "annotationdefaults": {
           "arrowcolor": "#2a3f5f",
           "arrowhead": 0,
           "arrowwidth": 1
          },
          "coloraxis": {
           "colorbar": {
            "outlinewidth": 0,
            "ticks": ""
           }
          },
          "colorscale": {
           "diverging": [
            [
             0,
             "#8e0152"
            ],
            [
             0.1,
             "#c51b7d"
            ],
            [
             0.2,
             "#de77ae"
            ],
            [
             0.3,
             "#f1b6da"
            ],
            [
             0.4,
             "#fde0ef"
            ],
            [
             0.5,
             "#f7f7f7"
            ],
            [
             0.6,
             "#e6f5d0"
            ],
            [
             0.7,
             "#b8e186"
            ],
            [
             0.8,
             "#7fbc41"
            ],
            [
             0.9,
             "#4d9221"
            ],
            [
             1,
             "#276419"
            ]
           ],
           "sequential": [
            [
             0,
             "#0d0887"
            ],
            [
             0.1111111111111111,
             "#46039f"
            ],
            [
             0.2222222222222222,
             "#7201a8"
            ],
            [
             0.3333333333333333,
             "#9c179e"
            ],
            [
             0.4444444444444444,
             "#bd3786"
            ],
            [
             0.5555555555555556,
             "#d8576b"
            ],
            [
             0.6666666666666666,
             "#ed7953"
            ],
            [
             0.7777777777777778,
             "#fb9f3a"
            ],
            [
             0.8888888888888888,
             "#fdca26"
            ],
            [
             1,
             "#f0f921"
            ]
           ],
           "sequentialminus": [
            [
             0,
             "#0d0887"
            ],
            [
             0.1111111111111111,
             "#46039f"
            ],
            [
             0.2222222222222222,
             "#7201a8"
            ],
            [
             0.3333333333333333,
             "#9c179e"
            ],
            [
             0.4444444444444444,
             "#bd3786"
            ],
            [
             0.5555555555555556,
             "#d8576b"
            ],
            [
             0.6666666666666666,
             "#ed7953"
            ],
            [
             0.7777777777777778,
             "#fb9f3a"
            ],
            [
             0.8888888888888888,
             "#fdca26"
            ],
            [
             1,
             "#f0f921"
            ]
           ]
          },
          "colorway": [
           "#636efa",
           "#EF553B",
           "#00cc96",
           "#ab63fa",
           "#FFA15A",
           "#19d3f3",
           "#FF6692",
           "#B6E880",
           "#FF97FF",
           "#FECB52"
          ],
          "font": {
           "color": "#2a3f5f"
          },
          "geo": {
           "bgcolor": "white",
           "lakecolor": "white",
           "landcolor": "#E5ECF6",
           "showlakes": true,
           "showland": true,
           "subunitcolor": "white"
          },
          "hoverlabel": {
           "align": "left"
          },
          "hovermode": "closest",
          "mapbox": {
           "style": "light"
          },
          "paper_bgcolor": "white",
          "plot_bgcolor": "#E5ECF6",
          "polar": {
           "angularaxis": {
            "gridcolor": "white",
            "linecolor": "white",
            "ticks": ""
           },
           "bgcolor": "#E5ECF6",
           "radialaxis": {
            "gridcolor": "white",
            "linecolor": "white",
            "ticks": ""
           }
          },
          "scene": {
           "xaxis": {
            "backgroundcolor": "#E5ECF6",
            "gridcolor": "white",
            "gridwidth": 2,
            "linecolor": "white",
            "showbackground": true,
            "ticks": "",
            "zerolinecolor": "white"
           },
           "yaxis": {
            "backgroundcolor": "#E5ECF6",
            "gridcolor": "white",
            "gridwidth": 2,
            "linecolor": "white",
            "showbackground": true,
            "ticks": "",
            "zerolinecolor": "white"
           },
           "zaxis": {
            "backgroundcolor": "#E5ECF6",
            "gridcolor": "white",
            "gridwidth": 2,
            "linecolor": "white",
            "showbackground": true,
            "ticks": "",
            "zerolinecolor": "white"
           }
          },
          "shapedefaults": {
           "line": {
            "color": "#2a3f5f"
           }
          },
          "ternary": {
           "aaxis": {
            "gridcolor": "white",
            "linecolor": "white",
            "ticks": ""
           },
           "baxis": {
            "gridcolor": "white",
            "linecolor": "white",
            "ticks": ""
           },
           "bgcolor": "#E5ECF6",
           "caxis": {
            "gridcolor": "white",
            "linecolor": "white",
            "ticks": ""
           }
          },
          "title": {
           "x": 0.05
          },
          "xaxis": {
           "automargin": true,
           "gridcolor": "white",
           "linecolor": "white",
           "ticks": "",
           "title": {
            "standoff": 15
           },
           "zerolinecolor": "white",
           "zerolinewidth": 2
          },
          "yaxis": {
           "automargin": true,
           "gridcolor": "white",
           "linecolor": "white",
           "ticks": "",
           "title": {
            "standoff": 15
           },
           "zerolinecolor": "white",
           "zerolinewidth": 2
          }
         }
        },
        "title": {
         "text": "race distribution"
        },
        "xaxis": {
         "anchor": "y",
         "categoryarray": [
          "Caucasian",
          "AfricanAmerican",
          "Hispanic",
          "Other",
          "Asian"
         ],
         "categoryorder": "array",
         "domain": [
          0,
          1
         ],
         "title": {
          "text": "index"
         }
        },
        "yaxis": {
         "anchor": "x",
         "domain": [
          0,
          1
         ],
         "title": {
          "text": "value"
         }
        }
       }
      }
     },
     "metadata": {},
     "output_type": "display_data"
    }
   ],
   "source": [
    "bar = data_raw[\"race\"].value_counts()\n",
    "bar.plot.bar(title=\"race distribution\", color=bar.index)"
   ]
  },
  {
   "cell_type": "markdown",
   "metadata": {},
   "source": [
    "the majority of people in the dataset are caucasian, therefore i'm going to impute the n.a values with the mode."
   ]
  },
  {
   "cell_type": "code",
   "execution_count": 25,
   "metadata": {},
   "outputs": [],
   "source": [
    "data_raw[\"race\"].fillna(data_raw['race'].mode()[0], inplace=True)"
   ]
  },
  {
   "cell_type": "code",
   "execution_count": 26,
   "metadata": {},
   "outputs": [
    {
     "data": {
      "text/plain": [
       "race                           0\n",
       "gender                         0\n",
       "age                            0\n",
       "admission_type_id              0\n",
       "discharge_disposition_id       0\n",
       "admission_source_id            0\n",
       "time_in_hospital               0\n",
       "medical_specialty              0\n",
       "num_lab_procedures             0\n",
       "num_procedures                 0\n",
       "num_medications                0\n",
       "number_outpatient              0\n",
       "number_emergency               0\n",
       "number_inpatient               0\n",
       "diag_1                         8\n",
       "diag_2                       258\n",
       "diag_3                      1034\n",
       "number_diagnoses               0\n",
       "max_glu_serum                  0\n",
       "A1Cresult                      0\n",
       "metformin                      0\n",
       "repaglinide                    0\n",
       "nateglinide                    0\n",
       "chlorpropamide                 0\n",
       "glimepiride                    0\n",
       "acetohexamide                  0\n",
       "glipizide                      0\n",
       "glyburide                      0\n",
       "tolbutamide                    0\n",
       "pioglitazone                   0\n",
       "rosiglitazone                  0\n",
       "acarbose                       0\n",
       "miglitol                       0\n",
       "troglitazone                   0\n",
       "tolazamide                     0\n",
       "insulin                        0\n",
       "glyburide-metformin            0\n",
       "glipizide-metformin            0\n",
       "metformin-rosiglitazone        0\n",
       "metformin-pioglitazone         0\n",
       "change                         0\n",
       "diabetesMed                    0\n",
       "readmitted                     0\n",
       "dtype: int64"
      ]
     },
     "execution_count": 26,
     "metadata": {},
     "output_type": "execute_result"
    }
   ],
   "source": [
    "data_raw.isnull().sum()"
   ]
  },
  {
   "cell_type": "markdown",
   "metadata": {},
   "source": [
    "We take care of patients with at least one diagnostic."
   ]
  },
  {
   "cell_type": "code",
   "execution_count": 27,
   "metadata": {},
   "outputs": [],
   "source": [
    "data_raw.dropna(subset=[\"diag_1\"], inplace = True)"
   ]
  },
  {
   "cell_type": "markdown",
   "metadata": {},
   "source": [
    "Check if when `diag_2` is missing `diag_3` too"
   ]
  },
  {
   "cell_type": "code",
   "execution_count": 28,
   "metadata": {},
   "outputs": [
    {
     "data": {
      "text/plain": [
       "223"
      ]
     },
     "execution_count": 28,
     "metadata": {},
     "output_type": "execute_result"
    }
   ],
   "source": [
    "data_raw[\"diag_3\"].loc[data_raw[\"diag_2\"].isnull()].isnull().sum()"
   ]
  },
  {
   "cell_type": "markdown",
   "metadata": {},
   "source": [
    "if `diag_2` is missing and `diag_3` has a value, copy data from `diag_3` to `diag_2`\n",
    "\n",
    "because `diag_3` is the aditional secondary diagnosis"
   ]
  },
  {
   "cell_type": "code",
   "execution_count": 29,
   "metadata": {},
   "outputs": [],
   "source": [
    "data_raw[\"diag_2\"].loc[data_raw[\"diag_2\"].isnull()] = data_raw[\"diag_3\"].loc[data_raw[\"diag_2\"].isnull()].copy()"
   ]
  },
  {
   "cell_type": "markdown",
   "metadata": {},
   "source": [
    "If the Secondary diagnosis (`diag_2`) is missing will be filled with the primary diagnosis (`diag_1`)."
   ]
  },
  {
   "cell_type": "code",
   "execution_count": 30,
   "metadata": {},
   "outputs": [],
   "source": [
    "data_raw[\"diag_2\"].loc[data_raw[\"diag_2\"].isnull()] = data_raw[\"diag_1\"].loc[data_raw[\"diag_2\"].isnull()].copy()"
   ]
  },
  {
   "cell_type": "markdown",
   "metadata": {},
   "source": [
    "Finally, If the aditional Secondary diagnosis (`diag_3`) is missing will be filled with the secondary diagnosis (`diag_2`)."
   ]
  },
  {
   "cell_type": "code",
   "execution_count": 31,
   "metadata": {},
   "outputs": [],
   "source": [
    "data_raw[\"diag_3\"].loc[data_raw[\"diag_3\"].isnull()] = data_raw[\"diag_2\"].loc[data_raw[\"diag_3\"].isnull()].copy()"
   ]
  },
  {
   "cell_type": "markdown",
   "metadata": {},
   "source": [
    "General Dataframe data"
   ]
  },
  {
   "cell_type": "code",
   "execution_count": 32,
   "metadata": {},
   "outputs": [],
   "source": [
    "# reset data frame index\n",
    "data_raw.reset_index(inplace=True, drop=True)"
   ]
  },
  {
   "cell_type": "code",
   "execution_count": 33,
   "metadata": {
    "tags": []
   },
   "outputs": [
    {
     "name": "stdout",
     "output_type": "stream",
     "text": [
      "<class 'pandas.core.frame.DataFrame'>\n",
      "RangeIndex: 53216 entries, 0 to 53215\n",
      "Data columns (total 43 columns):\n",
      " #   Column                    Non-Null Count  Dtype \n",
      "---  ------                    --------------  ----- \n",
      " 0   race                      53216 non-null  object\n",
      " 1   gender                    53216 non-null  object\n",
      " 2   age                       53216 non-null  object\n",
      " 3   admission_type_id         53216 non-null  int64 \n",
      " 4   discharge_disposition_id  53216 non-null  int64 \n",
      " 5   admission_source_id       53216 non-null  int64 \n",
      " 6   time_in_hospital          53216 non-null  int64 \n",
      " 7   medical_specialty         53216 non-null  object\n",
      " 8   num_lab_procedures        53216 non-null  int64 \n",
      " 9   num_procedures            53216 non-null  int64 \n",
      " 10  num_medications           53216 non-null  int64 \n",
      " 11  number_outpatient         53216 non-null  int64 \n",
      " 12  number_emergency          53216 non-null  int64 \n",
      " 13  number_inpatient          53216 non-null  int64 \n",
      " 14  diag_1                    53216 non-null  object\n",
      " 15  diag_2                    53216 non-null  object\n",
      " 16  diag_3                    53216 non-null  object\n",
      " 17  number_diagnoses          53216 non-null  int64 \n",
      " 18  max_glu_serum             53216 non-null  object\n",
      " 19  A1Cresult                 53216 non-null  object\n",
      " 20  metformin                 53216 non-null  object\n",
      " 21  repaglinide               53216 non-null  object\n",
      " 22  nateglinide               53216 non-null  object\n",
      " 23  chlorpropamide            53216 non-null  object\n",
      " 24  glimepiride               53216 non-null  object\n",
      " 25  acetohexamide             53216 non-null  object\n",
      " 26  glipizide                 53216 non-null  object\n",
      " 27  glyburide                 53216 non-null  object\n",
      " 28  tolbutamide               53216 non-null  object\n",
      " 29  pioglitazone              53216 non-null  object\n",
      " 30  rosiglitazone             53216 non-null  object\n",
      " 31  acarbose                  53216 non-null  object\n",
      " 32  miglitol                  53216 non-null  object\n",
      " 33  troglitazone              53216 non-null  object\n",
      " 34  tolazamide                53216 non-null  object\n",
      " 35  insulin                   53216 non-null  object\n",
      " 36  glyburide-metformin       53216 non-null  object\n",
      " 37  glipizide-metformin       53216 non-null  object\n",
      " 38  metformin-rosiglitazone   53216 non-null  object\n",
      " 39  metformin-pioglitazone    53216 non-null  object\n",
      " 40  change                    53216 non-null  object\n",
      " 41  diabetesMed               53216 non-null  object\n",
      " 42  readmitted                53216 non-null  object\n",
      "dtypes: int64(11), object(32)\n",
      "memory usage: 17.5+ MB\n"
     ]
    }
   ],
   "source": [
    "data_raw.info()"
   ]
  },
  {
   "cell_type": "code",
   "execution_count": 34,
   "metadata": {
    "tags": []
   },
   "outputs": [
    {
     "name": "stdout",
     "output_type": "stream",
     "text": [
      "Total missing values in the dataset = 0\n"
     ]
    }
   ],
   "source": [
    "# Total Missing values in the dataset\n",
    "\n",
    "print(f\"Total missing values in the dataset = {data_raw.isnull().sum().sum()}\")"
   ]
  },
  {
   "cell_type": "markdown",
   "metadata": {},
   "source": [
    "### Save intermediated transformed data\n",
    "Data without:\n",
    "\n",
    " - Duplicates\n",
    " - Missings values\n",
    " - Non informative data for our taks"
   ]
  },
  {
   "cell_type": "code",
   "execution_count": 35,
   "metadata": {},
   "outputs": [],
   "source": [
    "# Dataset is small i will be save in a csv file\n",
    "data_raw.to_csv(\"../data/interim/diabetes_clean.csv\", index = False)"
   ]
  },
  {
   "cell_type": "markdown",
   "metadata": {},
   "source": [
    "# Partial Results\n",
    "\n",
    "Initial raw data:\n",
    "- 101766 rows, 50 Columns , memory usage: 38.8+ MB\n",
    "\n",
    "After cleaning process\n",
    "- 53216 rows , 43 Columns , memory usage: 17.5+ MB"
   ]
  },
  {
   "cell_type": "markdown",
   "metadata": {},
   "source": [
    "# References\n",
    "\n",
    "- Correction to: Hospital Readmission of Patients with Diabetes - https://link.springer.com/article/10.1007/s11892-018-0989-1\n",
    "\n",
    "- Center for disease control and prevention, Diabetes atlas- https://gis.cdc.gov/grasp/diabetes/DiabetesAtlas.html\n",
    "\n",
    "- https://medium.com/@joserzapata/paso-a-paso-en-un-proyecto-machine-learning-bcdd0939d387\n",
    "\n",
    "- Interpretable ML for Diabetes Patient Readmission - https://www.kaggle.com/aldrinl/interpretable-ml-for-diabetes-patient-readmission\n",
    "\n",
    "- Prediction on Hospital Readmission - https://www.kaggle.com/iabhishekofficial/prediction-on-hospital-readmission\n",
    "\n",
    "- Predicting Effective Treatments - https://www.kaggle.com/kavyarall/predicting-effective-treatments/\n"
   ]
  },
  {
   "cell_type": "markdown",
   "metadata": {},
   "source": [
    "[Jose R. Zapata](https://joserzapata.github.io)\n",
    "- https://joserzapata.github.io\n",
    "- https://twitter.com/joserzapata\n",
    "- https://www.linkedin.com/in/jose-ricardo-zapata-gonzalez/   "
   ]
  }
 ],
 "metadata": {
  "colab": {
   "collapsed_sections": [
    "mXQHmtMbHJoh",
    "3aVUkwJVHJom",
    "9SfZHh6oHJor",
    "1S_iRK8rHJo0",
    "Ey5Lk8evHJo3",
    "0Y0UV-GVHJo6",
    "he4lxsEUHJpM",
    "h0FKIrJHHJpO",
    "jYPdefrhHJpS",
    "zUundEM6HJpT",
    "2GNrgJzHHJpW",
    "uRwep7LjHJpZ",
    "JCcM4XFbHJpd"
   ],
   "name": "Trabajo_Preparacion_Datos_JoseR_Zapata.ipynb",
   "provenance": []
  },
  "kernelspec": {
   "display_name": "Python 3",
   "language": "python",
   "name": "python3"
  },
  "language_info": {
   "codemirror_mode": {
    "name": "ipython",
    "version": 3
   },
   "file_extension": ".py",
   "mimetype": "text/x-python",
   "name": "python",
   "nbconvert_exporter": "python",
   "pygments_lexer": "ipython3",
   "version": "3.8.3"
  },
  "nbTranslate": {
   "displayLangs": [
    "es",
    "en"
   ],
   "hotkey": "alt-t",
   "langInMainMenu": true,
   "sourceLang": "en",
   "targetLang": "es",
   "useGoogleTranslate": true
  },
  "toc": {
   "base_numbering": 1,
   "nav_menu": {},
   "number_sections": true,
   "sideBar": true,
   "skip_h1_title": false,
   "title_cell": "Contenido",
   "title_sidebar": "Contenido",
   "toc_cell": true,
   "toc_position": {},
   "toc_section_display": true,
   "toc_window_display": true
  },
  "varInspector": {
   "cols": {
    "lenName": 16,
    "lenType": 16,
    "lenVar": 40
   },
   "kernels_config": {
    "python": {
     "delete_cmd_postfix": "",
     "delete_cmd_prefix": "del ",
     "library": "var_list.py",
     "varRefreshCmd": "print(var_dic_list())"
    },
    "r": {
     "delete_cmd_postfix": ") ",
     "delete_cmd_prefix": "rm(",
     "library": "var_list.r",
     "varRefreshCmd": "cat(var_dic_list()) "
    }
   },
   "types_to_exclude": [
    "module",
    "function",
    "builtin_function_or_method",
    "instance",
    "_Feature"
   ],
   "window_display": false
  }
 },
 "nbformat": 4,
 "nbformat_minor": 4
}
